{
  "nbformat": 4,
  "nbformat_minor": 0,
  "metadata": {
    "colab": {
      "provenance": [],
      "collapsed_sections": [
        "T3ULPx4Y1LiR",
        "7ppnan-_ELFI",
        "2vPYCnS8ERmg",
        "mJ708zvl627q",
        "jjtVkYOKxTo7",
        "usL5LynSI6rE"
      ]
    },
    "kernelspec": {
      "name": "python3",
      "display_name": "Python 3"
    },
    "language_info": {
      "name": "python"
    }
  },
  "cells": [
    {
      "cell_type": "markdown",
      "metadata": {
        "id": "Z-h_wDcNlH_K"
      },
      "source": [
        "#00 - Configuration of Apache Spark on Collaboratory\n"
      ]
    },
    {
      "cell_type": "markdown",
      "metadata": {
        "id": "kvD4HBMi0ohY"
      },
      "source": [
        "###Installing Java, Spark, and Findspark\n",
        "\n",
        "\n",
        "---\n",
        "\n",
        "\n",
        "This code installs Apache Spark 2.4.4, Java 8, and [Findspark](https://github.com/minrk/findspark), a library that makes it easy for Python to find Spark."
      ]
    },
    {
      "cell_type": "code",
      "metadata": {
        "id": "KsAfQ0CrgnWf",
        "colab": {
          "base_uri": "https://localhost:8080/"
        },
        "outputId": "6aa764e5-de03-42af-851c-c7e6eb201a7e"
      },
      "source": [
        "!apt-get update\n",
        "!apt-get install openjdk-8-jdk-headless -qq > /dev/null\n",
        "!wget  http://apache.osuosl.org/spark/spark-3.2.3/spark-3.2.3-bin-hadoop2.7.tgz   \n",
        "!tar xf spark-3.2.3-bin-hadoop2.7.tgz  \n",
        "!rm spark-3.2.3-bin-hadoop2.7.tgz    \n",
        "!pip install -q findspark"
      ],
      "execution_count": 251,
      "outputs": [
        {
          "output_type": "stream",
          "name": "stdout",
          "text": [
            "\r0% [Working]\r            \rHit:1 https://cloud.r-project.org/bin/linux/ubuntu focal-cran40/ InRelease\n",
            "\r0% [Connecting to archive.ubuntu.com (185.125.190.36)] [Waiting for headers] [W\r                                                                               \rIgn:2 https://developer.download.nvidia.com/compute/machine-learning/repos/ubuntu2004/x86_64  InRelease\n",
            "\r0% [Connecting to archive.ubuntu.com (185.125.190.36)] [Waiting for headers] [W\r                                                                               \rHit:3 https://developer.download.nvidia.com/compute/cuda/repos/ubuntu2004/x86_64  InRelease\n",
            "\r0% [Connecting to archive.ubuntu.com (185.125.190.36)] [Waiting for headers] [C\r                                                                               \rHit:4 https://developer.download.nvidia.com/compute/machine-learning/repos/ubuntu2004/x86_64  Release\n",
            "Get:5 http://security.ubuntu.com/ubuntu focal-security InRelease [114 kB]\n",
            "Hit:6 http://ppa.launchpad.net/c2d4u.team/c2d4u4.0+/ubuntu focal InRelease\n",
            "Hit:7 http://archive.ubuntu.com/ubuntu focal InRelease\n",
            "Get:8 http://archive.ubuntu.com/ubuntu focal-updates InRelease [114 kB]\n",
            "Hit:9 http://ppa.launchpad.net/cran/libgit2/ubuntu focal InRelease\n",
            "Hit:10 http://ppa.launchpad.net/deadsnakes/ppa/ubuntu focal InRelease\n",
            "Get:11 http://archive.ubuntu.com/ubuntu focal-backports InRelease [108 kB]\n",
            "Hit:12 http://ppa.launchpad.net/graphics-drivers/ppa/ubuntu focal InRelease\n",
            "Fetched 336 kB in 4s (92.5 kB/s)\n",
            "Reading package lists... Done\n",
            "--2023-01-22 11:05:11--  http://apache.osuosl.org/spark/spark-3.2.3/spark-3.2.3-bin-hadoop2.7.tgz\n",
            "Resolving apache.osuosl.org (apache.osuosl.org)... 140.211.166.134, 64.50.236.52, 64.50.233.100, ...\n",
            "Connecting to apache.osuosl.org (apache.osuosl.org)|140.211.166.134|:80... connected.\n",
            "HTTP request sent, awaiting response... 200 OK\n",
            "Length: 272866820 (260M) [application/x-gzip]\n",
            "Saving to: ‘spark-3.2.3-bin-hadoop2.7.tgz’\n",
            "\n",
            "spark-3.2.3-bin-had 100%[===================>] 260.23M   151MB/s    in 1.7s    \n",
            "\n",
            "2023-01-22 11:05:13 (151 MB/s) - ‘spark-3.2.3-bin-hadoop2.7.tgz’ saved [272866820/272866820]\n",
            "\n"
          ]
        }
      ]
    },
    {
      "cell_type": "code",
      "source": [
        "!wget https://repos.spark-packages.org/graphframes/graphframes/0.8.2-spark3.2-s_2.12/graphframes-0.8.2-spark3.2-s_2.12.jar"
      ],
      "metadata": {
        "colab": {
          "base_uri": "https://localhost:8080/"
        },
        "id": "D3WgrApN5MmD",
        "outputId": "8dcab27f-5b3e-4ba2-e493-b6fdf6f7c743"
      },
      "execution_count": 252,
      "outputs": [
        {
          "output_type": "stream",
          "name": "stdout",
          "text": [
            "--2023-01-22 11:05:21--  https://repos.spark-packages.org/graphframes/graphframes/0.8.2-spark3.2-s_2.12/graphframes-0.8.2-spark3.2-s_2.12.jar\n",
            "Resolving repos.spark-packages.org (repos.spark-packages.org)... 18.172.170.46, 18.172.170.21, 18.172.170.17, ...\n",
            "Connecting to repos.spark-packages.org (repos.spark-packages.org)|18.172.170.46|:443... connected.\n",
            "HTTP request sent, awaiting response... 200 OK\n",
            "Length: 247880 (242K) [binary/octet-stream]\n",
            "Saving to: ‘graphframes-0.8.2-spark3.2-s_2.12.jar’\n",
            "\n",
            "\r          graphfram   0%[                    ]       0  --.-KB/s               \rgraphframes-0.8.2-s 100%[===================>] 242.07K  --.-KB/s    in 0.02s   \n",
            "\n",
            "2023-01-22 11:05:21 (11.6 MB/s) - ‘graphframes-0.8.2-spark3.2-s_2.12.jar’ saved [247880/247880]\n",
            "\n"
          ]
        }
      ]
    },
    {
      "cell_type": "markdown",
      "metadata": {
        "id": "b4Kjvk_h1AHl"
      },
      "source": [
        "### Set Environment Variables\n",
        "Set the locations where Spark and Java are installed."
      ]
    },
    {
      "cell_type": "code",
      "metadata": {
        "id": "hiOoj3rUgnVx",
        "colab": {
          "base_uri": "https://localhost:8080/"
        },
        "outputId": "a751af1c-e8f6-4864-c136-6bf2c2f6f6ad"
      },
      "source": [
        "import os\n",
        "os.environ[\"JAVA_HOME\"] = \"/usr/lib/jvm/java-8-openjdk-amd64\"\n",
        "os.environ[\"SPARK_HOME\"] = \"/content/spark/\"\n",
        "\n",
        "# à changer par ton path au dossier data\n",
        "os.environ[\"DRIVE_DATA\"] = \"/content/gdrive/My Drive/Colab Notebooks/CY_Tech_BDF/data/\" \n",
        "\n",
        "!rm /content/spark\n",
        "!ln -s /content/spark-3.2.3-bin-hadoop2.7 /content/spark\n",
        "\n",
        "!mv graphframes-0.8.2-spark3.2-s_2.12.jar /content/spark/jars/\n",
        "\n",
        "!export SPARK_HOME=/content/spark\n",
        "!export PATH=$PATH:$SPARK_HOME/bin:$SPARK_HOME/sbin\n",
        "\n",
        "!echo $SPARK_HOME\n",
        "!env |grep  \"DRIVE_DATA\"\n",
        "\n",
        "!ls -l /content/\n"
      ],
      "execution_count": 253,
      "outputs": [
        {
          "output_type": "stream",
          "name": "stdout",
          "text": [
            "/content/spark/\n",
            "DRIVE_DATA=/content/gdrive/My Drive/Colab Notebooks/CY_Tech_BDF/data/\n",
            "total 12\n",
            "drwx------  6 root root 4096 Jan 22 08:52 gdrive\n",
            "drwxr-xr-x  1 root root 4096 Jan 19 14:35 sample_data\n",
            "lrwxrwxrwx  1 root root   34 Jan 22 11:05 spark -> /content/spark-3.2.3-bin-hadoop2.7\n",
            "drwxr-xr-x 13  501 1000 4096 Nov 14 18:28 spark-3.2.3-bin-hadoop2.7\n"
          ]
        }
      ]
    },
    {
      "cell_type": "markdown",
      "metadata": {
        "id": "NwU28K5f1H3P"
      },
      "source": [
        "### Start a SparkSession\n",
        "This will start a local Spark session."
      ]
    },
    {
      "cell_type": "code",
      "metadata": {
        "id": "n-4asPkCgnVB",
        "colab": {
          "base_uri": "https://localhost:8080/"
        },
        "outputId": "9cc97f00-5e09-4669-c313-abbb4ac0df86"
      },
      "source": [
        "!python -V\n",
        "\n",
        "import findspark\n",
        "findspark.init()\n",
        "\n",
        "from pyspark import SparkContext\n",
        "sc = SparkContext.getOrCreate()\n",
        "\n",
        "sc.addPyFile('/content/spark/jars/graphframes-0.8.2-spark3.2-s_2.12.jar')\n",
        "\n",
        "# Example: shows the PySpark version\n",
        "print(\"PySpark version {0}\".format(sc.version))\n",
        "\n",
        "# Example: parallelise an array and show the 2 first elements\n",
        "sc.parallelize([2, 3, 4, 5, 6]).cache().take(2)"
      ],
      "execution_count": 254,
      "outputs": [
        {
          "output_type": "stream",
          "name": "stdout",
          "text": [
            "Python 3.8.10\n",
            "PySpark version 3.2.3\n"
          ]
        },
        {
          "output_type": "execute_result",
          "data": {
            "text/plain": [
              "[2, 3]"
            ]
          },
          "metadata": {},
          "execution_count": 254
        }
      ]
    },
    {
      "cell_type": "code",
      "metadata": {
        "id": "pth1GUUrgnUW"
      },
      "source": [
        "from pyspark.sql import SparkSession\n",
        "# We create a SparkSession object (or we retrieve it if it is already created)\n",
        "spark = SparkSession \\\n",
        ".builder \\\n",
        ".appName(\"My application\") \\\n",
        ".config(\"spark.some.config.option\", \"some-value\") \\\n",
        ".master(\"local[4]\") \\\n",
        ".getOrCreate()\n",
        "# We get the SparkContext\n",
        "sc = spark.sparkContext"
      ],
      "execution_count": 255,
      "outputs": []
    },
    {
      "cell_type": "code",
      "metadata": {
        "id": "9tfoycrngnSJ",
        "colab": {
          "base_uri": "https://localhost:8080/"
        },
        "outputId": "08ba83ae-2465-46fd-fafb-bde68baa0cd0"
      },
      "source": [
        "# Mount Google Drive\n",
        "from google.colab import drive\n",
        "drive.mount('/content/gdrive')"
      ],
      "execution_count": 256,
      "outputs": [
        {
          "output_type": "stream",
          "name": "stdout",
          "text": [
            "Drive already mounted at /content/gdrive; to attempt to forcibly remount, call drive.mount(\"/content/gdrive\", force_remount=True).\n"
          ]
        }
      ]
    },
    {
      "cell_type": "markdown",
      "metadata": {
        "id": "hkJSOev3XOPn"
      },
      "source": [
        "\n",
        "\n",
        "---\n",
        "\n",
        "# Exercises\n"
      ]
    },
    {
      "cell_type": "code",
      "source": [
        "# General importations (unorganised and not all finally used... also my variables' names are a complete mess, sorry)\n",
        "from operator import add\n",
        "from pyspark.sql import functions as f\n",
        "from pyspark.sql.types import StringType,BooleanType,DateType\n",
        "from pyspark.sql.functions import *\n",
        "import matplotlib.pyplot as plt\n",
        "import io\n",
        "import numpy as np\n",
        "from time import time\n",
        "from random import random\n",
        "import tarfile\n",
        "from io import BytesIO\n",
        "import bz2\n",
        "from pyspark.sql.window import Window\n",
        "import pyspark.sql.functions as f\n",
        "from operator import itemgetter\n",
        "from graphframes import *"
      ],
      "metadata": {
        "id": "I9COy6LXUJKA"
      },
      "execution_count": 257,
      "outputs": []
    },
    {
      "cell_type": "markdown",
      "metadata": {
        "id": "T3ULPx4Y1LiR"
      },
      "source": [
        "## Exercise 3.1: Word count\n",
        "\n",
        "Count the number of words *per line* in the $DRIVE_DATA/quijote.txt file. \n",
        "\n",
        "Repeat the exercise but this time counting the number of words *in the whole file*."
      ]
    },
    {
      "cell_type": "code",
      "source": [
        "dfQuijote = spark.read.text(os.environ[\"DRIVE_DATA\"] + \"/quijote.txt\")\n",
        "dfQuijote.show(truncate=False)"
      ],
      "metadata": {
        "id": "f5kVUY0Uy4c7",
        "colab": {
          "base_uri": "https://localhost:8080/"
        },
        "outputId": "8b1cbded-e8d8-4854-eab3-72bb9eb84781"
      },
      "execution_count": 258,
      "outputs": [
        {
          "output_type": "stream",
          "name": "stdout",
          "text": [
            "+---------------------------------------------------------------------------+\n",
            "|value                                                                      |\n",
            "+---------------------------------------------------------------------------+\n",
            "|The Project Gutenberg EBook of Don Quijote, by Miguel de Cervantes Saavedra|\n",
            "|                                                                           |\n",
            "|This eBook is for the use of anyone anywhere at no cost and with           |\n",
            "|almost no restrictions whatsoever.  You may copy it, give it away or       |\n",
            "|re-use it under the terms of the Project Gutenberg License included        |\n",
            "|with this eBook or online at www.gutenberg.net                             |\n",
            "|                                                                           |\n",
            "|                                                                           |\n",
            "|Title: Don Quijote                                                         |\n",
            "|                                                                           |\n",
            "|Author: Miguel de Cervantes Saavedra                                       |\n",
            "|                                                                           |\n",
            "|Posting Date: April 27, 2010 [EBook #2000]                                 |\n",
            "|Release Date: December, 1999                                               |\n",
            "|                                                                           |\n",
            "|Language: Spanish                                                          |\n",
            "|                                                                           |\n",
            "|                                                                           |\n",
            "|*** START OF THIS PROJECT GUTENBERG EBOOK DON QUIJOTE ***                  |\n",
            "|                                                                           |\n",
            "+---------------------------------------------------------------------------+\n",
            "only showing top 20 rows\n",
            "\n"
          ]
        }
      ]
    },
    {
      "cell_type": "code",
      "source": [
        "# Method 1 : Number of words per line\n",
        "def count_words_per_row(col_name):\n",
        "  return f.size(f.split(f.col(col_name), ' '))"
      ],
      "metadata": {
        "id": "mB4P9nLay7aD"
      },
      "execution_count": 259,
      "outputs": []
    },
    {
      "cell_type": "code",
      "source": [
        "# Adding a new column containing the count of words\n",
        "dfQuijote=dfQuijote.withColumn('words_count_per_row',count_words_per_row('value'))"
      ],
      "metadata": {
        "id": "EPqQxyPdAwoC"
      },
      "execution_count": 260,
      "outputs": []
    },
    {
      "cell_type": "code",
      "source": [
        "# Removing empty rows\n",
        "dfQuijote=dfQuijote.filter(dfQuijote.words_count_per_row!=1) "
      ],
      "metadata": {
        "id": "IyHz2F-uQavU"
      },
      "execution_count": 261,
      "outputs": []
    },
    {
      "cell_type": "code",
      "source": [
        "dfQuijote.show(truncate=False)"
      ],
      "metadata": {
        "id": "0o44xRo0O4Av",
        "colab": {
          "base_uri": "https://localhost:8080/"
        },
        "outputId": "1172b663-f980-4805-94fa-d5d366428a5d"
      },
      "execution_count": 262,
      "outputs": [
        {
          "output_type": "stream",
          "name": "stdout",
          "text": [
            "+---------------------------------------------------------------------------+-------------------+\n",
            "|value                                                                      |words_count_per_row|\n",
            "+---------------------------------------------------------------------------+-------------------+\n",
            "|The Project Gutenberg EBook of Don Quijote, by Miguel de Cervantes Saavedra|12                 |\n",
            "|This eBook is for the use of anyone anywhere at no cost and with           |14                 |\n",
            "|almost no restrictions whatsoever.  You may copy it, give it away or       |13                 |\n",
            "|re-use it under the terms of the Project Gutenberg License included        |11                 |\n",
            "|with this eBook or online at www.gutenberg.net                             |7                  |\n",
            "|Title: Don Quijote                                                         |3                  |\n",
            "|Author: Miguel de Cervantes Saavedra                                       |5                  |\n",
            "|Posting Date: April 27, 2010 [EBook #2000]                                 |7                  |\n",
            "|Release Date: December, 1999                                               |4                  |\n",
            "|Language: Spanish                                                          |2                  |\n",
            "|*** START OF THIS PROJECT GUTENBERG EBOOK DON QUIJOTE ***                  |10                 |\n",
            "|Produced by an anonymous Project Gutenberg volunteer. Text                 |8                  |\n",
            "|file corrections and new HTML file by Joaquin Cuenca Abela.                |10                 |\n",
            "|El ingenioso hidalgo don Quijote de la Mancha                              |8                  |\n",
            "|Yo, Juan Gallo de Andrada, escribano de Cámara del Rey nuestro señor, de   |13                 |\n",
            "|los que residen en su Consejo, certifico y doy fe que, habiendo visto por  |14                 |\n",
            "|los señores dél un libro intitulado El ingenioso hidalgo de la Mancha,     |12                 |\n",
            "|compuesto por Miguel de Cervantes Saavedra, tasaron cada pliego del dicho  |11                 |\n",
            "|libro a tres maravedís y medio; el cual tiene ochenta y tres pliegos, que  |14                 |\n",
            "|al dicho precio monta el dicho libro docientos y noventa maravedís y medio,|13                 |\n",
            "+---------------------------------------------------------------------------+-------------------+\n",
            "only showing top 20 rows\n",
            "\n"
          ]
        }
      ]
    },
    {
      "cell_type": "code",
      "source": [
        "# Method 2 : Total number of words\n",
        "dfQuijote.groupby().sum('words_count_per_row').collect()"
      ],
      "metadata": {
        "id": "v-cMH0EzGjYP",
        "colab": {
          "base_uri": "https://localhost:8080/"
        },
        "outputId": "c71fc9b2-9ec0-4dd7-c3e2-7cf4c800d6e9"
      },
      "execution_count": 263,
      "outputs": [
        {
          "output_type": "execute_result",
          "data": {
            "text/plain": [
              "[Row(sum(words_count_per_row)=387237)]"
            ]
          },
          "metadata": {},
          "execution_count": 263
        }
      ]
    },
    {
      "cell_type": "markdown",
      "metadata": {
        "id": "7ppnan-_ELFI"
      },
      "source": [
        "## Exercise 4.1: Pi Estimation\n",
        "\n",
        "Using the Monte Carlo method, estimate the value of Pi. Use the random() method from the random class."
      ]
    },
    {
      "cell_type": "code",
      "source": [
        "def is_in_circle(i) :\n",
        "  x,y = random(), random()\n",
        "  return 1 if (x**2 + y**2 <= 1) else 0"
      ],
      "metadata": {
        "id": "hQZ2tkLFI6mZ"
      },
      "execution_count": 264,
      "outputs": []
    },
    {
      "cell_type": "code",
      "source": [
        "inside = 0\n",
        "n = 10000000\n",
        "\n",
        "count = sc.parallelize(range(0, n)).map(is_in_circle).sum()\n",
        "\n",
        "print(\"The approached value of pi is : \", count/n*4)"
      ],
      "metadata": {
        "id": "ntpzNornN93y",
        "colab": {
          "base_uri": "https://localhost:8080/"
        },
        "outputId": "5d681241-5245-4b48-c2aa-21ec9d809394"
      },
      "execution_count": 265,
      "outputs": [
        {
          "output_type": "stream",
          "name": "stdout",
          "text": [
            "The approached value of pi is :  3.1416656\n"
          ]
        }
      ]
    },
    {
      "cell_type": "markdown",
      "metadata": {
        "id": "2vPYCnS8ERmg"
      },
      "source": [
        "## Exercise 4.2: Inspect a log file\n",
        "\n",
        "Upload the file /var/log/syslog from your computer to this notebook. Then, select only the \"bad lines\": WARNING and ERROR messages."
      ]
    },
    {
      "cell_type": "code",
      "source": [
        "syslog = spark.read.text(os.environ[\"DRIVE_DATA\"] + \"/syslog\")\n",
        "syslog = syslog.filter(col(\"value\").like('%ERROR%') | col(\"value\").like('%WARNING%'))\n",
        "syslog.show(truncate=False)"
      ],
      "metadata": {
        "colab": {
          "base_uri": "https://localhost:8080/"
        },
        "id": "LpfvXfJVQl2T",
        "outputId": "0e31d1bc-9505-4d28-dde6-81e6ec7c9383"
      },
      "execution_count": 266,
      "outputs": [
        {
          "output_type": "stream",
          "name": "stdout",
          "text": [
            "+---------------------------------------------------------------------------------------------------------------------------------------------------------------------------------------------------------------------------------------------------------------------------------------------------------------------------------------------------------------------------------------------------------------------------------------------------------------------------------------------------------------------------------------------------------------------------------------------------------------------------------------------------------------------------------------------------------------------------------------------------------------------------------------------------------------------------------------------------------------------------------------------------------------------------------------------------------------------------------------------------------------------------------------------------------------------------------------------------------------------------------------------------------------------------------------------------------------------------------------------------------------------------------------------------------------------------------------------------------------------------------------------------------------------------------------------------------------------------------------------------------------------------------------------------------------------------------------------------------------------------------------------+\n",
            "|value                                                                                                                                                                                                                                                                                                                                                                                                                                                                                                                                                                                                                                                                                                                                                                                                                                                                                                                                                                                                                                                                                                                                                                                                                                                                                                                                                                                                                                                                                                                                                                                                                                        |\n",
            "+---------------------------------------------------------------------------------------------------------------------------------------------------------------------------------------------------------------------------------------------------------------------------------------------------------------------------------------------------------------------------------------------------------------------------------------------------------------------------------------------------------------------------------------------------------------------------------------------------------------------------------------------------------------------------------------------------------------------------------------------------------------------------------------------------------------------------------------------------------------------------------------------------------------------------------------------------------------------------------------------------------------------------------------------------------------------------------------------------------------------------------------------------------------------------------------------------------------------------------------------------------------------------------------------------------------------------------------------------------------------------------------------------------------------------------------------------------------------------------------------------------------------------------------------------------------------------------------------------------------------------------------------+\n",
            "|Jan 20 00:00:28 Haytam-laptop chrome-aghbiahbpaijignceidepookljebhfak-Default.desktop[5723]: [5766:5766:0120/000028.442236:ERROR:gl_surface_presentation_helper.cc(260)] GetVSyncParametersIfAvailable() failed for 1 times!                                                                                                                                                                                                                                                                                                                                                                                                                                                                                                                                                                                                                                                                                                                                                                                                                                                                                                                                                                                                                                                                                                                                                                                                                                                                                                                                                                                                                 |\n",
            "|Jan 20 00:00:29 Haytam-laptop chrome-aghbiahbpaijignceidepookljebhfak-Default.desktop[5723]: [5718:5745:0120/000029.813749:ERROR:connection_factory_impl.cc(427)] Failed to connect to MCS endpoint with error -105                                                                                                                                                                                                                                                                                                                                                                                                                                                                                                                                                                                                                                                                                                                                                                                                                                                                                                                                                                                                                                                                                                                                                                                                                                                                                                                                                                                                                          |\n",
            "|Jan 20 06:54:40 Haytam-laptop ovpn-cytech.students[1698]: ERROR: Linux route delete command failed: external program exited with error status: 2                                                                                                                                                                                                                                                                                                                                                                                                                                                                                                                                                                                                                                                                                                                                                                                                                                                                                                                                                                                                                                                                                                                                                                                                                                                                                                                                                                                                                                                                                             |\n",
            "|Jan 20 06:54:40 Haytam-laptop ovpn-cytech.students[1698]: ERROR: Linux route delete command failed: external program exited with error status: 2                                                                                                                                                                                                                                                                                                                                                                                                                                                                                                                                                                                                                                                                                                                                                                                                                                                                                                                                                                                                                                                                                                                                                                                                                                                                                                                                                                                                                                                                                             |\n",
            "|Jan 20 06:54:40 Haytam-laptop ovpn-cytech.students[1698]: ERROR: Linux route delete command failed: external program exited with error status: 2                                                                                                                                                                                                                                                                                                                                                                                                                                                                                                                                                                                                                                                                                                                                                                                                                                                                                                                                                                                                                                                                                                                                                                                                                                                                                                                                                                                                                                                                                             |\n",
            "|Jan 20 06:54:40 Haytam-laptop ovpn-cytech.students[1698]: ERROR: Linux route delete command failed: external program exited with error status: 2                                                                                                                                                                                                                                                                                                                                                                                                                                                                                                                                                                                                                                                                                                                                                                                                                                                                                                                                                                                                                                                                                                                                                                                                                                                                                                                                                                                                                                                                                             |\n",
            "|Jan 20 06:54:40 Haytam-laptop gnome-shell[3057]: JS ERROR: TypeError: this.actor is null#012vfunc_set_actor/this._monitorsChangedId<@resource:///org/gnome/shell/ui/layout.js:103:25#012_monitorsChanged@resource:///org/gnome/shell/ui/layout.js:559:14                                                                                                                                                                                                                                                                                                                                                                                                                                                                                                                                                                                                                                                                                                                                                                                                                                                                                                                                                                                                                                                                                                                                                                                                                                                                                                                                                                                     |\n",
            "|Jan 20 06:54:40 Haytam-laptop ovpn-cytech.students[1698]: ERROR: Linux route delete command failed: external program exited with error status: 2                                                                                                                                                                                                                                                                                                                                                                                                                                                                                                                                                                                                                                                                                                                                                                                                                                                                                                                                                                                                                                                                                                                                                                                                                                                                                                                                                                                                                                                                                             |\n",
            "|Jan 20 06:54:41 Haytam-laptop chrome-aghbiahbpaijignceidepookljebhfak-Default.desktop[5723]: [5718:5745:0120/065441.668701:ERROR:connection_factory_impl.cc(427)] Failed to connect to MCS endpoint with error -106                                                                                                                                                                                                                                                                                                                                                                                                                                                                                                                                                                                                                                                                                                                                                                                                                                                                                                                                                                                                                                                                                                                                                                                                                                                                                                                                                                                                                          |\n",
            "|Jan 20 06:54:46 Haytam-laptop gnome-shell[3057]: JS ERROR: Exception in callback for signal: updated: Error: Tried to construct an object without a GType; are you using GObject.registerClass() when inheriting from a GObject type?#012BlurredLightbox@/usr/share/gnome-shell/extensions/pomodoro@arun.codito.in/dialogs.js:166:9#012ModalDialog@/usr/share/gnome-shell/extensions/pomodoro@arun.codito.in/dialogs.js:302:26#012PomodoroEndDialog@/usr/share/gnome-shell/extensions/pomodoro@arun.codito.in/dialogs.js:583:9#012_enableScreenNotification@/usr/share/gnome-shell/extensions/pomodoro@arun.codito.in/extension.js:439:27#012setMode@/usr/share/gnome-shell/extensions/pomodoro@arun.codito.in/extension.js:127:26#012enable/sessionModeUpdatedId<@/usr/share/gnome-shell/extensions/pomodoro@arun.codito.in/extension.js:582:27#012_emit@resource:///org/gnome/gjs/modules/core/_signals.js:133:47#012_sync@resource:///org/gnome/shell/ui/sessionMode.js:198:14#012popMode@resource:///org/gnome/shell/ui/sessionMode.js:166:14#012_continueDeactivate@resource:///org/gnome/shell/ui/screenShield.js:535:30#012deactivate/<@resource:///org/gnome/shell/ui/screenShield.js:526:44#012finish@resource:///org/gnome/shell/gdm/authPrompt.js:554:13#012finish@resource:///org/gnome/shell/ui/unlockDialog.js:871:26#012deactivate@resource:///org/gnome/shell/ui/screenShield.js:526:26#012ScreenShield/</<@resource:///org/gnome/shell/ui/screenShield.js:116:57#012_emit@resource:///org/gnome/gjs/modules/core/_signals.js:133:47#012_convertToNativeSignal@resource:///org/gnome/gjs/modules/core/overrides/Gio.js:169:19|\n",
            "|Jan 20 06:55:16 Haytam-laptop ovpn-cytech.students[1698]: WARNING: 'cipher' is present in local config but missing in remote config, local='cipher BF-CBC'                                                                                                                                                                                                                                                                                                                                                                                                                                                                                                                                                                                                                                                                                                                                                                                                                                                                                                                                                                                                                                                                                                                                                                                                                                                                                                                                                                                                                                                                                   |\n",
            "|Jan 20 07:51:13 Haytam-laptop ovpn-cytech.students[1698]: WARNING: 'cipher' is present in local config but missing in remote config, local='cipher BF-CBC'                                                                                                                                                                                                                                                                                                                                                                                                                                                                                                                                                                                                                                                                                                                                                                                                                                                                                                                                                                                                                                                                                                                                                                                                                                                                                                                                                                                                                                                                                   |\n",
            "|Jan 20 07:56:28 Haytam-laptop chrome-aghbiahbpaijignceidepookljebhfak-Default.desktop[5723]: [5766:5766:0120/075628.426103:ERROR:shared_image_manager.cc(202)] SharedImageManager::ProduceSkia: Trying to Produce a Skia representation from a non-existent mailbox.                                                                                                                                                                                                                                                                                                                                                                                                                                                                                                                                                                                                                                                                                                                                                                                                                                                                                                                                                                                                                                                                                                                                                                                                                                                                                                                                                                         |\n",
            "|Jan 20 07:56:28 Haytam-laptop chrome-aghbiahbpaijignceidepookljebhfak-Default.desktop[5723]: [5766:5766:0120/075628.427878:ERROR:shared_image_manager.cc(202)] SharedImageManager::ProduceSkia: Trying to Produce a Skia representation from a non-existent mailbox.                                                                                                                                                                                                                                                                                                                                                                                                                                                                                                                                                                                                                                                                                                                                                                                                                                                                                                                                                                                                                                                                                                                                                                                                                                                                                                                                                                         |\n",
            "|Jan 20 07:56:28 Haytam-laptop chrome-aghbiahbpaijignceidepookljebhfak-Default.desktop[5723]: [5766:5766:0120/075628.428549:ERROR:shared_image_manager.cc(202)] SharedImageManager::ProduceSkia: Trying to Produce a Skia representation from a non-existent mailbox.                                                                                                                                                                                                                                                                                                                                                                                                                                                                                                                                                                                                                                                                                                                                                                                                                                                                                                                                                                                                                                                                                                                                                                                                                                                                                                                                                                         |\n",
            "|Jan 20 07:56:28 Haytam-laptop chrome-aghbiahbpaijignceidepookljebhfak-Default.desktop[5723]: [5766:5766:0120/075628.429346:ERROR:shared_image_manager.cc(202)] SharedImageManager::ProduceSkia: Trying to Produce a Skia representation from a non-existent mailbox.                                                                                                                                                                                                                                                                                                                                                                                                                                                                                                                                                                                                                                                                                                                                                                                                                                                                                                                                                                                                                                                                                                                                                                                                                                                                                                                                                                         |\n",
            "|Jan 20 07:59:06 Haytam-laptop /usr/lib/gdm3/gdm-x-session[2913]: (EE) event10 - DELL09A1:00 0488:121F Touchpad: WARNING: log rate limit exceeded (5 msgs per 7200000ms). Discarding future messages.                                                                                                                                                                                                                                                                                                                                                                                                                                                                                                                                                                                                                                                                                                                                                                                                                                                                                                                                                                                                                                                                                                                                                                                                                                                                                                                                                                                                                                         |\n",
            "|Jan 20 07:59:06 Haytam-laptop libinput-gestures.desktop[3793]: libinput error: event10 - DELL09A1:00 0488:121F Touchpad: WARNING: log rate limit exceeded (5 msgs per 7200000ms). Discarding future messages.                                                                                                                                                                                                                                                                                                                                                                                                                                                                                                                                                                                                                                                                                                                                                                                                                                                                                                                                                                                                                                                                                                                                                                                                                                                                                                                                                                                                                                |\n",
            "|Jan 20 08:08:45 Haytam-laptop chrome-aghbiahbpaijignceidepookljebhfak-Default.desktop[5723]: [5766:5766:0120/080845.554291:ERROR:shared_image_manager.cc(202)] SharedImageManager::ProduceSkia: Trying to Produce a Skia representation from a non-existent mailbox.                                                                                                                                                                                                                                                                                                                                                                                                                                                                                                                                                                                                                                                                                                                                                                                                                                                                                                                                                                                                                                                                                                                                                                                                                                                                                                                                                                         |\n",
            "|Jan 20 08:08:45 Haytam-laptop chrome-aghbiahbpaijignceidepookljebhfak-Default.desktop[5723]: [5766:5766:0120/080845.554542:ERROR:shared_image_manager.cc(202)] SharedImageManager::ProduceSkia: Trying to Produce a Skia representation from a non-existent mailbox.                                                                                                                                                                                                                                                                                                                                                                                                                                                                                                                                                                                                                                                                                                                                                                                                                                                                                                                                                                                                                                                                                                                                                                                                                                                                                                                                                                         |\n",
            "+---------------------------------------------------------------------------------------------------------------------------------------------------------------------------------------------------------------------------------------------------------------------------------------------------------------------------------------------------------------------------------------------------------------------------------------------------------------------------------------------------------------------------------------------------------------------------------------------------------------------------------------------------------------------------------------------------------------------------------------------------------------------------------------------------------------------------------------------------------------------------------------------------------------------------------------------------------------------------------------------------------------------------------------------------------------------------------------------------------------------------------------------------------------------------------------------------------------------------------------------------------------------------------------------------------------------------------------------------------------------------------------------------------------------------------------------------------------------------------------------------------------------------------------------------------------------------------------------------------------------------------------------+\n",
            "only showing top 20 rows\n",
            "\n"
          ]
        }
      ]
    },
    {
      "cell_type": "markdown",
      "metadata": {
        "id": "6O3IAwByxTpJ"
      },
      "source": [
        "\n",
        "\n",
        "---\n",
        "\n",
        "## Exercises 5"
      ]
    },
    {
      "cell_type": "markdown",
      "metadata": {
        "id": "mJ708zvl627q"
      },
      "source": [
        "### Exercise 5.1: Word count\n",
        "\n",
        "**Using RDDs**, count the number of lines in the `$DRIVE_DATA/quijote.txt` file. Then, count the number of words in the file. Finally, count the number of *different* words in the file.\n"
      ]
    },
    {
      "cell_type": "code",
      "metadata": {
        "id": "Slr4nXhp_knl",
        "colab": {
          "base_uri": "https://localhost:8080/"
        },
        "outputId": "6e4171ae-96a7-4c12-eb95-7d49ed7b3e59"
      },
      "source": [
        "rddQuijote = sc.textFile(os.environ[\"DRIVE_DATA\"] + \"/quijote.txt\")\n",
        "rddQuijote.take(5)"
      ],
      "execution_count": 267,
      "outputs": [
        {
          "output_type": "execute_result",
          "data": {
            "text/plain": [
              "['The Project Gutenberg EBook of Don Quijote, by Miguel de Cervantes Saavedra',\n",
              " '',\n",
              " 'This eBook is for the use of anyone anywhere at no cost and with',\n",
              " 'almost no restrictions whatsoever.  You may copy it, give it away or',\n",
              " 're-use it under the terms of the Project Gutenberg License included']"
            ]
          },
          "metadata": {},
          "execution_count": 267
        }
      ]
    },
    {
      "cell_type": "code",
      "source": [
        "# Method 1 : Number of words per line\n",
        "def count_words_per_row(row):\n",
        "  return len(row.split(' '))"
      ],
      "metadata": {
        "id": "Y30YIFSI3Pwm"
      },
      "execution_count": 268,
      "outputs": []
    },
    {
      "cell_type": "code",
      "source": [
        "words_count_per_row=rddQuijote.map(count_words_per_row)"
      ],
      "metadata": {
        "id": "6afgsXAIAz3N"
      },
      "execution_count": 269,
      "outputs": []
    },
    {
      "cell_type": "code",
      "source": [
        "words_count_per_row.take(5)\n"
      ],
      "metadata": {
        "colab": {
          "base_uri": "https://localhost:8080/"
        },
        "id": "mwHwzB258fwI",
        "outputId": "6a1901be-5492-47ff-c8b7-4c32f93ec2cc"
      },
      "execution_count": 270,
      "outputs": [
        {
          "output_type": "execute_result",
          "data": {
            "text/plain": [
              "[12, 1, 14, 13, 11]"
            ]
          },
          "metadata": {},
          "execution_count": 270
        }
      ]
    },
    {
      "cell_type": "code",
      "source": [
        "# Method 2 : Total number of words\n",
        "filtered_words_count_per_row=words_count_per_row.filter(lambda x: x!=1) # delete the ones of the empty lines"
      ],
      "metadata": {
        "id": "S9m2fA7-N-MV"
      },
      "execution_count": 271,
      "outputs": []
    },
    {
      "cell_type": "code",
      "source": [
        "filtered_words_count_per_row.take(5)"
      ],
      "metadata": {
        "colab": {
          "base_uri": "https://localhost:8080/"
        },
        "id": "1NJO3mPGO6Gv",
        "outputId": "799750b8-c7c5-42d0-a860-2c760aa1e5b8"
      },
      "execution_count": 272,
      "outputs": [
        {
          "output_type": "execute_result",
          "data": {
            "text/plain": [
              "[12, 14, 13, 11, 7]"
            ]
          },
          "metadata": {},
          "execution_count": 272
        }
      ]
    },
    {
      "cell_type": "code",
      "source": [
        "words_total_count = filtered_words_count_per_row.sum()"
      ],
      "metadata": {
        "id": "eXE7dmK9H2sn"
      },
      "execution_count": 273,
      "outputs": []
    },
    {
      "cell_type": "code",
      "source": [
        "print(words_total_count)"
      ],
      "metadata": {
        "colab": {
          "base_uri": "https://localhost:8080/"
        },
        "id": "GYhqeYjX-EOH",
        "outputId": "33a4430c-1d1c-493a-8878-178195dd0b4e"
      },
      "execution_count": 274,
      "outputs": [
        {
          "output_type": "stream",
          "name": "stdout",
          "text": [
            "387237\n"
          ]
        }
      ]
    },
    {
      "cell_type": "markdown",
      "metadata": {
        "id": "jjtVkYOKxTo7"
      },
      "source": [
        "### Exercise 5.2: Count people by age\n",
        "\n",
        "Using RDDs, create a barplot showing of number of people (y-axis) per age (x-axis) using the information in the $DRIVE_DATA/people.txt file\n",
        "\n"
      ]
    },
    {
      "cell_type": "code",
      "metadata": {
        "id": "-JgE0XavBBLB",
        "colab": {
          "base_uri": "https://localhost:8080/"
        },
        "outputId": "5b9b69c0-4e59-4cd8-8521-490dea98d789"
      },
      "source": [
        "rdd_people = sc.textFile(os.environ[\"DRIVE_DATA\"] + \"people.txt\")\n",
        "rdd_people.take(5)"
      ],
      "execution_count": 275,
      "outputs": [
        {
          "output_type": "execute_result",
          "data": {
            "text/plain": [
              "['Celia\\t17', 'Juan\\t53', 'Manuela\\t39', 'Ana\\t17', 'Paco\\t53']"
            ]
          },
          "metadata": {},
          "execution_count": 275
        }
      ]
    },
    {
      "cell_type": "code",
      "source": [
        "rddPeopleSplitted=rdd_people.map(lambda row: row.split('\\t'))"
      ],
      "metadata": {
        "id": "hfYJeeFkRdss"
      },
      "execution_count": 276,
      "outputs": []
    },
    {
      "cell_type": "code",
      "source": [
        "rddPeopleSplitted.take(5)"
      ],
      "metadata": {
        "colab": {
          "base_uri": "https://localhost:8080/"
        },
        "id": "-IlS8gQ0RdvF",
        "outputId": "e25b2a13-14e1-4df4-9274-7fd79727dcf8"
      },
      "execution_count": 277,
      "outputs": [
        {
          "output_type": "execute_result",
          "data": {
            "text/plain": [
              "[['Celia', '17'],\n",
              " ['Juan', '53'],\n",
              " ['Manuela', '39'],\n",
              " ['Ana', '17'],\n",
              " ['Paco', '53']]"
            ]
          },
          "metadata": {},
          "execution_count": 277
        }
      ]
    },
    {
      "cell_type": "code",
      "source": [
        "# group rdd elements by value, and sum the number of keys for each value\n",
        "rddPeopleSplittedReversed=rddPeopleSplitted.map(lambda x: (x[1], 1))\n",
        "rddPeopleSplittedReversed.take(5)"
      ],
      "metadata": {
        "colab": {
          "base_uri": "https://localhost:8080/"
        },
        "id": "ay4CylB3Rxxj",
        "outputId": "252d3326-eb24-42c7-8ba1-3fed20a9e50a"
      },
      "execution_count": 278,
      "outputs": [
        {
          "output_type": "execute_result",
          "data": {
            "text/plain": [
              "[('17', 1), ('53', 1), ('39', 1), ('17', 1), ('53', 1)]"
            ]
          },
          "metadata": {},
          "execution_count": 278
        }
      ]
    },
    {
      "cell_type": "code",
      "source": [
        "rddPeopleSplittedReversedReduced = rddPeopleSplittedReversed.reduceByKey(lambda a,b: a+b)"
      ],
      "metadata": {
        "id": "tj_xmoJoSjAu"
      },
      "execution_count": 279,
      "outputs": []
    },
    {
      "cell_type": "code",
      "source": [
        "rddPeopleSplittedReversedReduced.take(5)"
      ],
      "metadata": {
        "colab": {
          "base_uri": "https://localhost:8080/"
        },
        "id": "dXbdxVsgS33m",
        "outputId": "6e6ada06-8467-48f7-fe90-c29e0c9790a7"
      },
      "execution_count": 280,
      "outputs": [
        {
          "output_type": "execute_result",
          "data": {
            "text/plain": [
              "[('17', 2), ('53', 2), ('40', 2), ('50', 1), ('39', 2)]"
            ]
          },
          "metadata": {},
          "execution_count": 280
        }
      ]
    },
    {
      "cell_type": "code",
      "source": [
        "dfPeople = rddPeopleSplittedReversedReduced.toDF().toPandas().rename(columns= {'_1': 'Age', '_2': 'Number of people'})"
      ],
      "metadata": {
        "id": "awfVMRftV4AV"
      },
      "execution_count": 281,
      "outputs": []
    },
    {
      "cell_type": "code",
      "source": [
        "dfPeople"
      ],
      "metadata": {
        "colab": {
          "base_uri": "https://localhost:8080/",
          "height": 0
        },
        "id": "ZSjMzQltX38J",
        "outputId": "2ac31344-b16f-4e97-d06c-015335b65f46"
      },
      "execution_count": 282,
      "outputs": [
        {
          "output_type": "execute_result",
          "data": {
            "text/plain": [
              "  Age  Number of people\n",
              "0  17                 2\n",
              "1  53                 2\n",
              "2  40                 2\n",
              "3  50                 1\n",
              "4  39                 2"
            ],
            "text/html": [
              "\n",
              "  <div id=\"df-8ca2641e-f2a6-4300-bd51-5c993492ae2c\">\n",
              "    <div class=\"colab-df-container\">\n",
              "      <div>\n",
              "<style scoped>\n",
              "    .dataframe tbody tr th:only-of-type {\n",
              "        vertical-align: middle;\n",
              "    }\n",
              "\n",
              "    .dataframe tbody tr th {\n",
              "        vertical-align: top;\n",
              "    }\n",
              "\n",
              "    .dataframe thead th {\n",
              "        text-align: right;\n",
              "    }\n",
              "</style>\n",
              "<table border=\"1\" class=\"dataframe\">\n",
              "  <thead>\n",
              "    <tr style=\"text-align: right;\">\n",
              "      <th></th>\n",
              "      <th>Age</th>\n",
              "      <th>Number of people</th>\n",
              "    </tr>\n",
              "  </thead>\n",
              "  <tbody>\n",
              "    <tr>\n",
              "      <th>0</th>\n",
              "      <td>17</td>\n",
              "      <td>2</td>\n",
              "    </tr>\n",
              "    <tr>\n",
              "      <th>1</th>\n",
              "      <td>53</td>\n",
              "      <td>2</td>\n",
              "    </tr>\n",
              "    <tr>\n",
              "      <th>2</th>\n",
              "      <td>40</td>\n",
              "      <td>2</td>\n",
              "    </tr>\n",
              "    <tr>\n",
              "      <th>3</th>\n",
              "      <td>50</td>\n",
              "      <td>1</td>\n",
              "    </tr>\n",
              "    <tr>\n",
              "      <th>4</th>\n",
              "      <td>39</td>\n",
              "      <td>2</td>\n",
              "    </tr>\n",
              "  </tbody>\n",
              "</table>\n",
              "</div>\n",
              "      <button class=\"colab-df-convert\" onclick=\"convertToInteractive('df-8ca2641e-f2a6-4300-bd51-5c993492ae2c')\"\n",
              "              title=\"Convert this dataframe to an interactive table.\"\n",
              "              style=\"display:none;\">\n",
              "        \n",
              "  <svg xmlns=\"http://www.w3.org/2000/svg\" height=\"24px\"viewBox=\"0 0 24 24\"\n",
              "       width=\"24px\">\n",
              "    <path d=\"M0 0h24v24H0V0z\" fill=\"none\"/>\n",
              "    <path d=\"M18.56 5.44l.94 2.06.94-2.06 2.06-.94-2.06-.94-.94-2.06-.94 2.06-2.06.94zm-11 1L8.5 8.5l.94-2.06 2.06-.94-2.06-.94L8.5 2.5l-.94 2.06-2.06.94zm10 10l.94 2.06.94-2.06 2.06-.94-2.06-.94-.94-2.06-.94 2.06-2.06.94z\"/><path d=\"M17.41 7.96l-1.37-1.37c-.4-.4-.92-.59-1.43-.59-.52 0-1.04.2-1.43.59L10.3 9.45l-7.72 7.72c-.78.78-.78 2.05 0 2.83L4 21.41c.39.39.9.59 1.41.59.51 0 1.02-.2 1.41-.59l7.78-7.78 2.81-2.81c.8-.78.8-2.07 0-2.86zM5.41 20L4 18.59l7.72-7.72 1.47 1.35L5.41 20z\"/>\n",
              "  </svg>\n",
              "      </button>\n",
              "      \n",
              "  <style>\n",
              "    .colab-df-container {\n",
              "      display:flex;\n",
              "      flex-wrap:wrap;\n",
              "      gap: 12px;\n",
              "    }\n",
              "\n",
              "    .colab-df-convert {\n",
              "      background-color: #E8F0FE;\n",
              "      border: none;\n",
              "      border-radius: 50%;\n",
              "      cursor: pointer;\n",
              "      display: none;\n",
              "      fill: #1967D2;\n",
              "      height: 32px;\n",
              "      padding: 0 0 0 0;\n",
              "      width: 32px;\n",
              "    }\n",
              "\n",
              "    .colab-df-convert:hover {\n",
              "      background-color: #E2EBFA;\n",
              "      box-shadow: 0px 1px 2px rgba(60, 64, 67, 0.3), 0px 1px 3px 1px rgba(60, 64, 67, 0.15);\n",
              "      fill: #174EA6;\n",
              "    }\n",
              "\n",
              "    [theme=dark] .colab-df-convert {\n",
              "      background-color: #3B4455;\n",
              "      fill: #D2E3FC;\n",
              "    }\n",
              "\n",
              "    [theme=dark] .colab-df-convert:hover {\n",
              "      background-color: #434B5C;\n",
              "      box-shadow: 0px 1px 3px 1px rgba(0, 0, 0, 0.15);\n",
              "      filter: drop-shadow(0px 1px 2px rgba(0, 0, 0, 0.3));\n",
              "      fill: #FFFFFF;\n",
              "    }\n",
              "  </style>\n",
              "\n",
              "      <script>\n",
              "        const buttonEl =\n",
              "          document.querySelector('#df-8ca2641e-f2a6-4300-bd51-5c993492ae2c button.colab-df-convert');\n",
              "        buttonEl.style.display =\n",
              "          google.colab.kernel.accessAllowed ? 'block' : 'none';\n",
              "\n",
              "        async function convertToInteractive(key) {\n",
              "          const element = document.querySelector('#df-8ca2641e-f2a6-4300-bd51-5c993492ae2c');\n",
              "          const dataTable =\n",
              "            await google.colab.kernel.invokeFunction('convertToInteractive',\n",
              "                                                     [key], {});\n",
              "          if (!dataTable) return;\n",
              "\n",
              "          const docLinkHtml = 'Like what you see? Visit the ' +\n",
              "            '<a target=\"_blank\" href=https://colab.research.google.com/notebooks/data_table.ipynb>data table notebook</a>'\n",
              "            + ' to learn more about interactive tables.';\n",
              "          element.innerHTML = '';\n",
              "          dataTable['output_type'] = 'display_data';\n",
              "          await google.colab.output.renderOutput(dataTable, element);\n",
              "          const docLink = document.createElement('div');\n",
              "          docLink.innerHTML = docLinkHtml;\n",
              "          element.appendChild(docLink);\n",
              "        }\n",
              "      </script>\n",
              "    </div>\n",
              "  </div>\n",
              "  "
            ]
          },
          "metadata": {},
          "execution_count": 282
        }
      ]
    },
    {
      "cell_type": "code",
      "source": [
        "dfPeople.plot.bar(x='Age', y='Number of people') "
      ],
      "metadata": {
        "colab": {
          "base_uri": "https://localhost:8080/",
          "height": 0
        },
        "id": "z0IKIefOX7nP",
        "outputId": "991d74d9-28ee-48bd-c3c9-8e97fc6b0293"
      },
      "execution_count": 283,
      "outputs": [
        {
          "output_type": "execute_result",
          "data": {
            "text/plain": [
              "<matplotlib.axes._subplots.AxesSubplot at 0x7ff9e7bc6880>"
            ]
          },
          "metadata": {},
          "execution_count": 283
        },
        {
          "output_type": "display_data",
          "data": {
            "text/plain": [
              "<Figure size 432x288 with 1 Axes>"
            ],
            "image/png": "[encoded data removed]"
          },
          "metadata": {
            "needs_background": "light"
          }
        }
      ]
    },
    {
      "cell_type": "markdown",
      "metadata": {
        "id": "xddDZ2zCxTor"
      },
      "source": [
        "### Exercise 5.3: Obtain the number of received citations \n",
        "\n",
        "Using RDDs, write a PySpark program that obtains, from the cite75_99.txt file, the number of citations received by each patent. \n"
      ]
    },
    {
      "cell_type": "code",
      "metadata": {
        "id": "PmYIlZ0dCQ6x",
        "colab": {
          "base_uri": "https://localhost:8080/"
        },
        "outputId": "487364a8-e607-41f9-fc06-098b1063862d"
      },
      "source": [
        "rddCitations = sc.textFile(os.environ[\"DRIVE_DATA\"] + \"/cite75_99.txt.tar.bz2\", use_unicode=True)\n",
        "rddCitations.take(10)"
      ],
      "execution_count": 284,
      "outputs": [
        {
          "output_type": "execute_result",
          "data": {
            "text/plain": [
              "['cite75_99.txt\\x00\\x00\\x00\\x00\\x00\\x00\\x00\\x00\\x00\\x00\\x00\\x00\\x00\\x00\\x00\\x00\\x00\\x00\\x00\\x00\\x00\\x00\\x00\\x00\\x00\\x00\\x00\\x00\\x00\\x00\\x00\\x00\\x00\\x00\\x00\\x00\\x00\\x00\\x00\\x00\\x00\\x00\\x00\\x00\\x00\\x00\\x00\\x00\\x00\\x00\\x00\\x00\\x00\\x00\\x00\\x00\\x00\\x00\\x00\\x00\\x00\\x00\\x00\\x00\\x00\\x00\\x00\\x00\\x00\\x00\\x00\\x00\\x00\\x00\\x00\\x00\\x00\\x00\\x00\\x00\\x00\\x00\\x00\\x00\\x00\\x00\\x00000660 \\x00001750 \\x00001750 \\x0001757274247 13130724724 012717\\x00 0\\x00\\x00\\x00\\x00\\x00\\x00\\x00\\x00\\x00\\x00\\x00\\x00\\x00\\x00\\x00\\x00\\x00\\x00\\x00\\x00\\x00\\x00\\x00\\x00\\x00\\x00\\x00\\x00\\x00\\x00\\x00\\x00\\x00\\x00\\x00\\x00\\x00\\x00\\x00\\x00\\x00\\x00\\x00\\x00\\x00\\x00\\x00\\x00\\x00\\x00\\x00\\x00\\x00\\x00\\x00\\x00\\x00\\x00\\x00\\x00\\x00\\x00\\x00\\x00\\x00\\x00\\x00\\x00\\x00\\x00\\x00\\x00\\x00\\x00\\x00\\x00\\x00\\x00\\x00\\x00\\x00\\x00\\x00\\x00\\x00\\x00\\x00\\x00\\x00\\x00\\x00\\x00\\x00\\x00\\x00\\x00\\x00\\x00\\x00\\x00ustar\\x0000jlo\\x00\\x00\\x00\\x00\\x00\\x00\\x00\\x00\\x00\\x00\\x00\\x00\\x00\\x00\\x00\\x00\\x00\\x00\\x00\\x00\\x00\\x00\\x00\\x00\\x00\\x00\\x00\\x00\\x00jlo\\x00\\x00\\x00\\x00\\x00\\x00\\x00\\x00\\x00\\x00\\x00\\x00\\x00\\x00\\x00\\x00\\x00\\x00\\x00\\x00\\x00\\x00\\x00\\x00\\x00\\x00\\x00\\x00\\x00000000 \\x00000000 \\x00\\x00\\x00\\x00\\x00\\x00\\x00\\x00\\x00\\x00\\x00\\x00\\x00\\x00\\x00\\x00\\x00\\x00\\x00\\x00\\x00\\x00\\x00\\x00\\x00\\x00\\x00\\x00\\x00\\x00\\x00\\x00\\x00\\x00\\x00\\x00\\x00\\x00\\x00\\x00\\x00\\x00\\x00\\x00\\x00\\x00\\x00\\x00\\x00\\x00\\x00\\x00\\x00\\x00\\x00\\x00\\x00\\x00\\x00\\x00\\x00\\x00\\x00\\x00\\x00\\x00\\x00\\x00\\x00\\x00\\x00\\x00\\x00\\x00\\x00\\x00\\x00\\x00\\x00\\x00\\x00\\x00\\x00\\x00\\x00\\x00\\x00\\x00\\x00\\x00\\x00\\x00\\x00\\x00\\x00\\x00\\x00\\x00\\x00\\x00\\x00\\x00\\x00\\x00\\x00\\x00\\x00\\x00\\x00\\x00\\x00\\x00\\x00\\x00\\x00\\x00\\x00\\x00\\x00\\x00\\x00\\x00\\x00\\x00\\x00\\x00\\x00\\x00\\x00\\x00\\x00\\x00\\x00\\x00\\x00\\x00\\x00\\x00\\x00\\x00\\x00\\x00\\x00\\x00\\x00\\x00\\x00\\x00\\x00\\x00\\x00\\x00\\x00\\x00\\x00\\x00\\x00\\x00\\x00\\x00\\x00\\x00\\x00\\x00\\x00\\x00\\x00\\x00\"CITING\",\"CITED\"',\n",
              " '3858241,956203',\n",
              " '3858241,1324234',\n",
              " '3858241,3398406',\n",
              " '3858241,3557384',\n",
              " '3858241,3634889',\n",
              " '3858242,1515701',\n",
              " '3858242,3319261',\n",
              " '3858242,3668705',\n",
              " '3858242,3707004']"
            ]
          },
          "metadata": {},
          "execution_count": 284
        }
      ]
    },
    {
      "cell_type": "code",
      "source": [
        "rddCitations_modified=rddCitations.filter(lambda row: '\\x00' not in row)"
      ],
      "metadata": {
        "id": "Pzi9dWVqv41d"
      },
      "execution_count": 285,
      "outputs": []
    },
    {
      "cell_type": "code",
      "source": [
        "rddCitations_modified.take(20)\n",
        "rddCitations_modified.count()"
      ],
      "metadata": {
        "colab": {
          "base_uri": "https://localhost:8080/"
        },
        "id": "R-G1ItMRwCya",
        "outputId": "4cac27bc-8b3f-4c93-8a68-5191f08b4e3a"
      },
      "execution_count": 286,
      "outputs": [
        {
          "output_type": "execute_result",
          "data": {
            "text/plain": [
              "16522438"
            ]
          },
          "metadata": {},
          "execution_count": 286
        }
      ]
    },
    {
      "cell_type": "code",
      "source": [
        "rddCitations_modified_Reversed = rddCitations_modified.map(lambda x: x.split(',')).map(lambda x: (x[1], 1))\n",
        "rddCitations_modified_Reversed.take(5)"
      ],
      "metadata": {
        "colab": {
          "base_uri": "https://localhost:8080/"
        },
        "id": "DdLcVrsi_cZI",
        "outputId": "7e5ad9a7-62dd-4824-c43d-6aeb77bff218"
      },
      "execution_count": 287,
      "outputs": [
        {
          "output_type": "execute_result",
          "data": {
            "text/plain": [
              "[('956203', 1), ('1324234', 1), ('3398406', 1), ('3557384', 1), ('3634889', 1)]"
            ]
          },
          "metadata": {},
          "execution_count": 287
        }
      ]
    },
    {
      "cell_type": "code",
      "source": [
        "rddCitations_modified_Reversed_reduced = rddCitations_modified_Reversed.reduceByKey(lambda a,b: a+b)"
      ],
      "metadata": {
        "id": "ajxJbKTu_g-D"
      },
      "execution_count": 288,
      "outputs": []
    },
    {
      "cell_type": "code",
      "source": [
        "rddCitations_modified_Reversed_reduced.take(10)"
      ],
      "metadata": {
        "colab": {
          "base_uri": "https://localhost:8080/"
        },
        "id": "puzccKJ2_qNv",
        "outputId": "888b554b-550c-44b1-fde4-bd3812fea128"
      },
      "execution_count": 289,
      "outputs": [
        {
          "output_type": "execute_result",
          "data": {
            "text/plain": [
              "[('3557384', 13),\n",
              " ('2949611', 4),\n",
              " ('3146465', 14),\n",
              " ('3684611', 6),\n",
              " ('2211676', 1),\n",
              " ('3176316', 29),\n",
              " ('3699969', 34),\n",
              " ('2875449', 2),\n",
              " ('3706104', 5),\n",
              " ('3289214', 5)]"
            ]
          },
          "metadata": {},
          "execution_count": 289
        }
      ]
    },
    {
      "cell_type": "markdown",
      "metadata": {
        "id": "za4qzjHXyxcn"
      },
      "source": [
        "## Exercise 12.1\n",
        "\n",
        "Let us extract information from the cite75_99.txt and apat63_99.txt files. Write a script that performs the following operations:\n",
        "\n",
        "1. From the cite75_99.txt file, obtain the number of citations received by each patent. You must produce a DataFrame with the following format:\n",
        "\n",
        "| PatentNum | ncitations |\n",
        "|-----------|------------|\n",
        "| 3060453   |    3       |\n",
        "| 3390168   |    6       |\n",
        "| 3626542   |   18       | \n",
        "| 3611507   |    5       |\n",
        "| 3000113   |    4       |\n",
        "\n",
        "\n",
        "2. From the apat63_99.txt file, create a DataFrame to show the patent number, its country and the patent year, discarding the rest of fields in the file. The DataFrame produced must have the following format:\n",
        "\n",
        "|PatentNum |country|Year |\n",
        "|----------|-------|-----|\n",
        "| 3070801  | BE    | 1963| \n",
        "| 3070802  | US    | 1963| \n",
        "| 3070803  | US    | 1963| \n",
        "| 3070804  | US    | 1963| \n",
        "| 3070805  | US    | 1963|\n",
        "\n",
        " \n",
        "**Requirements**\n",
        "\n",
        " - Both DataFrames must be stored in Parquet format with gzip compression. Check the number of partitions of each DataFrame and the number of files gererated.\n",
        "\n",
        " - It is **strongly advised** to copy the files from your Drive to a temporal directory in the notebook virtual machine and unzip them there. This will reduce the execution times. See the cell below:\n",
        "        "
      ]
    },
    {
      "cell_type": "code",
      "metadata": {
        "id": "aV_M6xMlB9hP",
        "colab": {
          "base_uri": "https://localhost:8080/"
        },
        "outputId": "9b356023-6967-40b8-ff66-d1e29bdb3507"
      },
      "source": [
        "!mkdir /tmp/data/\n",
        "!cp \"$DRIVE_DATA\"apat63_99.txt.tar.bz2 \"$DRIVE_DATA\"cite75_99.txt.tar.bz2 /tmp/data\n",
        "%cd /tmp/data\n",
        "!ls\n",
        "!tar -jxf apat63_99.txt.tar.bz2\n",
        "!tar -jxf cite75_99.txt.tar.bz2of_citations_receiv\n",
        "!rm /tmp/data/*.tar.bz2\n",
        "!ls"
      ],
      "execution_count": 290,
      "outputs": [
        {
          "output_type": "stream",
          "name": "stdout",
          "text": [
            "/tmp/data\n",
            "apat63_99.txt.tar.bz2  cite75_99.txt.tar.bz2\n",
            "tar (child): cite75_99.txt.tar.bz2of_citations_receiv: Cannot open: No such file or directory\n",
            "tar (child): Error is not recoverable: exiting now\n",
            "tar: Child returned status 2\n",
            "tar: Error is not recoverable: exiting now\n",
            "apat63_99.txt\n"
          ]
        }
      ]
    },
    {
      "cell_type": "code",
      "source": [
        "# Question 1 \n",
        "# Run exercice 5.3 first\n",
        "columns = [\"PatentNum\", \"ncitations\"]\n",
        "dfCitations_modified_Reversed_reduced = rddCitations_modified_Reversed_reduced.toDF(schema=columns)\n",
        "dfCitations_modified_Reversed_reduced.show()"
      ],
      "metadata": {
        "colab": {
          "base_uri": "https://localhost:8080/"
        },
        "id": "rKuSm6z6AYUe",
        "outputId": "c35db766-1fbb-47c2-facb-4246cea2f432"
      },
      "execution_count": 291,
      "outputs": [
        {
          "output_type": "stream",
          "name": "stdout",
          "text": [
            "+---------+----------+\n",
            "|PatentNum|ncitations|\n",
            "+---------+----------+\n",
            "|  3557384|        13|\n",
            "|  2949611|         4|\n",
            "|  3146465|        14|\n",
            "|  3684611|         6|\n",
            "|  2211676|         1|\n",
            "|  3176316|        29|\n",
            "|  3699969|        34|\n",
            "|  2875449|         2|\n",
            "|  3706104|         5|\n",
            "|  3289214|         5|\n",
            "|  3611446|         2|\n",
            "|  3748663|         3|\n",
            "|  2869141|         5|\n",
            "|  1106732|         1|\n",
            "|  3092049|         2|\n",
            "|  3319588|         6|\n",
            "|  2518060|         2|\n",
            "|  2331472|         2|\n",
            "|  2665963|         6|\n",
            "|  2702225|         2|\n",
            "+---------+----------+\n",
            "only showing top 20 rows\n",
            "\n"
          ]
        }
      ]
    },
    {
      "cell_type": "code",
      "source": [
        "# saving the df in parquet format inside the folder Data \n",
        "dfCitations_modified_Reversed_reduced.write.mode(\"overwrite\").parquet(os.environ[\"DRIVE_DATA\"] + \"dfCitations_modified_Reversed_reduced.parquet\")"
      ],
      "metadata": {
        "id": "XEeGjBsfEUZj"
      },
      "execution_count": 292,
      "outputs": []
    },
    {
      "cell_type": "code",
      "source": [
        "# checking if correctly saved\n",
        "temp = spark.read\\\n",
        "            .format(\"parquet\")\\\n",
        "            .option(\"mode\", \"FAILFAST\")\\\n",
        "            .load(os.environ[\"DRIVE_DATA\"] + \"dfCitations_modified_Reversed_reduced.parquet\")\n",
        "temp.show()"
      ],
      "metadata": {
        "colab": {
          "base_uri": "https://localhost:8080/"
        },
        "id": "Ij4w72CgEoiG",
        "outputId": "ec02650d-98aa-4684-ccca-62bc1898b4c7"
      },
      "execution_count": 293,
      "outputs": [
        {
          "output_type": "stream",
          "name": "stdout",
          "text": [
            "+---------+----------+\n",
            "|PatentNum|ncitations|\n",
            "+---------+----------+\n",
            "|  3557384|        13|\n",
            "|  2949611|         4|\n",
            "|  3146465|        14|\n",
            "|  3684611|         6|\n",
            "|  2211676|         1|\n",
            "|  3176316|        29|\n",
            "|  3699969|        34|\n",
            "|  2875449|         2|\n",
            "|  3706104|         5|\n",
            "|  3289214|         5|\n",
            "|  3611446|         2|\n",
            "|  3748663|         3|\n",
            "|  2869141|         5|\n",
            "|  1106732|         1|\n",
            "|  3092049|         2|\n",
            "|  3319588|         6|\n",
            "|  2518060|         2|\n",
            "|  2331472|         2|\n",
            "|  2665963|         6|\n",
            "|  2702225|         2|\n",
            "+---------+----------+\n",
            "only showing top 20 rows\n",
            "\n"
          ]
        }
      ]
    },
    {
      "cell_type": "code",
      "source": [
        "# Question 2\n",
        "\n",
        "rddApat = sc.textFile(os.environ[\"DRIVE_DATA\"] + \"/apat63_99.txt.tar.bz2\", use_unicode=True)\n",
        "rddApat.take(10)"
      ],
      "metadata": {
        "id": "zi5zs9lDFPwX",
        "colab": {
          "base_uri": "https://localhost:8080/"
        },
        "outputId": "0d4a8a70-c592-4a46-baeb-5f592954b1a9"
      },
      "execution_count": 294,
      "outputs": [
        {
          "output_type": "execute_result",
          "data": {
            "text/plain": [
              "['apat63_99.txt\\x00\\x00\\x00\\x00\\x00\\x00\\x00\\x00\\x00\\x00\\x00\\x00\\x00\\x00\\x00\\x00\\x00\\x00\\x00\\x00\\x00\\x00\\x00\\x00\\x00\\x00\\x00\\x00\\x00\\x00\\x00\\x00\\x00\\x00\\x00\\x00\\x00\\x00\\x00\\x00\\x00\\x00\\x00\\x00\\x00\\x00\\x00\\x00\\x00\\x00\\x00\\x00\\x00\\x00\\x00\\x00\\x00\\x00\\x00\\x00\\x00\\x00\\x00\\x00\\x00\\x00\\x00\\x00\\x00\\x00\\x00\\x00\\x00\\x00\\x00\\x00\\x00\\x00\\x00\\x00\\x00\\x00\\x00\\x00\\x00\\x00\\x00000660 \\x00001750 \\x00001750 \\x0001607555413 13130732465 012705\\x00 0\\x00\\x00\\x00\\x00\\x00\\x00\\x00\\x00\\x00\\x00\\x00\\x00\\x00\\x00\\x00\\x00\\x00\\x00\\x00\\x00\\x00\\x00\\x00\\x00\\x00\\x00\\x00\\x00\\x00\\x00\\x00\\x00\\x00\\x00\\x00\\x00\\x00\\x00\\x00\\x00\\x00\\x00\\x00\\x00\\x00\\x00\\x00\\x00\\x00\\x00\\x00\\x00\\x00\\x00\\x00\\x00\\x00\\x00\\x00\\x00\\x00\\x00\\x00\\x00\\x00\\x00\\x00\\x00\\x00\\x00\\x00\\x00\\x00\\x00\\x00\\x00\\x00\\x00\\x00\\x00\\x00\\x00\\x00\\x00\\x00\\x00\\x00\\x00\\x00\\x00\\x00\\x00\\x00\\x00\\x00\\x00\\x00\\x00\\x00\\x00ustar\\x0000jlo\\x00\\x00\\x00\\x00\\x00\\x00\\x00\\x00\\x00\\x00\\x00\\x00\\x00\\x00\\x00\\x00\\x00\\x00\\x00\\x00\\x00\\x00\\x00\\x00\\x00\\x00\\x00\\x00\\x00jlo\\x00\\x00\\x00\\x00\\x00\\x00\\x00\\x00\\x00\\x00\\x00\\x00\\x00\\x00\\x00\\x00\\x00\\x00\\x00\\x00\\x00\\x00\\x00\\x00\\x00\\x00\\x00\\x00\\x00000000 \\x00000000 \\x00\\x00\\x00\\x00\\x00\\x00\\x00\\x00\\x00\\x00\\x00\\x00\\x00\\x00\\x00\\x00\\x00\\x00\\x00\\x00\\x00\\x00\\x00\\x00\\x00\\x00\\x00\\x00\\x00\\x00\\x00\\x00\\x00\\x00\\x00\\x00\\x00\\x00\\x00\\x00\\x00\\x00\\x00\\x00\\x00\\x00\\x00\\x00\\x00\\x00\\x00\\x00\\x00\\x00\\x00\\x00\\x00\\x00\\x00\\x00\\x00\\x00\\x00\\x00\\x00\\x00\\x00\\x00\\x00\\x00\\x00\\x00\\x00\\x00\\x00\\x00\\x00\\x00\\x00\\x00\\x00\\x00\\x00\\x00\\x00\\x00\\x00\\x00\\x00\\x00\\x00\\x00\\x00\\x00\\x00\\x00\\x00\\x00\\x00\\x00\\x00\\x00\\x00\\x00\\x00\\x00\\x00\\x00\\x00\\x00\\x00\\x00\\x00\\x00\\x00\\x00\\x00\\x00\\x00\\x00\\x00\\x00\\x00\\x00\\x00\\x00\\x00\\x00\\x00\\x00\\x00\\x00\\x00\\x00\\x00\\x00\\x00\\x00\\x00\\x00\\x00\\x00\\x00\\x00\\x00\\x00\\x00\\x00\\x00\\x00\\x00\\x00\\x00\\x00\\x00\\x00\\x00\\x00\\x00\\x00\\x00\\x00\\x00\\x00\\x00\\x00\\x00\\x00\"PATENT\",\"GYEAR\",\"GDATE\",\"APPYEAR\",\"COUNTRY\",\"POSTATE\",\"ASSIGNEE\",\"ASSCODE\",\"CLAIMS\",\"NCLASS\",\"CAT\",\"SUBCAT\",\"CMADE\",\"CRECEIVE\",\"RATIOCIT\",\"GENERAL\",\"ORIGINAL\",\"FWDAPLAG\",\"BCKGTLAG\",\"SELFCTUB\",\"SELFCTLB\",\"SECDUPBD\",\"SECDLWBD\"',\n",
              " '3070801,1963,1096,,\"BE\",\"\",,1,,269,6,69,,1,,0,,,,,,,',\n",
              " '3070802,1963,1096,,\"US\",\"TX\",,1,,2,6,63,,0,,,,,,,,,',\n",
              " '3070803,1963,1096,,\"US\",\"IL\",,1,,2,6,63,,9,,0.3704,,,,,,,',\n",
              " '3070804,1963,1096,,\"US\",\"OH\",,1,,2,6,63,,3,,0.6667,,,,,,,',\n",
              " '3070805,1963,1096,,\"US\",\"CA\",,1,,2,6,63,,1,,0,,,,,,,',\n",
              " '3070806,1963,1096,,\"US\",\"PA\",,1,,2,6,63,,0,,,,,,,,,',\n",
              " '3070807,1963,1096,,\"US\",\"OH\",,1,,623,3,39,,3,,0.4444,,,,,,,',\n",
              " '3070808,1963,1096,,\"US\",\"IA\",,1,,623,3,39,,4,,0.375,,,,,,,',\n",
              " '3070809,1963,1096,,\"US\",\"AZ\",,1,,4,6,65,,0,,,,,,,,,']"
            ]
          },
          "metadata": {},
          "execution_count": 294
        }
      ]
    },
    {
      "cell_type": "code",
      "source": [
        "rddApat_modified=rddApat.filter(lambda row: '\\x00' not in row)"
      ],
      "metadata": {
        "id": "3ge-NQA3F34P"
      },
      "execution_count": 295,
      "outputs": []
    },
    {
      "cell_type": "code",
      "source": [
        "rddApat_modified.take(20)"
      ],
      "metadata": {
        "colab": {
          "base_uri": "https://localhost:8080/"
        },
        "id": "ZaYDAi1uGCg3",
        "outputId": "ecd44a33-de60-4776-92df-f9e52ee91194"
      },
      "execution_count": 296,
      "outputs": [
        {
          "output_type": "execute_result",
          "data": {
            "text/plain": [
              "['3070801,1963,1096,,\"BE\",\"\",,1,,269,6,69,,1,,0,,,,,,,',\n",
              " '3070802,1963,1096,,\"US\",\"TX\",,1,,2,6,63,,0,,,,,,,,,',\n",
              " '3070803,1963,1096,,\"US\",\"IL\",,1,,2,6,63,,9,,0.3704,,,,,,,',\n",
              " '3070804,1963,1096,,\"US\",\"OH\",,1,,2,6,63,,3,,0.6667,,,,,,,',\n",
              " '3070805,1963,1096,,\"US\",\"CA\",,1,,2,6,63,,1,,0,,,,,,,',\n",
              " '3070806,1963,1096,,\"US\",\"PA\",,1,,2,6,63,,0,,,,,,,,,',\n",
              " '3070807,1963,1096,,\"US\",\"OH\",,1,,623,3,39,,3,,0.4444,,,,,,,',\n",
              " '3070808,1963,1096,,\"US\",\"IA\",,1,,623,3,39,,4,,0.375,,,,,,,',\n",
              " '3070809,1963,1096,,\"US\",\"AZ\",,1,,4,6,65,,0,,,,,,,,,',\n",
              " '3070810,1963,1096,,\"US\",\"IL\",,1,,4,6,65,,3,,0.4444,,,,,,,',\n",
              " '3070811,1963,1096,,\"US\",\"CA\",,1,,4,6,65,,8,,0,,,,,,,',\n",
              " '3070812,1963,1096,,\"US\",\"LA\",,1,,4,6,65,,3,,0.4444,,,,,,,',\n",
              " '3070813,1963,1096,,\"US\",\"NY\",,1,,5,6,65,,2,,0,,,,,,,',\n",
              " '3070814,1963,1096,,\"US\",\"MN\",,2,,267,5,59,,2,,0.5,,,,,,,',\n",
              " '3070815,1963,1096,,\"US\",\"CO\",,1,,7,5,59,,1,,0,,,,,,,',\n",
              " '3070816,1963,1096,,\"US\",\"OK\",,1,,114,5,55,,4,,0,,,,,,,',\n",
              " '3070817,1963,1096,,\"US\",\"RI\",,2,,114,5,55,,5,,0.64,,,,,,,',\n",
              " '3070818,1963,1096,,\"US\",\"IN\",,1,,441,6,69,,4,,0.625,,,,,,,',\n",
              " '3070819,1963,1096,,\"US\",\"TN\",,4,,12,6,63,,0,,,,,,,,,',\n",
              " '3070820,1963,1096,,\"GB\",\"\",,2,,12,6,63,,0,,,,,,,,,']"
            ]
          },
          "metadata": {},
          "execution_count": 296
        }
      ]
    },
    {
      "cell_type": "code",
      "source": [
        "rddApat_modified_Splitted = rddApat_modified.map(lambda x: x.split(','))\n",
        "rddApat_modified_Splitted.take(2)"
      ],
      "metadata": {
        "colab": {
          "base_uri": "https://localhost:8080/"
        },
        "id": "0CRWO_g5GQjE",
        "outputId": "83d37e20-7456-452b-869a-a69eb622b656"
      },
      "execution_count": 297,
      "outputs": [
        {
          "output_type": "execute_result",
          "data": {
            "text/plain": [
              "[['3070801',\n",
              "  '1963',\n",
              "  '1096',\n",
              "  '',\n",
              "  '\"BE\"',\n",
              "  '\"\"',\n",
              "  '',\n",
              "  '1',\n",
              "  '',\n",
              "  '269',\n",
              "  '6',\n",
              "  '69',\n",
              "  '',\n",
              "  '1',\n",
              "  '',\n",
              "  '0',\n",
              "  '',\n",
              "  '',\n",
              "  '',\n",
              "  '',\n",
              "  '',\n",
              "  '',\n",
              "  ''],\n",
              " ['3070802',\n",
              "  '1963',\n",
              "  '1096',\n",
              "  '',\n",
              "  '\"US\"',\n",
              "  '\"TX\"',\n",
              "  '',\n",
              "  '1',\n",
              "  '',\n",
              "  '2',\n",
              "  '6',\n",
              "  '63',\n",
              "  '',\n",
              "  '0',\n",
              "  '',\n",
              "  '',\n",
              "  '',\n",
              "  '',\n",
              "  '',\n",
              "  '',\n",
              "  '',\n",
              "  '',\n",
              "  '']]"
            ]
          },
          "metadata": {},
          "execution_count": 297
        }
      ]
    },
    {
      "cell_type": "code",
      "source": [
        "columns = [\"PatentNum\", \"ncitations\"]\n",
        "dfApat=rddApat_modified_Splitted.toDF()\n",
        "dfApat.show()"
      ],
      "metadata": {
        "colab": {
          "base_uri": "https://localhost:8080/"
        },
        "id": "UrNAPAaQHnHh",
        "outputId": "3bcad2fd-4607-44c3-8cdd-653337169206"
      },
      "execution_count": 298,
      "outputs": [
        {
          "output_type": "stream",
          "name": "stdout",
          "text": [
            "+-------+----+----+---+----+----+---+---+---+---+---+---+---+---+---+------+---+---+---+---+---+---+---+\n",
            "|     _1|  _2|  _3| _4|  _5|  _6| _7| _8| _9|_10|_11|_12|_13|_14|_15|   _16|_17|_18|_19|_20|_21|_22|_23|\n",
            "+-------+----+----+---+----+----+---+---+---+---+---+---+---+---+---+------+---+---+---+---+---+---+---+\n",
            "|3070801|1963|1096|   |\"BE\"|  \"\"|   |  1|   |269|  6| 69|   |  1|   |     0|   |   |   |   |   |   |   |\n",
            "|3070802|1963|1096|   |\"US\"|\"TX\"|   |  1|   |  2|  6| 63|   |  0|   |      |   |   |   |   |   |   |   |\n",
            "|3070803|1963|1096|   |\"US\"|\"IL\"|   |  1|   |  2|  6| 63|   |  9|   |0.3704|   |   |   |   |   |   |   |\n",
            "|3070804|1963|1096|   |\"US\"|\"OH\"|   |  1|   |  2|  6| 63|   |  3|   |0.6667|   |   |   |   |   |   |   |\n",
            "|3070805|1963|1096|   |\"US\"|\"CA\"|   |  1|   |  2|  6| 63|   |  1|   |     0|   |   |   |   |   |   |   |\n",
            "|3070806|1963|1096|   |\"US\"|\"PA\"|   |  1|   |  2|  6| 63|   |  0|   |      |   |   |   |   |   |   |   |\n",
            "|3070807|1963|1096|   |\"US\"|\"OH\"|   |  1|   |623|  3| 39|   |  3|   |0.4444|   |   |   |   |   |   |   |\n",
            "|3070808|1963|1096|   |\"US\"|\"IA\"|   |  1|   |623|  3| 39|   |  4|   | 0.375|   |   |   |   |   |   |   |\n",
            "|3070809|1963|1096|   |\"US\"|\"AZ\"|   |  1|   |  4|  6| 65|   |  0|   |      |   |   |   |   |   |   |   |\n",
            "|3070810|1963|1096|   |\"US\"|\"IL\"|   |  1|   |  4|  6| 65|   |  3|   |0.4444|   |   |   |   |   |   |   |\n",
            "|3070811|1963|1096|   |\"US\"|\"CA\"|   |  1|   |  4|  6| 65|   |  8|   |     0|   |   |   |   |   |   |   |\n",
            "|3070812|1963|1096|   |\"US\"|\"LA\"|   |  1|   |  4|  6| 65|   |  3|   |0.4444|   |   |   |   |   |   |   |\n",
            "|3070813|1963|1096|   |\"US\"|\"NY\"|   |  1|   |  5|  6| 65|   |  2|   |     0|   |   |   |   |   |   |   |\n",
            "|3070814|1963|1096|   |\"US\"|\"MN\"|   |  2|   |267|  5| 59|   |  2|   |   0.5|   |   |   |   |   |   |   |\n",
            "|3070815|1963|1096|   |\"US\"|\"CO\"|   |  1|   |  7|  5| 59|   |  1|   |     0|   |   |   |   |   |   |   |\n",
            "|3070816|1963|1096|   |\"US\"|\"OK\"|   |  1|   |114|  5| 55|   |  4|   |     0|   |   |   |   |   |   |   |\n",
            "|3070817|1963|1096|   |\"US\"|\"RI\"|   |  2|   |114|  5| 55|   |  5|   |  0.64|   |   |   |   |   |   |   |\n",
            "|3070818|1963|1096|   |\"US\"|\"IN\"|   |  1|   |441|  6| 69|   |  4|   | 0.625|   |   |   |   |   |   |   |\n",
            "|3070819|1963|1096|   |\"US\"|\"TN\"|   |  4|   | 12|  6| 63|   |  0|   |      |   |   |   |   |   |   |   |\n",
            "|3070820|1963|1096|   |\"GB\"|  \"\"|   |  2|   | 12|  6| 63|   |  0|   |      |   |   |   |   |   |   |   |\n",
            "+-------+----+----+---+----+----+---+---+---+---+---+---+---+---+---+------+---+---+---+---+---+---+---+\n",
            "only showing top 20 rows\n",
            "\n"
          ]
        }
      ]
    },
    {
      "cell_type": "code",
      "source": [
        "columns = [\"PatentNum\", \"country\", \"Year\"]\n",
        "dfApat_small = dfApat.select(\"_1\", \"_5\", \"_2\").toDF(*columns)\n",
        "dfApat_small.show()"
      ],
      "metadata": {
        "colab": {
          "base_uri": "https://localhost:8080/"
        },
        "id": "mQKBYenNIZde",
        "outputId": "344b22a0-3587-421e-fb8c-7dc7fc1262a4"
      },
      "execution_count": 299,
      "outputs": [
        {
          "output_type": "stream",
          "name": "stdout",
          "text": [
            "+---------+-------+----+\n",
            "|PatentNum|country|Year|\n",
            "+---------+-------+----+\n",
            "|  3070801|   \"BE\"|1963|\n",
            "|  3070802|   \"US\"|1963|\n",
            "|  3070803|   \"US\"|1963|\n",
            "|  3070804|   \"US\"|1963|\n",
            "|  3070805|   \"US\"|1963|\n",
            "|  3070806|   \"US\"|1963|\n",
            "|  3070807|   \"US\"|1963|\n",
            "|  3070808|   \"US\"|1963|\n",
            "|  3070809|   \"US\"|1963|\n",
            "|  3070810|   \"US\"|1963|\n",
            "|  3070811|   \"US\"|1963|\n",
            "|  3070812|   \"US\"|1963|\n",
            "|  3070813|   \"US\"|1963|\n",
            "|  3070814|   \"US\"|1963|\n",
            "|  3070815|   \"US\"|1963|\n",
            "|  3070816|   \"US\"|1963|\n",
            "|  3070817|   \"US\"|1963|\n",
            "|  3070818|   \"US\"|1963|\n",
            "|  3070819|   \"US\"|1963|\n",
            "|  3070820|   \"GB\"|1963|\n",
            "+---------+-------+----+\n",
            "only showing top 20 rows\n",
            "\n"
          ]
        }
      ]
    },
    {
      "cell_type": "code",
      "source": [
        "# saving the df in parquet format inside the folder Data \n",
        "dfApat_small.write.mode(\"overwrite\").parquet(os.environ[\"DRIVE_DATA\"] + \"dfApat_small.parquet\")"
      ],
      "metadata": {
        "id": "o90aj03DKXxq"
      },
      "execution_count": 300,
      "outputs": []
    },
    {
      "cell_type": "code",
      "source": [
        "# checking if correctly saved\n",
        "temp = spark.read\\\n",
        "            .format(\"parquet\")\\\n",
        "            .option(\"mode\", \"FAILFAST\")\\\n",
        "            .load(os.environ[\"DRIVE_DATA\"] + \"dfApat_small.parquet\")\n",
        "temp.show()"
      ],
      "metadata": {
        "id": "JJoN0DO5KfZD",
        "colab": {
          "base_uri": "https://localhost:8080/"
        },
        "outputId": "23391357-2af1-4f2c-8c67-280a4194577e"
      },
      "execution_count": 301,
      "outputs": [
        {
          "output_type": "stream",
          "name": "stdout",
          "text": [
            "+---------+-------+----+\n",
            "|PatentNum|country|Year|\n",
            "+---------+-------+----+\n",
            "|  3070801|   \"BE\"|1963|\n",
            "|  3070802|   \"US\"|1963|\n",
            "|  3070803|   \"US\"|1963|\n",
            "|  3070804|   \"US\"|1963|\n",
            "|  3070805|   \"US\"|1963|\n",
            "|  3070806|   \"US\"|1963|\n",
            "|  3070807|   \"US\"|1963|\n",
            "|  3070808|   \"US\"|1963|\n",
            "|  3070809|   \"US\"|1963|\n",
            "|  3070810|   \"US\"|1963|\n",
            "|  3070811|   \"US\"|1963|\n",
            "|  3070812|   \"US\"|1963|\n",
            "|  3070813|   \"US\"|1963|\n",
            "|  3070814|   \"US\"|1963|\n",
            "|  3070815|   \"US\"|1963|\n",
            "|  3070816|   \"US\"|1963|\n",
            "|  3070817|   \"US\"|1963|\n",
            "|  3070818|   \"US\"|1963|\n",
            "|  3070819|   \"US\"|1963|\n",
            "|  3070820|   \"GB\"|1963|\n",
            "+---------+-------+----+\n",
            "only showing top 20 rows\n",
            "\n"
          ]
        }
      ]
    },
    {
      "cell_type": "markdown",
      "metadata": {
        "id": "HF1_LXZEnzMn"
      },
      "source": [
        "## Exercise 12.2\n",
        "\n",
        "Write a code that, from the Parquet files created in the previous exercise, obtains for each country and for each year: the total number of patents, the total number of citations from those patents, the average number of citations and the maximum number of citations. Compute only those values in which there are any values in both files (*inner join*). In addition, each country must show its whole name, obtained from the *country_codes.txt* file. The final DataFrame must look like this one:\n",
        "\n",
        "\n",
        "|Country            |Year|PatentsNum |TotalCitations|AvgCitations      |MaxCitations|\n",
        "|-------------------|----|-----------|--------------|------------------|------------|\n",
        "|Algeria            |1963|2          |7             |3.5               |4           |\n",
        "|Algeria            |1968|1          |2             |2.0               |2           |\n",
        "|Algeria            |1970|1          |2             |2.0               |2           |\n",
        "|Algeria            |1972|1          |1             |1.0               |1           |\n",
        "|Algeria            |1977|1          |2             |2.0               |2           |\n",
        "|Andorra            |1987|1          |3             |3.0               |3           |\n",
        "|Andorra            |1993|1          |1             |1.0               |1           |\n",
        "|Andorra            |1998|1          |1             |1.0               |1           |\n",
        "|Antigua and Barbuda|1978|1          |6             |6.0               |6           |\n",
        "|Antigua and Barbuda|1979|1          |14            |14.0              |14          |\n",
        "|Antigua and Barbuda|1991|1          |8             |8.0               |8           |\n",
        "|Antigua and Barbuda|1994|1          |19            |19.0              |19          |\n",
        "|Antigua and Barbuda|1995|2          |12            |6.0               |11          |\n",
        "|Antigua and Barbuda|1996|2          |3             |1.5               |2           |\n",
        "|Argentina          |1963|14         |35            |2.5               |7           |\n",
        "|Argentina          |1964|20         |60            |3.0               |8           |\n",
        "|Argentina          |1965|10         |35            |3.5               |10          |\n",
        "|Argentina          |1966|16         |44            |2.75              |9           |\n",
        "|Argentina          |1967|13         |60            |4.615384615384615 |14          |\n",
        "\n",
        "**Requirements**\n",
        "\n",
        "- The output DataFrame must be saved in a single CSV file, with a header and without any compression.\n"
      ]
    },
    {
      "cell_type": "code",
      "source": [
        "# Loading parquet files\n",
        "\n",
        "dfApat = spark.read\\\n",
        "            .format(\"parquet\")\\\n",
        "            .option(\"mode\", \"FAILFAST\")\\\n",
        "            .load(os.environ[\"DRIVE_DATA\"] + \"dfApat_small.parquet\")\n",
        "dfApat.show(truncate=False)\n",
        "\n",
        "dfCitations = spark.read\\\n",
        "            .format(\"parquet\")\\\n",
        "            .option(\"mode\", \"FAILFAST\")\\\n",
        "            .load(os.environ[\"DRIVE_DATA\"] + \"dfCitations_modified_Reversed_reduced.parquet\")\n",
        "dfCitations.show(truncate=False)"
      ],
      "metadata": {
        "colab": {
          "base_uri": "https://localhost:8080/"
        },
        "id": "YULcADBemrtv",
        "outputId": "d9b52036-ed06-4ea8-c3b2-6645f3bcc918"
      },
      "execution_count": 302,
      "outputs": [
        {
          "output_type": "stream",
          "name": "stdout",
          "text": [
            "+---------+-------+----+\n",
            "|PatentNum|country|Year|\n",
            "+---------+-------+----+\n",
            "|3070801  |\"BE\"   |1963|\n",
            "|3070802  |\"US\"   |1963|\n",
            "|3070803  |\"US\"   |1963|\n",
            "|3070804  |\"US\"   |1963|\n",
            "|3070805  |\"US\"   |1963|\n",
            "|3070806  |\"US\"   |1963|\n",
            "|3070807  |\"US\"   |1963|\n",
            "|3070808  |\"US\"   |1963|\n",
            "|3070809  |\"US\"   |1963|\n",
            "|3070810  |\"US\"   |1963|\n",
            "|3070811  |\"US\"   |1963|\n",
            "|3070812  |\"US\"   |1963|\n",
            "|3070813  |\"US\"   |1963|\n",
            "|3070814  |\"US\"   |1963|\n",
            "|3070815  |\"US\"   |1963|\n",
            "|3070816  |\"US\"   |1963|\n",
            "|3070817  |\"US\"   |1963|\n",
            "|3070818  |\"US\"   |1963|\n",
            "|3070819  |\"US\"   |1963|\n",
            "|3070820  |\"GB\"   |1963|\n",
            "+---------+-------+----+\n",
            "only showing top 20 rows\n",
            "\n",
            "+---------+----------+\n",
            "|PatentNum|ncitations|\n",
            "+---------+----------+\n",
            "|3557384  |13        |\n",
            "|2949611  |4         |\n",
            "|3146465  |14        |\n",
            "|3684611  |6         |\n",
            "|2211676  |1         |\n",
            "|3176316  |29        |\n",
            "|3699969  |34        |\n",
            "|2875449  |2         |\n",
            "|3706104  |5         |\n",
            "|3289214  |5         |\n",
            "|3611446  |2         |\n",
            "|3748663  |3         |\n",
            "|2869141  |5         |\n",
            "|1106732  |1         |\n",
            "|3092049  |2         |\n",
            "|3319588  |6         |\n",
            "|2518060  |2         |\n",
            "|2331472  |2         |\n",
            "|2665963  |6         |\n",
            "|2702225  |2         |\n",
            "+---------+----------+\n",
            "only showing top 20 rows\n",
            "\n"
          ]
        }
      ]
    },
    {
      "cell_type": "code",
      "source": [
        "# Fixing Country Codes file\n",
        "\n",
        "tempCountryCodes = spark.read\\\n",
        "            .text(os.environ[\"DRIVE_DATA\"] + \"/country_codes.txt\")\n",
        "\n",
        "dfCountryCodes = tempCountryCodes.withColumn('lists', f.split(tempCountryCodes['value'], '\\t')).select('lists')\n",
        "\n",
        "dfCountryCodes = dfCountryCodes.withColumn('code', dfCountryCodes['lists'][0])\\\n",
        "                  .withColumn('country', dfCountryCodes['lists'][1])\\\n",
        "                  .select('code', 'country')\\\n",
        "                  .withColumn(\"temp\", lit(\"\\\"\"))\n",
        "                  \n",
        "dfCountryCodes = dfCountryCodes\\\n",
        "                  .select(concat(dfCountryCodes.temp, dfCountryCodes.code, dfCountryCodes.temp).alias('code'), 'country')\n",
        "\n",
        "dfCountryCodes.show()"
      ],
      "metadata": {
        "colab": {
          "base_uri": "https://localhost:8080/"
        },
        "id": "tQFkMvin1Io4",
        "outputId": "db6f8bfc-8d9a-4cca-cb47-a2c631c9f88d"
      },
      "execution_count": 303,
      "outputs": [
        {
          "output_type": "stream",
          "name": "stdout",
          "text": [
            "+----+-------------------+\n",
            "|code|            country|\n",
            "+----+-------------------+\n",
            "|\"AF\"|        Afghanistan|\n",
            "|\"AX\"|      Aland Islands|\n",
            "|\"AL\"|            Albania|\n",
            "|\"DZ\"|            Algeria|\n",
            "|\"AS\"|     American Samoa|\n",
            "|\"AD\"|            Andorra|\n",
            "|\"AO\"|             Angola|\n",
            "|\"AI\"|           Anguilla|\n",
            "|\"AQ\"|         Antarctica|\n",
            "|\"AG\"|Antigua and Barbuda|\n",
            "|\"AR\"|          Argentina|\n",
            "|\"AM\"|            Armenia|\n",
            "|\"AW\"|              Aruba|\n",
            "|\"AC\"|   Ascension Island|\n",
            "|\"AU\"|          Australia|\n",
            "|\"AT\"|            Austria|\n",
            "|\"AZ\"|         Azerbaijan|\n",
            "|\"BS\"|            Bahamas|\n",
            "|\"BH\"|            Bahrain|\n",
            "|\"BD\"|         Bangladesh|\n",
            "+----+-------------------+\n",
            "only showing top 20 rows\n",
            "\n"
          ]
        }
      ]
    },
    {
      "cell_type": "code",
      "source": [
        "initialJointDF = dfApat.join(dfCitations, dfApat.PatentNum == dfCitations.PatentNum, \"inner\").drop(dfCitations.PatentNum)\n",
        "initialJointDF.show()"
      ],
      "metadata": {
        "colab": {
          "base_uri": "https://localhost:8080/"
        },
        "id": "jp5RFJST2HHu",
        "outputId": "ac6811bb-01be-4b52-854d-9630d7152a56"
      },
      "execution_count": 304,
      "outputs": [
        {
          "output_type": "stream",
          "name": "stdout",
          "text": [
            "+---------+-------+----+----------+\n",
            "|PatentNum|country|Year|ncitations|\n",
            "+---------+-------+----+----------+\n",
            "|  3070803|   \"US\"|1963|         9|\n",
            "|  3070804|   \"US\"|1963|         3|\n",
            "|  3070807|   \"US\"|1963|         3|\n",
            "|  3070810|   \"US\"|1963|         3|\n",
            "|  3070812|   \"US\"|1963|         3|\n",
            "|  3070816|   \"US\"|1963|         4|\n",
            "|  3070823|   \"US\"|1963|         8|\n",
            "|  3070824|   \"US\"|1963|         5|\n",
            "|  3070828|   \"US\"|1963|         4|\n",
            "|  3070829|   \"FR\"|1963|         5|\n",
            "|  3070832|   \"US\"|1963|         1|\n",
            "|  3070833|   \"US\"|1963|         5|\n",
            "|  3070836|   \"US\"|1963|        24|\n",
            "|  3070839|   \"US\"|1963|         8|\n",
            "|  3070840|   \"GB\"|1963|         6|\n",
            "|  3070845|   \"US\"|1963|         3|\n",
            "|  3070846|   \"US\"|1963|         9|\n",
            "|  3070848|   \"DE\"|1963|         1|\n",
            "|  3070850|   \"US\"|1963|        10|\n",
            "|  3070852|   \"US\"|1963|         7|\n",
            "+---------+-------+----+----------+\n",
            "only showing top 20 rows\n",
            "\n"
          ]
        }
      ]
    },
    {
      "cell_type": "code",
      "source": [
        "jointDF = initialJointDF.join(dfCountryCodes, initialJointDF.country == dfCountryCodes.code, \"inner\")\\\n",
        "                        .drop(initialJointDF.country)\\\n",
        "                        .select('country', 'Year','PatentNum', 'ncitations')\\\n",
        "                        .withColumnRenamed(\"country\", \"Country\")\\\n",
        "                        .withColumnRenamed(\"PatentNum\", \"PatentsNum\")\\\n",
        "                        .withColumnRenamed(\"ncitations\", \"TotalCitations\")\n",
        "jointDF.show()"
      ],
      "metadata": {
        "colab": {
          "base_uri": "https://localhost:8080/"
        },
        "id": "jsxSr7Ct5kYb",
        "outputId": "7de6bd3a-c4e0-4e07-dcaf-906f820dc0ad"
      },
      "execution_count": 305,
      "outputs": [
        {
          "output_type": "stream",
          "name": "stdout",
          "text": [
            "+------------------+----+----------+--------------+\n",
            "|           Country|Year|PatentsNum|TotalCitations|\n",
            "+------------------+----+----------+--------------+\n",
            "|     United States|1963|   3070803|             9|\n",
            "|     United States|1963|   3070804|             3|\n",
            "|     United States|1963|   3070807|             3|\n",
            "|     United States|1963|   3070810|             3|\n",
            "|     United States|1963|   3070812|             3|\n",
            "|     United States|1963|   3070816|             4|\n",
            "|     United States|1963|   3070823|             8|\n",
            "|     United States|1963|   3070824|             5|\n",
            "|     United States|1963|   3070828|             4|\n",
            "|            France|1963|   3070829|             5|\n",
            "|     United States|1963|   3070832|             1|\n",
            "|     United States|1963|   3070833|             5|\n",
            "|     United States|1963|   3070836|            24|\n",
            "|     United States|1963|   3070839|             8|\n",
            "|Great Britain (UK)|1963|   3070840|             6|\n",
            "|     United States|1963|   3070845|             3|\n",
            "|     United States|1963|   3070846|             9|\n",
            "|           Germany|1963|   3070848|             1|\n",
            "|     United States|1963|   3070850|            10|\n",
            "|     United States|1963|   3070852|             7|\n",
            "+------------------+----+----------+--------------+\n",
            "only showing top 20 rows\n",
            "\n"
          ]
        }
      ]
    },
    {
      "cell_type": "code",
      "source": [
        "# Column containing average number of citations per year per country\n",
        "group_cols = [\"Country\", \"Year\"]\n",
        "groupedJointDF = jointDF.groupBy(group_cols).agg(avg(\"TotalCitations\").alias(\"AvgCitations\"), max(\"TotalCitations\").alias(\"MaxCitations\")).sort(col(\"Country\"),col(\"Year\"))\n",
        "groupedJointDF.show()"
      ],
      "metadata": {
        "colab": {
          "base_uri": "https://localhost:8080/"
        },
        "id": "pBY_ZejuYdq9",
        "outputId": "b1db5ad0-d7dd-48bd-a432-7da309e58cf7"
      },
      "execution_count": 306,
      "outputs": [
        {
          "output_type": "stream",
          "name": "stdout",
          "text": [
            "+-------------------+----+-----------------+------------+\n",
            "|            Country|Year|     AvgCitations|MaxCitations|\n",
            "+-------------------+----+-----------------+------------+\n",
            "|            Algeria|1963|              3.5|           4|\n",
            "|            Algeria|1968|              2.0|           2|\n",
            "|            Algeria|1970|              2.0|           2|\n",
            "|            Algeria|1972|              1.0|           1|\n",
            "|            Algeria|1977|              2.0|           2|\n",
            "|            Andorra|1987|              3.0|           3|\n",
            "|            Andorra|1993|              1.0|           1|\n",
            "|            Andorra|1998|              1.0|           1|\n",
            "|Antigua and Barbuda|1978|              6.0|           6|\n",
            "|Antigua and Barbuda|1979|             14.0|          14|\n",
            "|Antigua and Barbuda|1991|              8.0|           8|\n",
            "|Antigua and Barbuda|1994|             19.0|          19|\n",
            "|Antigua and Barbuda|1995|              6.0|          11|\n",
            "|Antigua and Barbuda|1996|              1.5|           2|\n",
            "|          Argentina|1963|              2.5|           7|\n",
            "|          Argentina|1964|              3.0|           8|\n",
            "|          Argentina|1965|              3.5|          10|\n",
            "|          Argentina|1966|             2.75|           9|\n",
            "|          Argentina|1967|4.615384615384615|          14|\n",
            "|          Argentina|1968|5.714285714285714|          21|\n",
            "+-------------------+----+-----------------+------------+\n",
            "only showing top 20 rows\n",
            "\n"
          ]
        }
      ]
    },
    {
      "cell_type": "code",
      "source": [
        "responseDF = jointDF.join(groupedJointDF, group_cols)\n",
        "responseDF.show()"
      ],
      "metadata": {
        "colab": {
          "base_uri": "https://localhost:8080/"
        },
        "id": "01oGde4raAxh",
        "outputId": "00ec1062-71ba-4323-ccee-1c25ec45238a"
      },
      "execution_count": 307,
      "outputs": [
        {
          "output_type": "stream",
          "name": "stdout",
          "text": [
            "+-------+----+----------+--------------+-----------------+------------+\n",
            "|Country|Year|PatentsNum|TotalCitations|     AvgCitations|MaxCitations|\n",
            "+-------+----+----------+--------------+-----------------+------------+\n",
            "|  Italy|1963|   3071049|             2|3.304932735426009|          21|\n",
            "|  Italy|1963|   3071820|             1|3.304932735426009|          21|\n",
            "|  Italy|1963|   3072084|             2|3.304932735426009|          21|\n",
            "|  Italy|1963|   3072862|             1|3.304932735426009|          21|\n",
            "|  Italy|1963|   3073194|             1|3.304932735426009|          21|\n",
            "|  Italy|1963|   3073441|             4|3.304932735426009|          21|\n",
            "|  Italy|1963|   3073667|             2|3.304932735426009|          21|\n",
            "|  Italy|1963|   3073741|             1|3.304932735426009|          21|\n",
            "|  Italy|1963|   3073997|            10|3.304932735426009|          21|\n",
            "|  Italy|1963|   3074339|             4|3.304932735426009|          21|\n",
            "|  Italy|1963|   3074382|             2|3.304932735426009|          21|\n",
            "|  Italy|1963|   3074582|             2|3.304932735426009|          21|\n",
            "|  Italy|1963|   3074739|             1|3.304932735426009|          21|\n",
            "|  Italy|1963|   3075857|             7|3.304932735426009|          21|\n",
            "|  Italy|1963|   3076215|             1|3.304932735426009|          21|\n",
            "|  Italy|1963|   3076326|             1|3.304932735426009|          21|\n",
            "|  Italy|1963|   3076404|             4|3.304932735426009|          21|\n",
            "|  Italy|1963|   3077156|             7|3.304932735426009|          21|\n",
            "|  Italy|1963|   3077165|             3|3.304932735426009|          21|\n",
            "|  Italy|1963|   3077302|             1|3.304932735426009|          21|\n",
            "+-------+----+----------+--------------+-----------------+------------+\n",
            "only showing top 20 rows\n",
            "\n"
          ]
        }
      ]
    },
    {
      "cell_type": "code",
      "source": [
        "# The output file should be a csv\n",
        "responseDF.write.mode('overwrite').csv(os.environ[\"DRIVE_DATA\"] + \"responseCSV.csv\",header = 'true')"
      ],
      "metadata": {
        "id": "roZM5JvUPmLQ"
      },
      "execution_count": 308,
      "outputs": []
    },
    {
      "cell_type": "markdown",
      "metadata": {
        "id": "wT3WU-1IwOPD"
      },
      "source": [
        "## Exercise 12.3\n",
        "\n",
        "From the apat63_99.txt file, obtain the number of patents per country and year **using RDDs** (do not use DataFrames). The resulting RDD must be a key/value RDD in which the key is a country and the value a list of tuples. Each tuple will be composed of a year and the number of patents of the country during that year. In addition, the resulting RDD must be sorted by  the country code and, for each country, values must be sorted by year.\n",
        "\n",
        "Example of output key/value entry:\n",
        "\n",
        "    (u'PA', [(u'1963', 2), (u'1964', 2), (u'1965', 1), (u'1966', 1), (u'1970', 1), (u'1971', 1), (u'1972', 6), (u'1974', 3), (u'1975', 5), (u'1976', 3), (u'1977', 2), (u'1978', 2), (u'1980', 2), (u'1982', 1), (u'1983', 1), (u'1985', 2), (u'1986', 1), (u'1987', 2), (u'1988', 1), (u'1990', 1), (u'1991', 2), (u'1993', 1), (u'1995', 1), (u'1996', 1), (u'1999', 1)])\n",
        "\n",
        "**Requirements:**\n",
        "\n",
        "- You must remove the double quotation marks from the country code.\n",
        "- Use 8 partitions to read the apat63_99.txt.bz2 file.\n"
      ]
    },
    {
      "cell_type": "code",
      "source": [
        "rddApat = sc.textFile(os.environ[\"DRIVE_DATA\"] + \"/apat63_99.txt.tar.bz2\", use_unicode=True)\n",
        "rddApat.take(10)"
      ],
      "metadata": {
        "colab": {
          "base_uri": "https://localhost:8080/"
        },
        "outputId": "c8b14f80-1fbb-431d-b632-5ff3cb21b9e2",
        "id": "dpmtkvq_NFXY"
      },
      "execution_count": 309,
      "outputs": [
        {
          "output_type": "execute_result",
          "data": {
            "text/plain": [
              "['apat63_99.txt\\x00\\x00\\x00\\x00\\x00\\x00\\x00\\x00\\x00\\x00\\x00\\x00\\x00\\x00\\x00\\x00\\x00\\x00\\x00\\x00\\x00\\x00\\x00\\x00\\x00\\x00\\x00\\x00\\x00\\x00\\x00\\x00\\x00\\x00\\x00\\x00\\x00\\x00\\x00\\x00\\x00\\x00\\x00\\x00\\x00\\x00\\x00\\x00\\x00\\x00\\x00\\x00\\x00\\x00\\x00\\x00\\x00\\x00\\x00\\x00\\x00\\x00\\x00\\x00\\x00\\x00\\x00\\x00\\x00\\x00\\x00\\x00\\x00\\x00\\x00\\x00\\x00\\x00\\x00\\x00\\x00\\x00\\x00\\x00\\x00\\x00\\x00000660 \\x00001750 \\x00001750 \\x0001607555413 13130732465 012705\\x00 0\\x00\\x00\\x00\\x00\\x00\\x00\\x00\\x00\\x00\\x00\\x00\\x00\\x00\\x00\\x00\\x00\\x00\\x00\\x00\\x00\\x00\\x00\\x00\\x00\\x00\\x00\\x00\\x00\\x00\\x00\\x00\\x00\\x00\\x00\\x00\\x00\\x00\\x00\\x00\\x00\\x00\\x00\\x00\\x00\\x00\\x00\\x00\\x00\\x00\\x00\\x00\\x00\\x00\\x00\\x00\\x00\\x00\\x00\\x00\\x00\\x00\\x00\\x00\\x00\\x00\\x00\\x00\\x00\\x00\\x00\\x00\\x00\\x00\\x00\\x00\\x00\\x00\\x00\\x00\\x00\\x00\\x00\\x00\\x00\\x00\\x00\\x00\\x00\\x00\\x00\\x00\\x00\\x00\\x00\\x00\\x00\\x00\\x00\\x00\\x00ustar\\x0000jlo\\x00\\x00\\x00\\x00\\x00\\x00\\x00\\x00\\x00\\x00\\x00\\x00\\x00\\x00\\x00\\x00\\x00\\x00\\x00\\x00\\x00\\x00\\x00\\x00\\x00\\x00\\x00\\x00\\x00jlo\\x00\\x00\\x00\\x00\\x00\\x00\\x00\\x00\\x00\\x00\\x00\\x00\\x00\\x00\\x00\\x00\\x00\\x00\\x00\\x00\\x00\\x00\\x00\\x00\\x00\\x00\\x00\\x00\\x00000000 \\x00000000 \\x00\\x00\\x00\\x00\\x00\\x00\\x00\\x00\\x00\\x00\\x00\\x00\\x00\\x00\\x00\\x00\\x00\\x00\\x00\\x00\\x00\\x00\\x00\\x00\\x00\\x00\\x00\\x00\\x00\\x00\\x00\\x00\\x00\\x00\\x00\\x00\\x00\\x00\\x00\\x00\\x00\\x00\\x00\\x00\\x00\\x00\\x00\\x00\\x00\\x00\\x00\\x00\\x00\\x00\\x00\\x00\\x00\\x00\\x00\\x00\\x00\\x00\\x00\\x00\\x00\\x00\\x00\\x00\\x00\\x00\\x00\\x00\\x00\\x00\\x00\\x00\\x00\\x00\\x00\\x00\\x00\\x00\\x00\\x00\\x00\\x00\\x00\\x00\\x00\\x00\\x00\\x00\\x00\\x00\\x00\\x00\\x00\\x00\\x00\\x00\\x00\\x00\\x00\\x00\\x00\\x00\\x00\\x00\\x00\\x00\\x00\\x00\\x00\\x00\\x00\\x00\\x00\\x00\\x00\\x00\\x00\\x00\\x00\\x00\\x00\\x00\\x00\\x00\\x00\\x00\\x00\\x00\\x00\\x00\\x00\\x00\\x00\\x00\\x00\\x00\\x00\\x00\\x00\\x00\\x00\\x00\\x00\\x00\\x00\\x00\\x00\\x00\\x00\\x00\\x00\\x00\\x00\\x00\\x00\\x00\\x00\\x00\\x00\\x00\\x00\\x00\\x00\\x00\"PATENT\",\"GYEAR\",\"GDATE\",\"APPYEAR\",\"COUNTRY\",\"POSTATE\",\"ASSIGNEE\",\"ASSCODE\",\"CLAIMS\",\"NCLASS\",\"CAT\",\"SUBCAT\",\"CMADE\",\"CRECEIVE\",\"RATIOCIT\",\"GENERAL\",\"ORIGINAL\",\"FWDAPLAG\",\"BCKGTLAG\",\"SELFCTUB\",\"SELFCTLB\",\"SECDUPBD\",\"SECDLWBD\"',\n",
              " '3070801,1963,1096,,\"BE\",\"\",,1,,269,6,69,,1,,0,,,,,,,',\n",
              " '3070802,1963,1096,,\"US\",\"TX\",,1,,2,6,63,,0,,,,,,,,,',\n",
              " '3070803,1963,1096,,\"US\",\"IL\",,1,,2,6,63,,9,,0.3704,,,,,,,',\n",
              " '3070804,1963,1096,,\"US\",\"OH\",,1,,2,6,63,,3,,0.6667,,,,,,,',\n",
              " '3070805,1963,1096,,\"US\",\"CA\",,1,,2,6,63,,1,,0,,,,,,,',\n",
              " '3070806,1963,1096,,\"US\",\"PA\",,1,,2,6,63,,0,,,,,,,,,',\n",
              " '3070807,1963,1096,,\"US\",\"OH\",,1,,623,3,39,,3,,0.4444,,,,,,,',\n",
              " '3070808,1963,1096,,\"US\",\"IA\",,1,,623,3,39,,4,,0.375,,,,,,,',\n",
              " '3070809,1963,1096,,\"US\",\"AZ\",,1,,4,6,65,,0,,,,,,,,,']"
            ]
          },
          "metadata": {},
          "execution_count": 309
        }
      ]
    },
    {
      "cell_type": "code",
      "source": [
        "rddApat_modified=rddApat.filter(lambda row: '\\x00' not in row)"
      ],
      "metadata": {
        "id": "KPdLrUX9NFXZ"
      },
      "execution_count": 310,
      "outputs": []
    },
    {
      "cell_type": "code",
      "source": [
        "rddApat_modified.take(5)"
      ],
      "metadata": {
        "colab": {
          "base_uri": "https://localhost:8080/"
        },
        "outputId": "532aabc9-5f1c-47d3-ab80-1dbb794e29bc",
        "id": "IR6iVLVONFXZ"
      },
      "execution_count": 311,
      "outputs": [
        {
          "output_type": "execute_result",
          "data": {
            "text/plain": [
              "['3070801,1963,1096,,\"BE\",\"\",,1,,269,6,69,,1,,0,,,,,,,',\n",
              " '3070802,1963,1096,,\"US\",\"TX\",,1,,2,6,63,,0,,,,,,,,,',\n",
              " '3070803,1963,1096,,\"US\",\"IL\",,1,,2,6,63,,9,,0.3704,,,,,,,',\n",
              " '3070804,1963,1096,,\"US\",\"OH\",,1,,2,6,63,,3,,0.6667,,,,,,,',\n",
              " '3070805,1963,1096,,\"US\",\"CA\",,1,,2,6,63,,1,,0,,,,,,,']"
            ]
          },
          "metadata": {},
          "execution_count": 311
        }
      ]
    },
    {
      "cell_type": "code",
      "source": [
        "rddApat_modified_Splitted = rddApat_modified.map(lambda x: x.split(\",\"))\n",
        "rddApat_modified_Splitted.take(2)"
      ],
      "metadata": {
        "colab": {
          "base_uri": "https://localhost:8080/"
        },
        "outputId": "c97373bc-e475-4904-ad8b-86b694282bae",
        "id": "84suDxBmNFXa"
      },
      "execution_count": 312,
      "outputs": [
        {
          "output_type": "execute_result",
          "data": {
            "text/plain": [
              "[['3070801',\n",
              "  '1963',\n",
              "  '1096',\n",
              "  '',\n",
              "  '\"BE\"',\n",
              "  '\"\"',\n",
              "  '',\n",
              "  '1',\n",
              "  '',\n",
              "  '269',\n",
              "  '6',\n",
              "  '69',\n",
              "  '',\n",
              "  '1',\n",
              "  '',\n",
              "  '0',\n",
              "  '',\n",
              "  '',\n",
              "  '',\n",
              "  '',\n",
              "  '',\n",
              "  '',\n",
              "  ''],\n",
              " ['3070802',\n",
              "  '1963',\n",
              "  '1096',\n",
              "  '',\n",
              "  '\"US\"',\n",
              "  '\"TX\"',\n",
              "  '',\n",
              "  '1',\n",
              "  '',\n",
              "  '2',\n",
              "  '6',\n",
              "  '63',\n",
              "  '',\n",
              "  '0',\n",
              "  '',\n",
              "  '',\n",
              "  '',\n",
              "  '',\n",
              "  '',\n",
              "  '',\n",
              "  '',\n",
              "  '',\n",
              "  '']]"
            ]
          },
          "metadata": {},
          "execution_count": 312
        }
      ]
    },
    {
      "cell_type": "code",
      "source": [
        "rddApat_modified_Splitted2 = rddApat_modified_Splitted.map(lambda x: ((x[4], x[1]), 1))\n",
        "rddApat_modified_Splitted2.take(10)"
      ],
      "metadata": {
        "colab": {
          "base_uri": "https://localhost:8080/"
        },
        "id": "dEwNy0yUM6fU",
        "outputId": "145f2a9c-868e-4c08-d9d6-317c648a2a91"
      },
      "execution_count": 313,
      "outputs": [
        {
          "output_type": "execute_result",
          "data": {
            "text/plain": [
              "[(('\"BE\"', '1963'), 1),\n",
              " (('\"US\"', '1963'), 1),\n",
              " (('\"US\"', '1963'), 1),\n",
              " (('\"US\"', '1963'), 1),\n",
              " (('\"US\"', '1963'), 1),\n",
              " (('\"US\"', '1963'), 1),\n",
              " (('\"US\"', '1963'), 1),\n",
              " (('\"US\"', '1963'), 1),\n",
              " (('\"US\"', '1963'), 1),\n",
              " (('\"US\"', '1963'), 1)]"
            ]
          },
          "metadata": {},
          "execution_count": 313
        }
      ]
    },
    {
      "cell_type": "code",
      "source": [
        "rddApat_modified_Splitted3 = rddApat_modified_Splitted2.reduceByKey( lambda x,y: x+y ).map(lambda x: (x[0][0].split(\"\\\"\")[1],(x[0][1], x[1])))\n",
        "rddApat_modified_Splitted3.take(5)"
      ],
      "metadata": {
        "id": "K6A7esImWwhx",
        "colab": {
          "base_uri": "https://localhost:8080/"
        },
        "outputId": "ef1bea8c-f756-40b4-98a7-56e5c2d6ef66"
      },
      "execution_count": 314,
      "outputs": [
        {
          "output_type": "execute_result",
          "data": {
            "text/plain": [
              "[('BE', ('1963', 85)),\n",
              " ('FR', ('1963', 853)),\n",
              " ('CH', ('1963', 668)),\n",
              " ('SE', ('1963', 386)),\n",
              " ('JP', ('1963', 407))]"
            ]
          },
          "metadata": {},
          "execution_count": 314
        }
      ]
    },
    {
      "cell_type": "code",
      "source": [
        "rddApat_modified_Splitted4 = rddApat_modified_Splitted3.sortBy(lambda x: (x[0], x[1][0]))\n",
        "\n",
        "rddApat_modified_Splitted4.take(5)"
      ],
      "metadata": {
        "colab": {
          "base_uri": "https://localhost:8080/"
        },
        "id": "ti97lTPejebe",
        "outputId": "d82bff05-e058-4790-fefc-08868d5237c3"
      },
      "execution_count": 315,
      "outputs": [
        {
          "output_type": "execute_result",
          "data": {
            "text/plain": [
              "[('AD', ('1987', 1)),\n",
              " ('AD', ('1993', 1)),\n",
              " ('AD', ('1995', 1)),\n",
              " ('AD', ('1998', 2)),\n",
              " ('AD', ('1999', 1))]"
            ]
          },
          "metadata": {},
          "execution_count": 315
        }
      ]
    },
    {
      "cell_type": "code",
      "source": [
        "def to_list(a):\n",
        "    return [a]\n",
        "def append(a, b):\n",
        "    a.append(b)\n",
        "    return a\n",
        "def extend(a, b):\n",
        "    a.extend(b)\n",
        "    return a\n",
        "\n",
        "rddApat_modified_Splitted5 = rddApat_modified_Splitted4.combineByKey(to_list, append, extend)\n",
        "rddApat_modified_Splitted5.take(2)"
      ],
      "metadata": {
        "colab": {
          "base_uri": "https://localhost:8080/"
        },
        "id": "6Tug7UtwwL3T",
        "outputId": "64969d34-c3fc-4db2-a3eb-5e49a718e3ae"
      },
      "execution_count": 316,
      "outputs": [
        {
          "output_type": "execute_result",
          "data": {
            "text/plain": [
              "[('AG',\n",
              "  [('1978', 1),\n",
              "   ('1979', 1),\n",
              "   ('1991', 1),\n",
              "   ('1994', 1),\n",
              "   ('1995', 2),\n",
              "   ('1996', 2),\n",
              "   ('1999', 1)]),\n",
              " ('AR',\n",
              "  [('1963', 19),\n",
              "   ('1964', 27),\n",
              "   ('1965', 18),\n",
              "   ('1966', 20),\n",
              "   ('1967', 16),\n",
              "   ('1968', 18),\n",
              "   ('1969', 17),\n",
              "   ('1970', 23),\n",
              "   ('1971', 22),\n",
              "   ('1972', 29),\n",
              "   ('1973', 28),\n",
              "   ('1974', 24),\n",
              "   ('1975', 24),\n",
              "   ('1976', 24),\n",
              "   ('1977', 20),\n",
              "   ('1978', 21),\n",
              "   ('1979', 24),\n",
              "   ('1980', 18),\n",
              "   ('1981', 25),\n",
              "   ('1982', 18),\n",
              "   ('1983', 21),\n",
              "   ('1984', 20),\n",
              "   ('1985', 11),\n",
              "   ('1986', 17),\n",
              "   ('1987', 18),\n",
              "   ('1988', 16),\n",
              "   ('1989', 20),\n",
              "   ('1990', 17),\n",
              "   ('1991', 16),\n",
              "   ('1992', 20),\n",
              "   ('1993', 24),\n",
              "   ('1994', 32),\n",
              "   ('1995', 31),\n",
              "   ('1996', 30),\n",
              "   ('1997', 35),\n",
              "   ('1998', 43),\n",
              "   ('1999', 44)])]"
            ]
          },
          "metadata": {},
          "execution_count": 316
        }
      ]
    },
    {
      "cell_type": "markdown",
      "metadata": {
        "id": "g0LiWoc4VQdh"
      },
      "source": [
        "## Exercise 12.4\n",
        "\n",
        "From the Parquet files created in Exercise 12.1, create a DataFrame that gives the patent or patents with the higher number of citations per country and year, as well as the average of the number of citations per country and year, and the difference between the maximum and the average values. The resulting DataFrame should look like this:\n",
        "\n",
        "\n",
        "|Country|Year|PatentNum|max  |average       |diff              |\n",
        "|-------|----|---------|-----|--------------|------------------|\n",
        "|AD     |1987|4688621  |3    |3.0           |0.0               |\n",
        "|AD     |1993|5193231  |1    |1.0           |0.0               |\n",
        "|AD     |1998|5765303  |1    |1.0           |0.0               |\n",
        "|AE     |1984|4482959  |5    |5.0           |0.0               |\n",
        "|AE     |1985|4554981  |14   |14.0          |0.0               |\n",
        "|AE     |1987|4663181  |3    |3.0           |0.0               |\n",
        "|AE     |1989|4805221  |7    |5.0           |2.0               |\n",
        "|AE     |1990|4909321  |2    |2.0           |0.0               |\n",
        "|AE     |1991|5004552  |3    |2.0           |1.0               |\n",
        "|AE     |1992|5104556  |4    |4.0           |0.0               |\n",
        "|AE     |1993|5181569  |8    |8.0           |0.0               |\n",
        "|AE     |1996|5580125  |1    |1.0           |0.0               |\n",
        "|AG     |1978|4126850  |6    |6.0           |0.0               |\n",
        "|AG     |1979|4172981  |14   |14.0          |0.0               |\n",
        "|AG     |1991|5013035  |8    |8.0           |0.0               |\n",
        "|AG     |1994|5345071  |19   |19.0          |0.0               |\n",
        "|AG     |1995|5457307  |11   |6.0           |5.0               |\n",
        "|AG     |1996|5525786  |2    |1.5           |0.5               |\n",
        "\n",
        "**Requirements:**\n",
        "\n",
        "- The DataFrame must be sorted by country code and year.\n",
        "- Do **NOT** replace the country code by its whole name.\n",
        "- The output must be saved as a single CSV file, with a header and without any compression.\n"
      ]
    },
    {
      "cell_type": "code",
      "source": [
        "dfApatFromParquet = spark.read\\\n",
        "            .format(\"parquet\")\\\n",
        "            .option(\"mode\", \"FAILFAST\")\\\n",
        "            .load(os.environ[\"DRIVE_DATA\"] + \"dfApat_small.parquet\")\n",
        "dfApatFromParquet.show()"
      ],
      "metadata": {
        "colab": {
          "base_uri": "https://localhost:8080/"
        },
        "id": "elq4lwWQdN2G",
        "outputId": "9ee699e3-c869-454d-f269-5e0b24374e06"
      },
      "execution_count": 317,
      "outputs": [
        {
          "output_type": "stream",
          "name": "stdout",
          "text": [
            "+---------+-------+----+\n",
            "|PatentNum|country|Year|\n",
            "+---------+-------+----+\n",
            "|  3070801|   \"BE\"|1963|\n",
            "|  3070802|   \"US\"|1963|\n",
            "|  3070803|   \"US\"|1963|\n",
            "|  3070804|   \"US\"|1963|\n",
            "|  3070805|   \"US\"|1963|\n",
            "|  3070806|   \"US\"|1963|\n",
            "|  3070807|   \"US\"|1963|\n",
            "|  3070808|   \"US\"|1963|\n",
            "|  3070809|   \"US\"|1963|\n",
            "|  3070810|   \"US\"|1963|\n",
            "|  3070811|   \"US\"|1963|\n",
            "|  3070812|   \"US\"|1963|\n",
            "|  3070813|   \"US\"|1963|\n",
            "|  3070814|   \"US\"|1963|\n",
            "|  3070815|   \"US\"|1963|\n",
            "|  3070816|   \"US\"|1963|\n",
            "|  3070817|   \"US\"|1963|\n",
            "|  3070818|   \"US\"|1963|\n",
            "|  3070819|   \"US\"|1963|\n",
            "|  3070820|   \"GB\"|1963|\n",
            "+---------+-------+----+\n",
            "only showing top 20 rows\n",
            "\n"
          ]
        }
      ]
    },
    {
      "cell_type": "code",
      "source": [
        "dfCitationsFromParquet = spark.read\\\n",
        "            .format(\"parquet\")\\\n",
        "            .option(\"mode\", \"FAILFAST\")\\\n",
        "            .load(os.environ[\"DRIVE_DATA\"] + \"dfCitations_modified_Reversed_reduced.parquet\")\n",
        "dfCitationsFromParquet.show()"
      ],
      "metadata": {
        "colab": {
          "base_uri": "https://localhost:8080/"
        },
        "id": "pK4Ts5oBd9o0",
        "outputId": "2451b433-9013-47d4-93c8-7c87f01d7783"
      },
      "execution_count": 318,
      "outputs": [
        {
          "output_type": "stream",
          "name": "stdout",
          "text": [
            "+---------+----------+\n",
            "|PatentNum|ncitations|\n",
            "+---------+----------+\n",
            "|  3557384|        13|\n",
            "|  2949611|         4|\n",
            "|  3146465|        14|\n",
            "|  3684611|         6|\n",
            "|  2211676|         1|\n",
            "|  3176316|        29|\n",
            "|  3699969|        34|\n",
            "|  2875449|         2|\n",
            "|  3706104|         5|\n",
            "|  3289214|         5|\n",
            "|  3611446|         2|\n",
            "|  3748663|         3|\n",
            "|  2869141|         5|\n",
            "|  1106732|         1|\n",
            "|  3092049|         2|\n",
            "|  3319588|         6|\n",
            "|  2518060|         2|\n",
            "|  2331472|         2|\n",
            "|  2665963|         6|\n",
            "|  2702225|         2|\n",
            "+---------+----------+\n",
            "only showing top 20 rows\n",
            "\n"
          ]
        }
      ]
    },
    {
      "cell_type": "code",
      "source": [
        "initialJointDF = dfApat.join(dfCitations, dfApat.PatentNum == dfCitations.PatentNum, \"inner\")\\\n",
        "                        .drop(dfCitations.PatentNum)\\\n",
        "                        .select(\"country\", \"Year\", \"PatentNum\", \"ncitations\")\n",
        "initialJointDF.show()"
      ],
      "metadata": {
        "colab": {
          "base_uri": "https://localhost:8080/"
        },
        "id": "mKIsdhxEfALp",
        "outputId": "b9f5e84f-9ca4-4523-f468-33863db508a6"
      },
      "execution_count": 319,
      "outputs": [
        {
          "output_type": "stream",
          "name": "stdout",
          "text": [
            "+-------+----+---------+----------+\n",
            "|country|Year|PatentNum|ncitations|\n",
            "+-------+----+---------+----------+\n",
            "|   \"US\"|1963|  3070803|         9|\n",
            "|   \"US\"|1963|  3070804|         3|\n",
            "|   \"US\"|1963|  3070807|         3|\n",
            "|   \"US\"|1963|  3070810|         3|\n",
            "|   \"US\"|1963|  3070812|         3|\n",
            "|   \"US\"|1963|  3070816|         4|\n",
            "|   \"US\"|1963|  3070823|         8|\n",
            "|   \"US\"|1963|  3070824|         5|\n",
            "|   \"US\"|1963|  3070828|         4|\n",
            "|   \"FR\"|1963|  3070829|         5|\n",
            "|   \"US\"|1963|  3070832|         1|\n",
            "|   \"US\"|1963|  3070833|         5|\n",
            "|   \"US\"|1963|  3070836|        24|\n",
            "|   \"US\"|1963|  3070839|         8|\n",
            "|   \"GB\"|1963|  3070840|         6|\n",
            "|   \"US\"|1963|  3070845|         3|\n",
            "|   \"US\"|1963|  3070846|         9|\n",
            "|   \"DE\"|1963|  3070848|         1|\n",
            "|   \"US\"|1963|  3070850|        10|\n",
            "|   \"US\"|1963|  3070852|         7|\n",
            "+-------+----+---------+----------+\n",
            "only showing top 20 rows\n",
            "\n"
          ]
        }
      ]
    },
    {
      "cell_type": "code",
      "source": [
        "group_cols = [\"country\", \"Year\"]\n",
        "groupedJointDF = initialJointDF.groupBy(group_cols).agg(max(\"ncitations\").alias(\"max\"), avg(\"ncitations\").alias(\"average\")).sort(col(\"country\"),col(\"Year\"))\n",
        "groupedJointDF.show()"
      ],
      "metadata": {
        "colab": {
          "base_uri": "https://localhost:8080/"
        },
        "id": "8IrZG2ajea-o",
        "outputId": "64d76489-ec03-4d29-d356-cd16dbf31575"
      },
      "execution_count": 320,
      "outputs": [
        {
          "output_type": "stream",
          "name": "stdout",
          "text": [
            "+-------+----+---+-------+\n",
            "|country|Year|max|average|\n",
            "+-------+----+---+-------+\n",
            "|   \"AD\"|1987|  3|    3.0|\n",
            "|   \"AD\"|1993|  1|    1.0|\n",
            "|   \"AD\"|1998|  1|    1.0|\n",
            "|   \"AE\"|1984|  5|    5.0|\n",
            "|   \"AE\"|1985| 14|   14.0|\n",
            "|   \"AE\"|1987|  3|    3.0|\n",
            "|   \"AE\"|1989|  7|    5.0|\n",
            "|   \"AE\"|1990|  2|    2.0|\n",
            "|   \"AE\"|1991|  3|    2.0|\n",
            "|   \"AE\"|1992|  4|    4.0|\n",
            "|   \"AE\"|1993|  8|    8.0|\n",
            "|   \"AE\"|1996|  1|    1.0|\n",
            "|   \"AG\"|1978|  6|    6.0|\n",
            "|   \"AG\"|1979| 14|   14.0|\n",
            "|   \"AG\"|1991|  8|    8.0|\n",
            "|   \"AG\"|1994| 19|   19.0|\n",
            "|   \"AG\"|1995| 11|    6.0|\n",
            "|   \"AG\"|1996|  2|    1.5|\n",
            "|   \"AM\"|1995|  2|    2.0|\n",
            "|   \"AN\"|1979|  1|    1.0|\n",
            "+-------+----+---+-------+\n",
            "only showing top 20 rows\n",
            "\n"
          ]
        }
      ]
    },
    {
      "cell_type": "code",
      "source": [
        "groupedJointDF = groupedJointDF.withColumn(\"diff\", col('max')-col('average'))\n",
        "groupedJointDF.show()"
      ],
      "metadata": {
        "colab": {
          "base_uri": "https://localhost:8080/"
        },
        "id": "qfDY5r9tlRKu",
        "outputId": "71442001-9eeb-4918-f6a0-5ec893f79f2c"
      },
      "execution_count": 321,
      "outputs": [
        {
          "output_type": "stream",
          "name": "stdout",
          "text": [
            "+-------+----+---+-------+----+\n",
            "|country|Year|max|average|diff|\n",
            "+-------+----+---+-------+----+\n",
            "|   \"AD\"|1987|  3|    3.0| 0.0|\n",
            "|   \"AD\"|1993|  1|    1.0| 0.0|\n",
            "|   \"AD\"|1998|  1|    1.0| 0.0|\n",
            "|   \"AE\"|1984|  5|    5.0| 0.0|\n",
            "|   \"AE\"|1985| 14|   14.0| 0.0|\n",
            "|   \"AE\"|1987|  3|    3.0| 0.0|\n",
            "|   \"AE\"|1989|  7|    5.0| 2.0|\n",
            "|   \"AE\"|1990|  2|    2.0| 0.0|\n",
            "|   \"AE\"|1991|  3|    2.0| 1.0|\n",
            "|   \"AE\"|1992|  4|    4.0| 0.0|\n",
            "|   \"AE\"|1993|  8|    8.0| 0.0|\n",
            "|   \"AE\"|1996|  1|    1.0| 0.0|\n",
            "|   \"AG\"|1978|  6|    6.0| 0.0|\n",
            "|   \"AG\"|1979| 14|   14.0| 0.0|\n",
            "|   \"AG\"|1991|  8|    8.0| 0.0|\n",
            "|   \"AG\"|1994| 19|   19.0| 0.0|\n",
            "|   \"AG\"|1995| 11|    6.0| 5.0|\n",
            "|   \"AG\"|1996|  2|    1.5| 0.5|\n",
            "|   \"AM\"|1995|  2|    2.0| 0.0|\n",
            "|   \"AN\"|1979|  1|    1.0| 0.0|\n",
            "+-------+----+---+-------+----+\n",
            "only showing top 20 rows\n",
            "\n"
          ]
        }
      ]
    },
    {
      "cell_type": "code",
      "source": [
        "newerJointDF = initialJointDF.join(groupedJointDF, group_cols).sort(col(\"country\"),col(\"Year\"))\n",
        "newerJointDF.show()"
      ],
      "metadata": {
        "colab": {
          "base_uri": "https://localhost:8080/"
        },
        "id": "LPEoDFCIgY3Q",
        "outputId": "31650f3e-bd64-47cc-af62-752826da0a13"
      },
      "execution_count": 322,
      "outputs": [
        {
          "output_type": "stream",
          "name": "stdout",
          "text": [
            "+-------+----+---------+----------+---+-------+----+\n",
            "|country|Year|PatentNum|ncitations|max|average|diff|\n",
            "+-------+----+---------+----------+---+-------+----+\n",
            "|   \"AD\"|1987|  4688621|         3|  3|    3.0| 0.0|\n",
            "|   \"AD\"|1993|  5193231|         1|  1|    1.0| 0.0|\n",
            "|   \"AD\"|1998|  5765303|         1|  1|    1.0| 0.0|\n",
            "|   \"AE\"|1984|  4482959|         5|  5|    5.0| 0.0|\n",
            "|   \"AE\"|1985|  4554981|        14| 14|   14.0| 0.0|\n",
            "|   \"AE\"|1987|  4663181|         3|  3|    3.0| 0.0|\n",
            "|   \"AE\"|1989|  4805221|         7|  7|    5.0| 2.0|\n",
            "|   \"AE\"|1989|  4813707|         3|  7|    5.0| 2.0|\n",
            "|   \"AE\"|1990|  4909321|         2|  2|    2.0| 0.0|\n",
            "|   \"AE\"|1991|  5004552|         3|  3|    2.0| 1.0|\n",
            "|   \"AE\"|1991|  4997041|         1|  3|    2.0| 1.0|\n",
            "|   \"AE\"|1992|  5104556|         4|  4|    4.0| 0.0|\n",
            "|   \"AE\"|1993|  5181569|         8|  8|    8.0| 0.0|\n",
            "|   \"AE\"|1996|  5580125|         1|  1|    1.0| 0.0|\n",
            "|   \"AG\"|1978|  4126850|         6|  6|    6.0| 0.0|\n",
            "|   \"AG\"|1979|  4172981|        14| 14|   14.0| 0.0|\n",
            "|   \"AG\"|1991|  5013035|         8|  8|    8.0| 0.0|\n",
            "|   \"AG\"|1994|  5345071|        19| 19|   19.0| 0.0|\n",
            "|   \"AG\"|1995|  5472566|         1| 11|    6.0| 5.0|\n",
            "|   \"AG\"|1995|  5457307|        11| 11|    6.0| 5.0|\n",
            "+-------+----+---------+----------+---+-------+----+\n",
            "only showing top 20 rows\n",
            "\n"
          ]
        }
      ]
    },
    {
      "cell_type": "code",
      "source": [
        "newerJointDF = newerJointDF.where(newerJointDF.ncitations == newerJointDF.max).select(\"country\", \"Year\", \"PatentNum\",\"max\", \"average\", \"diff\")\n",
        "newerJointDF.show()"
      ],
      "metadata": {
        "colab": {
          "base_uri": "https://localhost:8080/"
        },
        "id": "zLWbpyDLoz2c",
        "outputId": "5de25787-60e1-46fd-cc83-5c06d3096aea"
      },
      "execution_count": 323,
      "outputs": [
        {
          "output_type": "stream",
          "name": "stdout",
          "text": [
            "+-------+----+---------+---+-------+----+\n",
            "|country|Year|PatentNum|max|average|diff|\n",
            "+-------+----+---------+---+-------+----+\n",
            "|   \"AD\"|1987|  4688621|  3|    3.0| 0.0|\n",
            "|   \"AD\"|1993|  5193231|  1|    1.0| 0.0|\n",
            "|   \"AD\"|1998|  5765303|  1|    1.0| 0.0|\n",
            "|   \"AE\"|1984|  4482959|  5|    5.0| 0.0|\n",
            "|   \"AE\"|1985|  4554981| 14|   14.0| 0.0|\n",
            "|   \"AE\"|1987|  4663181|  3|    3.0| 0.0|\n",
            "|   \"AE\"|1989|  4805221|  7|    5.0| 2.0|\n",
            "|   \"AE\"|1990|  4909321|  2|    2.0| 0.0|\n",
            "|   \"AE\"|1991|  5004552|  3|    2.0| 1.0|\n",
            "|   \"AE\"|1992|  5104556|  4|    4.0| 0.0|\n",
            "|   \"AE\"|1993|  5181569|  8|    8.0| 0.0|\n",
            "|   \"AE\"|1996|  5580125|  1|    1.0| 0.0|\n",
            "|   \"AG\"|1978|  4126850|  6|    6.0| 0.0|\n",
            "|   \"AG\"|1979|  4172981| 14|   14.0| 0.0|\n",
            "|   \"AG\"|1991|  5013035|  8|    8.0| 0.0|\n",
            "|   \"AG\"|1994|  5345071| 19|   19.0| 0.0|\n",
            "|   \"AG\"|1995|  5457307| 11|    6.0| 5.0|\n",
            "|   \"AG\"|1996|  5525786|  2|    1.5| 0.5|\n",
            "|   \"AM\"|1995|  5382341|  2|    2.0| 0.0|\n",
            "|   \"AN\"|1979|  4165701|  1|    1.0| 0.0|\n",
            "+-------+----+---------+---+-------+----+\n",
            "only showing top 20 rows\n",
            "\n"
          ]
        }
      ]
    },
    {
      "cell_type": "code",
      "source": [
        "# The output file should be a csv\n",
        "newerJointDF.write.mode('overwrite').csv(os.environ[\"DRIVE_DATA\"] + \"newerJointDF.csv\",header = 'true')"
      ],
      "metadata": {
        "id": "I043MvRTpmih"
      },
      "execution_count": 324,
      "outputs": []
    },
    {
      "cell_type": "markdown",
      "metadata": {
        "id": "ektPyLWzaImT"
      },
      "source": [
        "## Exercise 12.5\n",
        "\n",
        "From the Parquet file with the (PatentNum,Country,Year) information from Exercise 12.1, create a DataFrame that shows the number of patents associated to each country per decade (understanding as a *decade* the years from 0 to 9; e.g. from 1970 to 1979). In addition, the DataFrame must show the increase or decrease of the number of patents per country and decade with respect to the previous decade. The resulting DataFrame must look like this:\n",
        "\n",
        "|Country|Decade|PatentsNum|Diff|\n",
        "|-------|------|----------|----|\n",
        "|AD     |1980  |1         |0   |\n",
        "|AD     |1990  |5         |4   |\n",
        "|AE     |1980  |7         |0   |\n",
        "|AE     |1990  |11        |4   |\n",
        "|AG     |1970  |2         |0   |\n",
        "|AG     |1990  |7         |5   |\n",
        "|AI     |1990  |1         |0   |\n",
        "|AL     |1990  |1         |0   |\n",
        "|AM     |1990  |2         |0   |\n",
        "|AN     |1970  |1         |0   |\n",
        "|AN     |1980  |2         |1   |\n",
        "|AN     |1990  |5         |3   |\n",
        "|AR     |1960  |135       |0   |\n",
        "|AR     |1970  |239       |104 |\n",
        "|AR     |1980  |184       |-55 |\n",
        "|AR     |1990  |292       |108 |\n",
        "\n",
        "**Requirements**\n",
        "\n",
        "- The DataFrame must be sorted by country code and year.\n",
        "- Do **NOT** replace the country code by its whole name.\n",
        "- The output must be saved as a single CSV file, with a header and without any compression."
      ]
    },
    {
      "cell_type": "code",
      "source": [
        "dfApatFromParquet = spark.read\\\n",
        "            .format(\"parquet\")\\\n",
        "            .option(\"mode\", \"FAILFAST\")\\\n",
        "            .load(os.environ[\"DRIVE_DATA\"] + \"dfApat_small.parquet\")\n",
        "dfApatFromParquet.show()"
      ],
      "metadata": {
        "colab": {
          "base_uri": "https://localhost:8080/"
        },
        "id": "y0EWmoR4sYUW",
        "outputId": "79f59e48-f65d-4f61-df81-7e57f8155c82"
      },
      "execution_count": 325,
      "outputs": [
        {
          "output_type": "stream",
          "name": "stdout",
          "text": [
            "+---------+-------+----+\n",
            "|PatentNum|country|Year|\n",
            "+---------+-------+----+\n",
            "|  3070801|   \"BE\"|1963|\n",
            "|  3070802|   \"US\"|1963|\n",
            "|  3070803|   \"US\"|1963|\n",
            "|  3070804|   \"US\"|1963|\n",
            "|  3070805|   \"US\"|1963|\n",
            "|  3070806|   \"US\"|1963|\n",
            "|  3070807|   \"US\"|1963|\n",
            "|  3070808|   \"US\"|1963|\n",
            "|  3070809|   \"US\"|1963|\n",
            "|  3070810|   \"US\"|1963|\n",
            "|  3070811|   \"US\"|1963|\n",
            "|  3070812|   \"US\"|1963|\n",
            "|  3070813|   \"US\"|1963|\n",
            "|  3070814|   \"US\"|1963|\n",
            "|  3070815|   \"US\"|1963|\n",
            "|  3070816|   \"US\"|1963|\n",
            "|  3070817|   \"US\"|1963|\n",
            "|  3070818|   \"US\"|1963|\n",
            "|  3070819|   \"US\"|1963|\n",
            "|  3070820|   \"GB\"|1963|\n",
            "+---------+-------+----+\n",
            "only showing top 20 rows\n",
            "\n"
          ]
        }
      ]
    },
    {
      "cell_type": "code",
      "source": [
        "dfApatFromParquet = dfApatFromParquet.withColumn(\"Decade\", (f.floor(dfApatFromParquet[\"Year\"]/10)*10)\\\n",
        "                                                .cast(\"int\"))\\\n",
        "                                                .drop(\"Year\")\\\n",
        "                                                .select(\"Country\", \"Decade\", \"PatentNum\")\n",
        "dfApatFromParquet.show()"
      ],
      "metadata": {
        "colab": {
          "base_uri": "https://localhost:8080/"
        },
        "id": "Owsie0BQsY_B",
        "outputId": "3e30f481-d837-4b08-b5dc-05c58be4a48e"
      },
      "execution_count": 326,
      "outputs": [
        {
          "output_type": "stream",
          "name": "stdout",
          "text": [
            "+-------+------+---------+\n",
            "|Country|Decade|PatentNum|\n",
            "+-------+------+---------+\n",
            "|   \"BE\"|  1960|  3070801|\n",
            "|   \"US\"|  1960|  3070802|\n",
            "|   \"US\"|  1960|  3070803|\n",
            "|   \"US\"|  1960|  3070804|\n",
            "|   \"US\"|  1960|  3070805|\n",
            "|   \"US\"|  1960|  3070806|\n",
            "|   \"US\"|  1960|  3070807|\n",
            "|   \"US\"|  1960|  3070808|\n",
            "|   \"US\"|  1960|  3070809|\n",
            "|   \"US\"|  1960|  3070810|\n",
            "|   \"US\"|  1960|  3070811|\n",
            "|   \"US\"|  1960|  3070812|\n",
            "|   \"US\"|  1960|  3070813|\n",
            "|   \"US\"|  1960|  3070814|\n",
            "|   \"US\"|  1960|  3070815|\n",
            "|   \"US\"|  1960|  3070816|\n",
            "|   \"US\"|  1960|  3070817|\n",
            "|   \"US\"|  1960|  3070818|\n",
            "|   \"US\"|  1960|  3070819|\n",
            "|   \"GB\"|  1960|  3070820|\n",
            "+-------+------+---------+\n",
            "only showing top 20 rows\n",
            "\n"
          ]
        }
      ]
    },
    {
      "cell_type": "code",
      "source": [
        "rddApatFromParquet1 = dfApatFromParquet.sort(col(\"country\"))\\\n",
        "                                      .rdd\\\n",
        "                                      .map(lambda x: ((x[0],x[1]),1))\\\n",
        "                                      .reduceByKey(lambda a,b: a+b)\n",
        "rddApatFromParquet1.take(10)"
      ],
      "metadata": {
        "colab": {
          "base_uri": "https://localhost:8080/"
        },
        "id": "r_0b1SjPtNAt",
        "outputId": "f7bea32e-9c16-4f11-f78a-8985e79f6e04"
      },
      "execution_count": 327,
      "outputs": [
        {
          "output_type": "execute_result",
          "data": {
            "text/plain": [
              "[(('\"AD\"', 1980), 1),\n",
              " (('\"AD\"', 1990), 5),\n",
              " (('\"AE\"', 1980), 7),\n",
              " (('\"AE\"', 1990), 11),\n",
              " (('\"AG\"', 1970), 2),\n",
              " (('\"AG\"', 1990), 7),\n",
              " (('\"AI\"', 1990), 1),\n",
              " (('\"AN\"', 1970), 1),\n",
              " (('\"AN\"', 1980), 2),\n",
              " (('\"AN\"', 1990), 5)]"
            ]
          },
          "metadata": {},
          "execution_count": 327
        }
      ]
    },
    {
      "cell_type": "code",
      "source": [
        "rddApatFromParquet2 = rddApatFromParquet1.map(lambda x: (x[0][0], x[0][1], x[1]))\n",
        "rddApatFromParquet2.take(10)"
      ],
      "metadata": {
        "colab": {
          "base_uri": "https://localhost:8080/"
        },
        "id": "_zBOUHOjuzuu",
        "outputId": "b6d00b94-b03e-470b-df44-154a2329fdc8"
      },
      "execution_count": 328,
      "outputs": [
        {
          "output_type": "execute_result",
          "data": {
            "text/plain": [
              "[('\"AD\"', 1980, 1),\n",
              " ('\"AD\"', 1990, 5),\n",
              " ('\"AE\"', 1980, 7),\n",
              " ('\"AE\"', 1990, 11),\n",
              " ('\"AG\"', 1970, 2),\n",
              " ('\"AG\"', 1990, 7),\n",
              " ('\"AI\"', 1990, 1),\n",
              " ('\"AN\"', 1970, 1),\n",
              " ('\"AN\"', 1980, 2),\n",
              " ('\"AN\"', 1990, 5)]"
            ]
          },
          "metadata": {},
          "execution_count": 328
        }
      ]
    },
    {
      "cell_type": "code",
      "source": [
        "dfApatFromParquet3=rddApatFromParquet2.toDF()\\\n",
        "                                        .withColumnRenamed(\"_1\", \"Country\")\\\n",
        "                                        .withColumnRenamed(\"_2\", \"Decade\")\\\n",
        "                                        .withColumnRenamed(\"_3\",\"PatentsNum\")\n",
        "dfApatFromParquet3.show()"
      ],
      "metadata": {
        "colab": {
          "base_uri": "https://localhost:8080/"
        },
        "id": "kx6sFy4C0qfq",
        "outputId": "77700103-b24d-43b6-993d-be7e63f1b7cf"
      },
      "execution_count": 329,
      "outputs": [
        {
          "output_type": "stream",
          "name": "stdout",
          "text": [
            "+-------+------+----------+\n",
            "|Country|Decade|PatentsNum|\n",
            "+-------+------+----------+\n",
            "|   \"AD\"|  1980|         1|\n",
            "|   \"AD\"|  1990|         5|\n",
            "|   \"AE\"|  1980|         7|\n",
            "|   \"AE\"|  1990|        11|\n",
            "|   \"AG\"|  1970|         2|\n",
            "|   \"AG\"|  1990|         7|\n",
            "|   \"AI\"|  1990|         1|\n",
            "|   \"AN\"|  1970|         1|\n",
            "|   \"AN\"|  1980|         2|\n",
            "|   \"AN\"|  1990|         5|\n",
            "|   \"AR\"|  1960|       135|\n",
            "|   \"AR\"|  1970|       239|\n",
            "|   \"AR\"|  1980|       184|\n",
            "|   \"AR\"|  1990|       292|\n",
            "|   \"AT\"|  1960|       950|\n",
            "|   \"AT\"|  1970|      2588|\n",
            "|   \"AT\"|  1980|      3057|\n",
            "|   \"AT\"|  1990|      3665|\n",
            "|   \"AU\"|  1960|       796|\n",
            "|   \"AU\"|  1970|      2208|\n",
            "+-------+------+----------+\n",
            "only showing top 20 rows\n",
            "\n"
          ]
        }
      ]
    },
    {
      "cell_type": "code",
      "source": [
        "window = Window.partitionBy(\"Country\").orderBy(\"Decade\")\n",
        "\n",
        "dfApatFromParquet4 = dfApatFromParquet3.withColumn(\"Diff\", f.col(\"PatentsNum\") - f.lag(f.col(\"PatentsNum\"), 1, 0)\\\n",
        "                                                   .over(window))\n",
        "dfApatFromParquet4.show()"
      ],
      "metadata": {
        "colab": {
          "base_uri": "https://localhost:8080/"
        },
        "id": "s7W9eg0NzxKk",
        "outputId": "dc8fdf18-f706-4d63-8b64-00b10dc06eff"
      },
      "execution_count": 330,
      "outputs": [
        {
          "output_type": "stream",
          "name": "stdout",
          "text": [
            "+-------+------+----------+----+\n",
            "|Country|Decade|PatentsNum|Diff|\n",
            "+-------+------+----------+----+\n",
            "|   \"AD\"|  1980|         1|   1|\n",
            "|   \"AD\"|  1990|         5|   4|\n",
            "|   \"AE\"|  1980|         7|   7|\n",
            "|   \"AE\"|  1990|        11|   4|\n",
            "|   \"AG\"|  1970|         2|   2|\n",
            "|   \"AG\"|  1990|         7|   5|\n",
            "|   \"AI\"|  1990|         1|   1|\n",
            "|   \"AL\"|  1990|         1|   1|\n",
            "|   \"AM\"|  1990|         2|   2|\n",
            "|   \"AN\"|  1970|         1|   1|\n",
            "|   \"AN\"|  1980|         2|   1|\n",
            "|   \"AN\"|  1990|         5|   3|\n",
            "|   \"AR\"|  1960|       135| 135|\n",
            "|   \"AR\"|  1970|       239| 104|\n",
            "|   \"AR\"|  1980|       184| -55|\n",
            "|   \"AR\"|  1990|       292| 108|\n",
            "|   \"AT\"|  1960|       950| 950|\n",
            "|   \"AT\"|  1970|      2588|1638|\n",
            "|   \"AT\"|  1980|      3057| 469|\n",
            "|   \"AT\"|  1990|      3665| 608|\n",
            "+-------+------+----------+----+\n",
            "only showing top 20 rows\n",
            "\n"
          ]
        }
      ]
    },
    {
      "cell_type": "code",
      "source": [
        "# Now I need to find a way to get the intial occurrence to have a 0 in Diff\n",
        "\n",
        "# Proof for the following implication : (PatentsNum == Diff) => (PatentsNum is the initial occurrence for this country) \n",
        "\n",
        "# Let's consider its negation, ie : (PatentsNum is not the initial occurrence for this country) => (PatentsNum != Diff)\n",
        "\n",
        "# Given this dataframe: \n",
        "# +-------+------+----------+----+\n",
        "# |Country|Decade|PatentsNum|Diff|\n",
        "# +-------+------+----------+----+\n",
        "# |   \"AD\"|  1980|         a|   b|\n",
        "# |   \"AD\"|  1990|         c|   d|\n",
        "\n",
        "# For the second occurrence, if c == d , then c == c-a (because d == c-a)\n",
        "# Therefore a == 0 Absurd because a is the number of patents in that year, \n",
        "# and we only have years where these countries had patents, so a is strictly positive.\n",
        "\n",
        "# Conclusion : (PatentsNum == Diff) => (PatentsNum is the initial occurrence for this country)\n",
        "\n",
        "dfApatFromParquet4 = dfApatFromParquet4.rdd.map(lambda x: (x[0], x[1], x[2], 0) if x[2] == x[3] else (x[0], x[1], x[2], x[3]) )\n",
        "\n",
        "\n",
        "dfApatFromParquet5 = dfApatFromParquet4.toDF().withColumnRenamed(\"_1\", \"Country\").withColumnRenamed(\"_2\", \"Decade\").withColumnRenamed(\"_3\",\"PatentsNum\").withColumnRenamed(\"_4\",\"Diff\")\n",
        "dfApatFromParquet5.show()"
      ],
      "metadata": {
        "colab": {
          "base_uri": "https://localhost:8080/"
        },
        "id": "-du6UnF8BJ2m",
        "outputId": "668470d3-2e7b-4206-d2d2-52c121fd8645"
      },
      "execution_count": 331,
      "outputs": [
        {
          "output_type": "stream",
          "name": "stdout",
          "text": [
            "+-------+------+----------+----+\n",
            "|Country|Decade|PatentsNum|Diff|\n",
            "+-------+------+----------+----+\n",
            "|   \"AD\"|  1980|         1|   0|\n",
            "|   \"AD\"|  1990|         5|   4|\n",
            "|   \"AE\"|  1980|         7|   0|\n",
            "|   \"AE\"|  1990|        11|   4|\n",
            "|   \"AG\"|  1970|         2|   0|\n",
            "|   \"AG\"|  1990|         7|   5|\n",
            "|   \"AI\"|  1990|         1|   0|\n",
            "|   \"AL\"|  1990|         1|   0|\n",
            "|   \"AM\"|  1990|         2|   0|\n",
            "|   \"AN\"|  1970|         1|   0|\n",
            "|   \"AN\"|  1980|         2|   1|\n",
            "|   \"AN\"|  1990|         5|   3|\n",
            "|   \"AR\"|  1960|       135|   0|\n",
            "|   \"AR\"|  1970|       239| 104|\n",
            "|   \"AR\"|  1980|       184| -55|\n",
            "|   \"AR\"|  1990|       292| 108|\n",
            "|   \"AT\"|  1960|       950|   0|\n",
            "|   \"AT\"|  1970|      2588|1638|\n",
            "|   \"AT\"|  1980|      3057| 469|\n",
            "|   \"AT\"|  1990|      3665| 608|\n",
            "+-------+------+----------+----+\n",
            "only showing top 20 rows\n",
            "\n"
          ]
        }
      ]
    },
    {
      "cell_type": "code",
      "source": [
        "# The output file should be a csv\n",
        "dfApatFromParquet5.write.mode('overwrite').csv(os.environ[\"DRIVE_DATA\"] + \"dfApatFromParquet5.csv\",header = 'true')"
      ],
      "metadata": {
        "id": "Tz9NHLNyDZCS"
      },
      "execution_count": 332,
      "outputs": []
    },
    {
      "cell_type": "markdown",
      "metadata": {
        "id": "usL5LynSI6rE"
      },
      "source": [
        "## Exercise 11.1:\n",
        "\n",
        "A long time ago in a galaxy far, far away, the characters of the Star Wars franchise interacted with each other in an endless series of films. An ancient Jedi order, called the *Data Guardians of the Galaxy* (not affiliated to Marvel's homonym :) registered all those interactions and saved them on a digital file so that they could be studied by the forthcoming generations. This file was originally called (guess it) `sw.txt`, and you will find it in the `/data` directory. \n",
        "\n",
        "Using pySpark, perform the following operations and answer the following questions:\n",
        "\n",
        "1. Load the `$DRIVE_DATA/sw.txt` file. Take into account that it is a JSON file.\n",
        "2. Using this information, create a graph of interactions between the Star Wars characters.\n",
        "3. How many different characters are there?\n",
        "4. How many interactions are there?\n",
        "5. Who is the central character in Star Wars (the one who interacts in most scenes)? \n",
        "6. Who is the character with the highest 'rank' in Star Wars (use the PageRank algorithm)?"
      ]
    },
    {
      "cell_type": "code",
      "source": [
        "# Question 1 \n",
        "dfSW = (spark\n",
        "    .read\n",
        "    .format(\"json\")\n",
        "    .option(\"inferSchema\", \"true\")\n",
        "    .option(\"header\", \"false\")\n",
        "    .option(\"multiline\",\"true\")\n",
        "    .load(os.environ[\"DRIVE_DATA\"] + \"/sw.txt\"))"
      ],
      "metadata": {
        "id": "iFUYdUzN7DLF"
      },
      "execution_count": 333,
      "outputs": []
    },
    {
      "cell_type": "code",
      "source": [
        "dfSW.show(dfSW.rdd.count(),False, vertical=True)"
      ],
      "metadata": {
        "colab": {
          "base_uri": "https://localhost:8080/"
        },
        "id": "i7x0ju17x51k",
        "outputId": "f93bf56f-4129-45f6-abc5-b63cd3d82e97"
      },
      "execution_count": 334,
      "outputs": [
        {
          "output_type": "stream",
          "name": "stdout",
          "text": [
            "-RECORD 0--------------------------------------------------------------------------------------------------------------------------------------------------------------------------------------------------------------------------------------------------------------------------------------------------------------------------------------------------------------------------------------------------------------------------------------------------------------------------------------------------------------------------------------------------------------------------------------------------------------------------------------------------------------------------------------------------------------------------------------------------------------------------------------------------------------------------------------------------------------------------------------------------------------------------------------------------------------------------------------------------------------------------------------------------------------------------------------------------------------------------------------------------------------------------------------------------------------------------------------------------------------------------------------------------------------------------------------------------------------------------------------------------------------------------------------------------------------------------------------------------------------------------------------------------------------------------------------------------------------------------------------------------------------------------------------------------------------------------------------------------------------------------------------------------------------------------------------------------------------------------------------------------------------------------------------------------------------------------------------------------------------------------------------------------------------------------------------------------------------------------------------------------------------------------------------------------------------------------------------------------------------------------------------------------------------------------------------------------------------------------------------------------------------------------------------------------------------------------------------------------------------------------------------------------------------------------------------------------------------------------------------------------------------------------------------------------------------------------------------------------------------------------------------------------------------------------------------------------------------------------------------------------------------------------------------------------------------------------------------------------------------------------------------------------------------------------------------------------------------------------------------------------------------------------------------------------------------------------------------------------------------------------------------------------------------------------------------------------------------------------------------------------------------------------------------------------------------------------------------------------------------------------------------------------------------------------------------------------------------------------------------------------------------------------------------------------------------------------------------------------------------------------------------------------------------------------------------------------------------------------------------------------------------------------------------------------------------------------------------------------------------------------------------------------------------------------------------------------------------------------------------------------------------------------------------------------------------------------------------------------------------------------------------------------------------------------------------------------------------------------------------------------------------------------------------------------------------------------------------------------------------------------------------------------------------------------------------------------------------------------------------------------------------------------------------------------------------------------------------------------------------------------------------------------------------------------------------------------------------------------------------------------------------------------------------------------------------------------------------------------------------------------------------------------------------------------------------------------------------------------------------------------------------------------------------------------------------------------------------------------------------------------------------------------------------------------------------------------------------------------------------------------------------------------------------------------------------------------------------------------------------------------------------------------------------------------------------------------------------------------------------------------------------------------------------------------------------------------------------------------------------------------------------------------------------------------------------------------------------------------------------------------------\n",
            " links | [{0, 1, 32}, {2, 0, 2}, {0, 20, 5}, {0, 4, 22}, {0, 18, 41}, {0, 21, 2}, {0, 15, 12}, {0, 22, 2}, {0, 23, 8}, {24, 0, 11}, {0, 26, 3}, {0, 27, 2}, {0, 8, 47}, {0, 29, 1}, {0, 30, 1}, {13, 0, 2}, {0, 19, 4}, {0, 32, 9}, {0, 33, 2}, {0, 34, 9}, {0, 35, 1}, {17, 0, 1}, {38, 0, 2}, {39, 0, 1}, {40, 0, 3}, {0, 14, 1}, {0, 43, 1}, {0, 44, 1}, {0, 45, 3}, {0, 50, 3}, {51, 0, 1}, {52, 0, 2}, {0, 54, 1}, {0, 55, 1}, {0, 5, 1}, {53, 0, 3}, {0, 57, 2}, {0, 12, 21}, {0, 58, 1}, {36, 0, 2}, {63, 0, 1}, {0, 69, 2}, {0, 70, 1}, {0, 71, 7}, {0, 82, 8}, {0, 83, 2}, {0, 86, 1}, {48, 0, 3}, {0, 87, 4}, {0, 72, 2}, {0, 66, 8}, {0, 88, 1}, {2, 1, 17}, {3, 1, 2}, {3, 2, 8}, {8, 1, 28}, {18, 1, 24}, {4, 1, 13}, {1, 20, 3}, {24, 1, 55}, {26, 1, 2}, {29, 1, 4}, {12, 1, 5}, {40, 1, 1}, {51, 1, 1}, {50, 1, 2}, {36, 1, 3}, {1, 34, 5}, {66, 1, 34}, {69, 1, 23}, {65, 1, 1}, {68, 1, 1}, {72, 1, 18}, {87, 1, 5}, {2, 8, 6}, {24, 2, 39}, {2, 66, 32}, {2, 72, 77}, {2, 29, 3}, {2, 69, 48}, {2, 79, 1}, {2, 87, 20}, {48, 2, 2}, {2, 96, 20}, {2, 98, 13}, {101, 2, 1}, {2, 103, 2}, {2, 93, 2}, {2, 94, 3}, {95, 2, 1}, {3, 93, 8}, {3, 92, 2}, {3, 98, 17}, {3, 97, 1}, {3, 96, 15}, {3, 72, 9}, {101, 3, 1}, {3, 103, 3}, {3, 69, 3}, {3, 24, 3}, {5, 4, 1}, {6, 7, 1}, {8, 7, 1}, {4, 7, 1}, {8, 4, 26}, {5, 7, 1}, {9, 5, 1}, {9, 7, 1}, {5, 10, 8}, {10, 11, 2}, {5, 11, 1}, {13, 12, 3}, {12, 14, 1}, {13, 14, 3}, {15, 4, 22}, {15, 8, 15}, {15, 16, 2}, {17, 4, 2}, {17, 8, 2}, {17, 15, 2}, {12, 5, 6}, {12, 10, 3}, {5, 14, 2}, {15, 14, 1}, {13, 15, 7}, {4, 14, 2}, {13, 4, 9}, {13, 18, 7}, {18, 4, 16}, {18, 14, 1}, {13, 8, 7}, {8, 19, 3}, {15, 19, 1}, {4, 19, 2}, {13, 19, 2}, {15, 18, 10}, {4, 20, 6}, {18, 20, 3}, {15, 21, 2}, {4, 21, 2}, {18, 21, 2}, {22, 4, 2}, {22, 18, 1}, {15, 23, 3}, {4, 23, 8}, {18, 23, 5}, {24, 18, 12}, {8, 14, 1}, {25, 12, 3}, {26, 27, 1}, {15, 26, 1}, {26, 4, 2}, {15, 27, 1}, {4, 27, 2}, {8, 23, 1}, {24, 20, 1}, {26, 20, 1}, {24, 4, 1}, {24, 26, 1}, {26, 18, 1}, {28, 29, 1}, {29, 23, 1}, {21, 23, 1}, {29, 15, 1}, {29, 18, 1}, {29, 21, 1}, {29, 4, 1}, {28, 15, 2}, {28, 18, 1}, {30, 4, 1}, {30, 27, 1}, {26, 23, 1}, {12, 31, 2}, {12, 15, 5}, {12, 4, 1}, {15, 31, 1}, {4, 31, 1}, {32, 4, 2}, {33, 4, 2}, {4, 34, 3}, {4, 35, 1}, {33, 32, 4}, {32, 34, 16}, {32, 35, 1}, {33, 34, 4}, {33, 35, 1}, {35, 34, 1}, {36, 12, 6}, {36, 31, 1}, {8, 34, 20}, {32, 8, 9}, {33, 8, 1}, {17, 18, 2}, {25, 5, 3}, {17, 13, 1}, {8, 18, 9}, {12, 37, 1}, {37, 5, 1}, {25, 37, 1}, {25, 10, 1}, {38, 19, 4}, {37, 15, 1}, {5, 18, 2}, {9, 11, 1}, {39, 38, 2}, {39, 19, 2}, {12, 18, 5}, {12, 41, 2}, {12, 42, 2}, {42, 41, 1}, {12, 32, 3}, {12, 34, 2}, {12, 33, 1}, {36, 32, 2}, {36, 34, 8}, {36, 33, 1}, {40, 15, 1}, {40, 8, 2}, {8, 6, 1}, {18, 43, 1}, {44, 43, 2}, {45, 43, 1}, {44, 18, 1}, {18, 45, 1}, {44, 45, 1}, {8, 46, 5}, {47, 46, 2}, {47, 8, 6}, {48, 46, 2}, {48, 49, 3}, {48, 8, 1}, {49, 46, 1}, {49, 8, 1}, {24, 50, 4}, {51, 24, 3}, {24, 52, 1}, {51, 50, 4}, {50, 18, 4}, {52, 50, 2}, {51, 18, 1}, {51, 52, 1}, {52, 18, 2}, {36, 8, 8}, {12, 8, 5}, {8, 41, 1}, {36, 41, 1}, {36, 15, 1}, {41, 34, 1}, {15, 34, 1}, {32, 41, 1}, {15, 32, 1}, {15, 41, 1}, {32, 18, 2}, {15, 42, 1}, {53, 18, 3}, {53, 49, 1}, {55, 54, 2}, {5, 54, 2}, {5, 55, 2}, {8, 54, 1}, {8, 55, 1}, {5, 8, 1}, {53, 8, 3}, {18, 54, 1}, {53, 54, 1}, {18, 55, 1}, {53, 55, 1}, {53, 5, 1}, {53, 32, 2}, {33, 56, 1}, {53, 34, 2}, {18, 34, 1}, {53, 12, 2}, {8, 57, 2}, {58, 8, 2}, {24, 8, 9}, {24, 12, 2}, {36, 24, 3}, {36, 18, 5}, {36, 59, 2}, {36, 60, 2}, {36, 61, 1}, {59, 18, 2}, {59, 60, 2}, {59, 61, 1}, {60, 18, 2}, {61, 18, 1}, {61, 60, 1}, {40, 18, 2}, {24, 40, 2}, {62, 34, 1}, {63, 8, 2}, {8, 64, 1}, {58, 5, 1}, {63, 32, 1}, {63, 34, 1}, {36, 65, 2}, {36, 4, 1}, {24, 34, 1}, {24, 65, 1}, {67, 66, 2}, {68, 67, 2}, {68, 66, 4}, {51, 66, 3}, {66, 50, 3}, {24, 66, 29}, {24, 69, 49}, {69, 66, 26}, {51, 69, 1}, {66, 8, 22}, {69, 8, 1}, {70, 71, 2}, {72, 8, 10}, {72, 66, 43}, {30, 72, 1}, {72, 29, 1}, {24, 72, 54}, {69, 70, 1}, {69, 71, 1}, {72, 69, 69}, {73, 74, 1}, {73, 75, 1}, {73, 66, 1}, {74, 75, 1}, {74, 66, 1}, {66, 75, 4}, {68, 69, 1}, {69, 76, 1}, {66, 76, 3}, {68, 76, 3}, {68, 24, 1}, {24, 76, 1}, {76, 75, 3}, {74, 76, 1}, {68, 75, 2}, {76, 77, 1}, {68, 74, 1}, {66, 77, 1}, {72, 79, 3}, {69, 79, 4}, {24, 80, 1}, {72, 81, 1}, {24, 79, 1}, {83, 82, 2}, {80, 69, 1}, {84, 66, 3}, {85, 75, 2}, {66, 81, 1}, {86, 82, 1}, {66, 34, 6}, {48, 82, 1}, {72, 87, 12}, {87, 69, 12}, {24, 87, 8}, {48, 87, 2}, {48, 24, 1}, {48, 72, 1}, {48, 69, 1}, {87, 66, 6}, {89, 24, 2}, {24, 29, 3}, {29, 66, 2}, {90, 29, 1}, {90, 24, 2}, {90, 72, 1}, {90, 69, 1}, {89, 66, 1}, {89, 29, 1}, {72, 60, 1}, {91, 72, 2}, {87, 60, 1}, {91, 87, 5}, {91, 60, 1}, {24, 60, 1}, {69, 60, 1}, {66, 60, 1}, {91, 24, 2}, {91, 69, 2}, {91, 66, 1}, {12, 66, 3}, {87, 75, 6}, {91, 75, 1}, {92, 93, 3}, {94, 92, 1}, {94, 93, 2}, {95, 94, 1}, {95, 92, 1}, {95, 93, 1}, {95, 96, 3}, {99, 94, 5}, {98, 97, 2}, {96, 93, 11}, {99, 100, 1}, {94, 100, 2}, {95, 99, 1}, {96, 98, 29}, {72, 98, 17}, {96, 72, 23}, {101, 72, 2}, {101, 98, 1}, {101, 96, 1}, {99, 102, 3}, {94, 102, 2}, {72, 103, 4}, {96, 103, 2}, {103, 98, 2}, {72, 93, 2}, {69, 93, 3}, {96, 69, 3}, {94, 98, 4}, {93, 104, 2}, {91, 93, 1}, {24, 93, 2}, {105, 93, 1}, {72, 104, 1}, {91, 104, 1}, {96, 104, 1}, {69, 104, 1}, {24, 104, 1}, {105, 104, 1}, {105, 72, 1}, {91, 96, 1}, {91, 105, 1}, {24, 96, 1}, {105, 96, 1}, {105, 69, 2}, {105, 24, 2}, {95, 72, 2}, {107, 99, 1}, {108, 93, 3}, {109, 104, 1}, {72, 94, 3}, {96, 94, 2}, {109, 110, 2}, {110, 106, 1}, {110, 93, 2}, {108, 110, 2}, {109, 106, 1}, {109, 93, 2}, {108, 109, 2}, {93, 106, 1}, {108, 106, 1}, {69, 98, 1}, {66, 98, 1}] \n",
            " nodes | [{#000000, DARTH VADER, 190}, {#bde0f6, R2-D2, 171}, {#A0522D, CHEWBACCA, 145}, {#eb5d00, BB-8, 40}, {#4f4fb1, QUI-GON, 62}, {#808080, NUTE GUNRAY, 25}, {#808080, PK-4, 4}, {#808080, TC-14, 5}, {#48D1CC, OBI-WAN, 148}, {#808080, DOFINE, 4}, {#808080, RUNE, 11}, {#808080, TEY HOW, 5}, {#191970, EMPEROR, 52}, {#808080, CAPTAIN PANAKA, 20}, {#808080, SIO BIBBLE, 9}, {#9a9a00, JAR JAR, 42}, {#808080, TARPALS, 4}, {#808080, BOSS NASS, 5}, {#DDA0DD, PADME, 75}, {#808080, RIC OLIE, 12}, {#808080, WATTO, 9}, {#808080, SEBULBA, 4}, {#808080, JIRA, 4}, {#808080, SHMI, 12}, {#FFD700, C-3PO, 151}, {#808080, DARTH MAUL, 6}, {#808080, KITSTER, 5}, {#808080, WALD, 4}, {#808080, FODE/BEED, 12}, {#808080, JABBA, 8}, {#808080, GREEDO, 4}, {#808080, VALORUM, 4}, {#808080, MACE WINDU, 23}, {#808080, KI-ADI-MUNDI, 7}, {#9ACD32, YODA, 46}, {#808080, RABE, 3}, {#808080, BAIL ORGANA, 24}, {#808080, GENERAL CEEL, 5}, {#808080, BRAVO TWO, 6}, {#808080, BRAVO THREE, 4}, {#808080, CAPTAIN TYPHO, 7}, {#808080, SENATOR ASK AAK, 4}, {#808080, ORN FREE TAA, 4}, {#808080, SOLA, 4}, {#808080, JOBAL, 4}, {#808080, RUWEE, 5}, {#808080, TAUN WE, 8}, {#808080, LAMA SU, 9}, {#808080, BOBA FETT, 11}, {#808080, JANGO FETT, 6}, {#808080, OWEN, 11}, {#808080, BERU, 7}, {#808080, CLIEGG, 4}, {#808080, COUNT DOOKU, 10}, {#808080, SUN RIT, 4}, {#808080, POGGLE, 4}, {#808080, PLO KOON, 4}, {#808080, ODD BALL, 5}, {#808080, GENERAL GRIEVOUS, 13}, {#808080, FANG ZAR, 4}, {#808080, MON MOTHMA, 5}, {#808080, GIDDEAN DANU, 3}, {#808080, CLONE COMMANDER GREE, 5}, {#808080, CLONE COMMANDER CODY, 5}, {#808080, TION MEDON, 4}, {#808080, CAPTAIN ANTILLES, 4}, {#3881e5, LUKE, 161}, {#808080, CAMIE, 4}, {#808080, BIGGS, 19}, {#DCDCDC, LEIA, 99}, {#808080, MOTTI, 4}, {#808080, TARKIN, 13}, {#ff9400, HAN, 170}, {#808080, DODONNA, 4}, {#808080, GOLD LEADER, 15}, {#808080, WEDGE, 29}, {#808080, RED LEADER, 34}, {#808080, RED TEN, 9}, {#808080, GOLD FIVE, 9}, {#808080, RIEEKAN, 8}, {#808080, DERLIN, 4}, {#808080, ZEV, 7}, {#808080, PIETT, 13}, {#808080, OZZEL, 4}, {#808080, DACK, 5}, {#808080, JANSON, 5}, {#808080, NEEDA, 4}, {#808080, LANDO, 42}, {#808080, JERJERROD, 4}, {#808080, BIB FORTUNA, 4}, {#808080, BOUSHH, 4}, {#808080, ADMIRAL ACKBAR, 13}, {#808080, LOR SAN TEKKA, 5}, {#a15bea, POE, 31}, {#000000, KYLO REN, 23}, {#808080, CAPTAIN PHASMA, 7}, {#07b19f, FINN, 64}, {#808080, UNKAR PLUTT, 6}, {#ffe0af, REY, 57}, {#808080, GENERAL HUX, 15}, {#808080, LIEUTENANT MITAKA, 4}, {#808080, BALA-TIK, 5}, {#191970, SNOKE, 5}, {#808080, MAZ, 7}, {#808080, SNAP, 6}, {#808080, ADMIRAL STATURA, 4}, {#808080, YOLO ZIFF, 4}, {#808080, COLONEL DATOO, 4}, {#808080, ELLO ASTY, 5}, {#808080, JESS, 5}, {#808080, NIV LEK, 4}]                                                                                                                                                                                                                                                                                                                                                                                                                                                                                                                                                                                                                                                                                                                                                                                                                                                                                                                                                                                                                                                                                                                                                                                                                                                                                                                                                                                                                                                                                                                                                                                                                                                                                                                                                                                                                                                                                                                                                                                                                                                                                                                                                                                                                                                                                                                                                                                                                                                                                                                                                                                                                                                                                                                                                                                                                                                                                                                                                                                                                                                                                                \n",
            "\n"
          ]
        }
      ]
    },
    {
      "cell_type": "code",
      "source": [
        "#Question 2 \n",
        "\n",
        "dfSWNodes = dfSW.select(f.split(col(\"nodes\").cast(\"string\"),\",\")\\\n",
        "                    .alias(\"Nodes\"))\n",
        "dfSWNodes.show(truncate=False, vertical=True)"
      ],
      "metadata": {
        "colab": {
          "base_uri": "https://localhost:8080/"
        },
        "id": "xP5yxPgc88Sj",
        "outputId": "b43e6dd3-7fad-48b5-8b2f-0a4693ee3dc1"
      },
      "execution_count": 335,
      "outputs": [
        {
          "output_type": "stream",
          "name": "stdout",
          "text": [
            "-RECORD 0-------------------------------------------------------------------------------------------------------------------------------------------------------------------------------------------------------------------------------------------------------------------------------------------------------------------------------------------------------------------------------------------------------------------------------------------------------------------------------------------------------------------------------------------------------------------------------------------------------------------------------------------------------------------------------------------------------------------------------------------------------------------------------------------------------------------------------------------------------------------------------------------------------------------------------------------------------------------------------------------------------------------------------------------------------------------------------------------------------------------------------------------------------------------------------------------------------------------------------------------------------------------------------------------------------------------------------------------------------------------------------------------------------------------------------------------------------------------------------------------------------------------------------------------------------------------------------------------------------------------------------------------------------------------------------------------------------------------------------------------------------------------------------------------------------------------------------------------------------------------------------------------------------------------------------------------------------------------------------------------------------------------------------------------------------------------------------------------------------------------------------------------------------------------------------------------------------------------------------------------------------------------------------------------------------------------------------------------------------------------------------------------------------------------------------------------------------------------------------------------------------------------------------------------------------------------------------------------------------------------------------------------------------------------------------------------------------------------------------------------------------------------------------------------------------------------------------------------------------------------------------------------------------------------------------------------------------------------------------------------------------------------------------------------------------------------------------------------------------------------------------------------------------\n",
            " Nodes | [[{#000000,  DARTH VADER,  190},  {#bde0f6,  R2-D2,  171},  {#A0522D,  CHEWBACCA,  145},  {#eb5d00,  BB-8,  40},  {#4f4fb1,  QUI-GON,  62},  {#808080,  NUTE GUNRAY,  25},  {#808080,  PK-4,  4},  {#808080,  TC-14,  5},  {#48D1CC,  OBI-WAN,  148},  {#808080,  DOFINE,  4},  {#808080,  RUNE,  11},  {#808080,  TEY HOW,  5},  {#191970,  EMPEROR,  52},  {#808080,  CAPTAIN PANAKA,  20},  {#808080,  SIO BIBBLE,  9},  {#9a9a00,  JAR JAR,  42},  {#808080,  TARPALS,  4},  {#808080,  BOSS NASS,  5},  {#DDA0DD,  PADME,  75},  {#808080,  RIC OLIE,  12},  {#808080,  WATTO,  9},  {#808080,  SEBULBA,  4},  {#808080,  JIRA,  4},  {#808080,  SHMI,  12},  {#FFD700,  C-3PO,  151},  {#808080,  DARTH MAUL,  6},  {#808080,  KITSTER,  5},  {#808080,  WALD,  4},  {#808080,  FODE/BEED,  12},  {#808080,  JABBA,  8},  {#808080,  GREEDO,  4},  {#808080,  VALORUM,  4},  {#808080,  MACE WINDU,  23},  {#808080,  KI-ADI-MUNDI,  7},  {#9ACD32,  YODA,  46},  {#808080,  RABE,  3},  {#808080,  BAIL ORGANA,  24},  {#808080,  GENERAL CEEL,  5},  {#808080,  BRAVO TWO,  6},  {#808080,  BRAVO THREE,  4},  {#808080,  CAPTAIN TYPHO,  7},  {#808080,  SENATOR ASK AAK,  4},  {#808080,  ORN FREE TAA,  4},  {#808080,  SOLA,  4},  {#808080,  JOBAL,  4},  {#808080,  RUWEE,  5},  {#808080,  TAUN WE,  8},  {#808080,  LAMA SU,  9},  {#808080,  BOBA FETT,  11},  {#808080,  JANGO FETT,  6},  {#808080,  OWEN,  11},  {#808080,  BERU,  7},  {#808080,  CLIEGG,  4},  {#808080,  COUNT DOOKU,  10},  {#808080,  SUN RIT,  4},  {#808080,  POGGLE,  4},  {#808080,  PLO KOON,  4},  {#808080,  ODD BALL,  5},  {#808080,  GENERAL GRIEVOUS,  13},  {#808080,  FANG ZAR,  4},  {#808080,  MON MOTHMA,  5},  {#808080,  GIDDEAN DANU,  3},  {#808080,  CLONE COMMANDER GREE,  5},  {#808080,  CLONE COMMANDER CODY,  5},  {#808080,  TION MEDON,  4},  {#808080,  CAPTAIN ANTILLES,  4},  {#3881e5,  LUKE,  161},  {#808080,  CAMIE,  4},  {#808080,  BIGGS,  19},  {#DCDCDC,  LEIA,  99},  {#808080,  MOTTI,  4},  {#808080,  TARKIN,  13},  {#ff9400,  HAN,  170},  {#808080,  DODONNA,  4},  {#808080,  GOLD LEADER,  15},  {#808080,  WEDGE,  29},  {#808080,  RED LEADER,  34},  {#808080,  RED TEN,  9},  {#808080,  GOLD FIVE,  9},  {#808080,  RIEEKAN,  8},  {#808080,  DERLIN,  4},  {#808080,  ZEV,  7},  {#808080,  PIETT,  13},  {#808080,  OZZEL,  4},  {#808080,  DACK,  5},  {#808080,  JANSON,  5},  {#808080,  NEEDA,  4},  {#808080,  LANDO,  42},  {#808080,  JERJERROD,  4},  {#808080,  BIB FORTUNA,  4},  {#808080,  BOUSHH,  4},  {#808080,  ADMIRAL ACKBAR,  13},  {#808080,  LOR SAN TEKKA,  5},  {#a15bea,  POE,  31},  {#000000,  KYLO REN,  23},  {#808080,  CAPTAIN PHASMA,  7},  {#07b19f,  FINN,  64},  {#808080,  UNKAR PLUTT,  6},  {#ffe0af,  REY,  57},  {#808080,  GENERAL HUX,  15},  {#808080,  LIEUTENANT MITAKA,  4},  {#808080,  BALA-TIK,  5},  {#191970,  SNOKE,  5},  {#808080,  MAZ,  7},  {#808080,  SNAP,  6},  {#808080,  ADMIRAL STATURA,  4},  {#808080,  YOLO ZIFF,  4},  {#808080,  COLONEL DATOO,  4},  {#808080,  ELLO ASTY,  5},  {#808080,  JESS,  5},  {#808080,  NIV LEK,  4}]] \n",
            "\n"
          ]
        }
      ]
    },
    {
      "cell_type": "code",
      "source": [
        "dfSWLinks = dfSW.select(f.split(col(\"links\").cast(\"string\"),\",\").alias(\"Links\"))\n",
        "dfSWLinks.show(truncate=False, vertical=True)"
      ],
      "metadata": {
        "colab": {
          "base_uri": "https://localhost:8080/"
        },
        "id": "CyK6a4O8AS7S",
        "outputId": "a0ec8220-518e-4901-b80b-0325f2a166bc"
      },
      "execution_count": 336,
      "outputs": [
        {
          "output_type": "stream",
          "name": "stdout",
          "text": [
            "-RECORD 0---------------------------------------------------------------------------------------------------------------------------------------------------------------------------------------------------------------------------------------------------------------------------------------------------------------------------------------------------------------------------------------------------------------------------------------------------------------------------------------------------------------------------------------------------------------------------------------------------------------------------------------------------------------------------------------------------------------------------------------------------------------------------------------------------------------------------------------------------------------------------------------------------------------------------------------------------------------------------------------------------------------------------------------------------------------------------------------------------------------------------------------------------------------------------------------------------------------------------------------------------------------------------------------------------------------------------------------------------------------------------------------------------------------------------------------------------------------------------------------------------------------------------------------------------------------------------------------------------------------------------------------------------------------------------------------------------------------------------------------------------------------------------------------------------------------------------------------------------------------------------------------------------------------------------------------------------------------------------------------------------------------------------------------------------------------------------------------------------------------------------------------------------------------------------------------------------------------------------------------------------------------------------------------------------------------------------------------------------------------------------------------------------------------------------------------------------------------------------------------------------------------------------------------------------------------------------------------------------------------------------------------------------------------------------------------------------------------------------------------------------------------------------------------------------------------------------------------------------------------------------------------------------------------------------------------------------------------------------------------------------------------------------------------------------------------------------------------------------------------------------------------------------------------------------------------------------------------------------------------------------------------------------------------------------------------------------------------------------------------------------------------------------------------------------------------------------------------------------------------------------------------------------------------------------------------------------------------------------------------------------------------------------------------------------------------------------------------------------------------------------------------------------------------------------------------------------------------------------------------------------------------------------------------------------------------------------------------------------------------------------------------------------------------------------------------------------------------------------------------------------------------------------------------------------------------------------------------------------------------------------------------------------------------------------------------------------------------------------------------------------------------------------------------------------------------------------------------------------------------------------------------------------------------------------------------------------------------------------------------------------------------------------------------------------------------------------------------------------------------------------------------------------------------------------------------------------------------------------------------------------------------------------------------------------------------------------------------------------------------------------------------------------------------------------------------------------------------------------------------------------------------------------------------------------------------------------------------------------------------------------------------------------------------------------------------------------------------------------------------------------------------------------------------------------------------------------------------------------------------------------------------------------------------------------------------------------------------------------------------------------------------------------------------------------------------------------------------------------------------------------------------------------------------------------------------------------------------------------------------------------------------------------------------------------------------------------------------------------------------------------------------------------------------------------------------------------------------------------------------------------------------------------------------------------------------------------------------------------------------------------------------------------------------------------------------------------------------------------------------------------------------------------------------------------------------------------------------------------------------------------------------------------------------------------------------------------------------------------------------------------------------------------------------------------------------------------------------------------------------------------------------------------------------------------------------------------------------------------------------------------------------------------------------------------------------------------------------------------------------------------------------------------------------------------------------------------------------------------------------------------------------------------------------------------------------------------------------------------------------------------------------------------------------------\n",
            " Links | [[{0,  1,  32},  {2,  0,  2},  {0,  20,  5},  {0,  4,  22},  {0,  18,  41},  {0,  21,  2},  {0,  15,  12},  {0,  22,  2},  {0,  23,  8},  {24,  0,  11},  {0,  26,  3},  {0,  27,  2},  {0,  8,  47},  {0,  29,  1},  {0,  30,  1},  {13,  0,  2},  {0,  19,  4},  {0,  32,  9},  {0,  33,  2},  {0,  34,  9},  {0,  35,  1},  {17,  0,  1},  {38,  0,  2},  {39,  0,  1},  {40,  0,  3},  {0,  14,  1},  {0,  43,  1},  {0,  44,  1},  {0,  45,  3},  {0,  50,  3},  {51,  0,  1},  {52,  0,  2},  {0,  54,  1},  {0,  55,  1},  {0,  5,  1},  {53,  0,  3},  {0,  57,  2},  {0,  12,  21},  {0,  58,  1},  {36,  0,  2},  {63,  0,  1},  {0,  69,  2},  {0,  70,  1},  {0,  71,  7},  {0,  82,  8},  {0,  83,  2},  {0,  86,  1},  {48,  0,  3},  {0,  87,  4},  {0,  72,  2},  {0,  66,  8},  {0,  88,  1},  {2,  1,  17},  {3,  1,  2},  {3,  2,  8},  {8,  1,  28},  {18,  1,  24},  {4,  1,  13},  {1,  20,  3},  {24,  1,  55},  {26,  1,  2},  {29,  1,  4},  {12,  1,  5},  {40,  1,  1},  {51,  1,  1},  {50,  1,  2},  {36,  1,  3},  {1,  34,  5},  {66,  1,  34},  {69,  1,  23},  {65,  1,  1},  {68,  1,  1},  {72,  1,  18},  {87,  1,  5},  {2,  8,  6},  {24,  2,  39},  {2,  66,  32},  {2,  72,  77},  {2,  29,  3},  {2,  69,  48},  {2,  79,  1},  {2,  87,  20},  {48,  2,  2},  {2,  96,  20},  {2,  98,  13},  {101,  2,  1},  {2,  103,  2},  {2,  93,  2},  {2,  94,  3},  {95,  2,  1},  {3,  93,  8},  {3,  92,  2},  {3,  98,  17},  {3,  97,  1},  {3,  96,  15},  {3,  72,  9},  {101,  3,  1},  {3,  103,  3},  {3,  69,  3},  {3,  24,  3},  {5,  4,  1},  {6,  7,  1},  {8,  7,  1},  {4,  7,  1},  {8,  4,  26},  {5,  7,  1},  {9,  5,  1},  {9,  7,  1},  {5,  10,  8},  {10,  11,  2},  {5,  11,  1},  {13,  12,  3},  {12,  14,  1},  {13,  14,  3},  {15,  4,  22},  {15,  8,  15},  {15,  16,  2},  {17,  4,  2},  {17,  8,  2},  {17,  15,  2},  {12,  5,  6},  {12,  10,  3},  {5,  14,  2},  {15,  14,  1},  {13,  15,  7},  {4,  14,  2},  {13,  4,  9},  {13,  18,  7},  {18,  4,  16},  {18,  14,  1},  {13,  8,  7},  {8,  19,  3},  {15,  19,  1},  {4,  19,  2},  {13,  19,  2},  {15,  18,  10},  {4,  20,  6},  {18,  20,  3},  {15,  21,  2},  {4,  21,  2},  {18,  21,  2},  {22,  4,  2},  {22,  18,  1},  {15,  23,  3},  {4,  23,  8},  {18,  23,  5},  {24,  18,  12},  {8,  14,  1},  {25,  12,  3},  {26,  27,  1},  {15,  26,  1},  {26,  4,  2},  {15,  27,  1},  {4,  27,  2},  {8,  23,  1},  {24,  20,  1},  {26,  20,  1},  {24,  4,  1},  {24,  26,  1},  {26,  18,  1},  {28,  29,  1},  {29,  23,  1},  {21,  23,  1},  {29,  15,  1},  {29,  18,  1},  {29,  21,  1},  {29,  4,  1},  {28,  15,  2},  {28,  18,  1},  {30,  4,  1},  {30,  27,  1},  {26,  23,  1},  {12,  31,  2},  {12,  15,  5},  {12,  4,  1},  {15,  31,  1},  {4,  31,  1},  {32,  4,  2},  {33,  4,  2},  {4,  34,  3},  {4,  35,  1},  {33,  32,  4},  {32,  34,  16},  {32,  35,  1},  {33,  34,  4},  {33,  35,  1},  {35,  34,  1},  {36,  12,  6},  {36,  31,  1},  {8,  34,  20},  {32,  8,  9},  {33,  8,  1},  {17,  18,  2},  {25,  5,  3},  {17,  13,  1},  {8,  18,  9},  {12,  37,  1},  {37,  5,  1},  {25,  37,  1},  {25,  10,  1},  {38,  19,  4},  {37,  15,  1},  {5,  18,  2},  {9,  11,  1},  {39,  38,  2},  {39,  19,  2},  {12,  18,  5},  {12,  41,  2},  {12,  42,  2},  {42,  41,  1},  {12,  32,  3},  {12,  34,  2},  {12,  33,  1},  {36,  32,  2},  {36,  34,  8},  {36,  33,  1},  {40,  15,  1},  {40,  8,  2},  {8,  6,  1},  {18,  43,  1},  {44,  43,  2},  {45,  43,  1},  {44,  18,  1},  {18,  45,  1},  {44,  45,  1},  {8,  46,  5},  {47,  46,  2},  {47,  8,  6},  {48,  46,  2},  {48,  49,  3},  {48,  8,  1},  {49,  46,  1},  {49,  8,  1},  {24,  50,  4},  {51,  24,  3},  {24,  52,  1},  {51,  50,  4},  {50,  18,  4},  {52,  50,  2},  {51,  18,  1},  {51,  52,  1},  {52,  18,  2},  {36,  8,  8},  {12,  8,  5},  {8,  41,  1},  {36,  41,  1},  {36,  15,  1},  {41,  34,  1},  {15,  34,  1},  {32,  41,  1},  {15,  32,  1},  {15,  41,  1},  {32,  18,  2},  {15,  42,  1},  {53,  18,  3},  {53,  49,  1},  {55,  54,  2},  {5,  54,  2},  {5,  55,  2},  {8,  54,  1},  {8,  55,  1},  {5,  8,  1},  {53,  8,  3},  {18,  54,  1},  {53,  54,  1},  {18,  55,  1},  {53,  55,  1},  {53,  5,  1},  {53,  32,  2},  {33,  56,  1},  {53,  34,  2},  {18,  34,  1},  {53,  12,  2},  {8,  57,  2},  {58,  8,  2},  {24,  8,  9},  {24,  12,  2},  {36,  24,  3},  {36,  18,  5},  {36,  59,  2},  {36,  60,  2},  {36,  61,  1},  {59,  18,  2},  {59,  60,  2},  {59,  61,  1},  {60,  18,  2},  {61,  18,  1},  {61,  60,  1},  {40,  18,  2},  {24,  40,  2},  {62,  34,  1},  {63,  8,  2},  {8,  64,  1},  {58,  5,  1},  {63,  32,  1},  {63,  34,  1},  {36,  65,  2},  {36,  4,  1},  {24,  34,  1},  {24,  65,  1},  {67,  66,  2},  {68,  67,  2},  {68,  66,  4},  {51,  66,  3},  {66,  50,  3},  {24,  66,  29},  {24,  69,  49},  {69,  66,  26},  {51,  69,  1},  {66,  8,  22},  {69,  8,  1},  {70,  71,  2},  {72,  8,  10},  {72,  66,  43},  {30,  72,  1},  {72,  29,  1},  {24,  72,  54},  {69,  70,  1},  {69,  71,  1},  {72,  69,  69},  {73,  74,  1},  {73,  75,  1},  {73,  66,  1},  {74,  75,  1},  {74,  66,  1},  {66,  75,  4},  {68,  69,  1},  {69,  76,  1},  {66,  76,  3},  {68,  76,  3},  {68,  24,  1},  {24,  76,  1},  {76,  75,  3},  {74,  76,  1},  {68,  75,  2},  {76,  77,  1},  {68,  74,  1},  {66,  77,  1},  {72,  79,  3},  {69,  79,  4},  {24,  80,  1},  {72,  81,  1},  {24,  79,  1},  {83,  82,  2},  {80,  69,  1},  {84,  66,  3},  {85,  75,  2},  {66,  81,  1},  {86,  82,  1},  {66,  34,  6},  {48,  82,  1},  {72,  87,  12},  {87,  69,  12},  {24,  87,  8},  {48,  87,  2},  {48,  24,  1},  {48,  72,  1},  {48,  69,  1},  {87,  66,  6},  {89,  24,  2},  {24,  29,  3},  {29,  66,  2},  {90,  29,  1},  {90,  24,  2},  {90,  72,  1},  {90,  69,  1},  {89,  66,  1},  {89,  29,  1},  {72,  60,  1},  {91,  72,  2},  {87,  60,  1},  {91,  87,  5},  {91,  60,  1},  {24,  60,  1},  {69,  60,  1},  {66,  60,  1},  {91,  24,  2},  {91,  69,  2},  {91,  66,  1},  {12,  66,  3},  {87,  75,  6},  {91,  75,  1},  {92,  93,  3},  {94,  92,  1},  {94,  93,  2},  {95,  94,  1},  {95,  92,  1},  {95,  93,  1},  {95,  96,  3},  {99,  94,  5},  {98,  97,  2},  {96,  93,  11},  {99,  100,  1},  {94,  100,  2},  {95,  99,  1},  {96,  98,  29},  {72,  98,  17},  {96,  72,  23},  {101,  72,  2},  {101,  98,  1},  {101,  96,  1},  {99,  102,  3},  {94,  102,  2},  {72,  103,  4},  {96,  103,  2},  {103,  98,  2},  {72,  93,  2},  {69,  93,  3},  {96,  69,  3},  {94,  98,  4},  {93,  104,  2},  {91,  93,  1},  {24,  93,  2},  {105,  93,  1},  {72,  104,  1},  {91,  104,  1},  {96,  104,  1},  {69,  104,  1},  {24,  104,  1},  {105,  104,  1},  {105,  72,  1},  {91,  96,  1},  {91,  105,  1},  {24,  96,  1},  {105,  96,  1},  {105,  69,  2},  {105,  24,  2},  {95,  72,  2},  {107,  99,  1},  {108,  93,  3},  {109,  104,  1},  {72,  94,  3},  {96,  94,  2},  {109,  110,  2},  {110,  106,  1},  {110,  93,  2},  {108,  110,  2},  {109,  106,  1},  {109,  93,  2},  {108,  109,  2},  {93,  106,  1},  {108,  106,  1},  {69,  98,  1},  {66,  98,  1}]] \n",
            "\n"
          ]
        }
      ]
    },
    {
      "cell_type": "code",
      "source": [
        "dfSWNodes2 = dfSWNodes.withColumn('Exploded',f.explode(f.split(col('Nodes').cast(\"string\"),'},'))).drop(\"Nodes\")\n",
        "dfSWNodes2.show(truncate=False)"
      ],
      "metadata": {
        "colab": {
          "base_uri": "https://localhost:8080/"
        },
        "id": "P3Y_mGmvBIxf",
        "outputId": "6d9caea5-e2f6-4881-e402-fe96c4abb634"
      },
      "execution_count": 337,
      "outputs": [
        {
          "output_type": "stream",
          "name": "stdout",
          "text": [
            "+--------------------------------+\n",
            "|Exploded                        |\n",
            "+--------------------------------+\n",
            "|[[{#000000,  DARTH VADER,  190  |\n",
            "|  {#bde0f6,  R2-D2,  171        |\n",
            "|  {#A0522D,  CHEWBACCA,  145    |\n",
            "|  {#eb5d00,  BB-8,  40          |\n",
            "|  {#4f4fb1,  QUI-GON,  62       |\n",
            "|  {#808080,  NUTE GUNRAY,  25   |\n",
            "|  {#808080,  PK-4,  4           |\n",
            "|  {#808080,  TC-14,  5          |\n",
            "|  {#48D1CC,  OBI-WAN,  148      |\n",
            "|  {#808080,  DOFINE,  4         |\n",
            "|  {#808080,  RUNE,  11          |\n",
            "|  {#808080,  TEY HOW,  5        |\n",
            "|  {#191970,  EMPEROR,  52       |\n",
            "|  {#808080,  CAPTAIN PANAKA,  20|\n",
            "|  {#808080,  SIO BIBBLE,  9     |\n",
            "|  {#9a9a00,  JAR JAR,  42       |\n",
            "|  {#808080,  TARPALS,  4        |\n",
            "|  {#808080,  BOSS NASS,  5      |\n",
            "|  {#DDA0DD,  PADME,  75         |\n",
            "|  {#808080,  RIC OLIE,  12      |\n",
            "+--------------------------------+\n",
            "only showing top 20 rows\n",
            "\n"
          ]
        }
      ]
    },
    {
      "cell_type": "code",
      "source": [
        "dfSWNodes3 = dfSWNodes2.select(\"Exploded\", f.regexp_replace(f.col(\"Exploded\"), \"[{}\\[\\]]\", \" \").alias(\"Cleaned\")).drop(\"Exploded\")\n",
        "dfSWNodes3.show(truncate=False)"
      ],
      "metadata": {
        "colab": {
          "base_uri": "https://localhost:8080/"
        },
        "id": "b5sBv51uC5Jc",
        "outputId": "6099780f-4bc6-4177-a4a8-3924c342fda1"
      },
      "execution_count": 338,
      "outputs": [
        {
          "output_type": "stream",
          "name": "stdout",
          "text": [
            "+--------------------------------+\n",
            "|Cleaned                         |\n",
            "+--------------------------------+\n",
            "|   #000000,  DARTH VADER,  190  |\n",
            "|   #bde0f6,  R2-D2,  171        |\n",
            "|   #A0522D,  CHEWBACCA,  145    |\n",
            "|   #eb5d00,  BB-8,  40          |\n",
            "|   #4f4fb1,  QUI-GON,  62       |\n",
            "|   #808080,  NUTE GUNRAY,  25   |\n",
            "|   #808080,  PK-4,  4           |\n",
            "|   #808080,  TC-14,  5          |\n",
            "|   #48D1CC,  OBI-WAN,  148      |\n",
            "|   #808080,  DOFINE,  4         |\n",
            "|   #808080,  RUNE,  11          |\n",
            "|   #808080,  TEY HOW,  5        |\n",
            "|   #191970,  EMPEROR,  52       |\n",
            "|   #808080,  CAPTAIN PANAKA,  20|\n",
            "|   #808080,  SIO BIBBLE,  9     |\n",
            "|   #9a9a00,  JAR JAR,  42       |\n",
            "|   #808080,  TARPALS,  4        |\n",
            "|   #808080,  BOSS NASS,  5      |\n",
            "|   #DDA0DD,  PADME,  75         |\n",
            "|   #808080,  RIC OLIE,  12      |\n",
            "+--------------------------------+\n",
            "only showing top 20 rows\n",
            "\n"
          ]
        }
      ]
    },
    {
      "cell_type": "code",
      "source": [
        "dfSWNodes4 = dfSWNodes3.withColumn(\"Cleaned2\", f.split(col(\"Cleaned\"),',')).drop(\"Cleaned\")\n",
        "dfSWNodes4.show(truncate=False)"
      ],
      "metadata": {
        "colab": {
          "base_uri": "https://localhost:8080/"
        },
        "id": "pHQr7fjmENVw",
        "outputId": "701ae604-aecf-422e-e4f6-db8c508bb4db"
      },
      "execution_count": 339,
      "outputs": [
        {
          "output_type": "stream",
          "name": "stdout",
          "text": [
            "+------------------------------------+\n",
            "|Cleaned2                            |\n",
            "+------------------------------------+\n",
            "|[   #000000,   DARTH VADER,   190]  |\n",
            "|[   #bde0f6,   R2-D2,   171]        |\n",
            "|[   #A0522D,   CHEWBACCA,   145]    |\n",
            "|[   #eb5d00,   BB-8,   40]          |\n",
            "|[   #4f4fb1,   QUI-GON,   62]       |\n",
            "|[   #808080,   NUTE GUNRAY,   25]   |\n",
            "|[   #808080,   PK-4,   4]           |\n",
            "|[   #808080,   TC-14,   5]          |\n",
            "|[   #48D1CC,   OBI-WAN,   148]      |\n",
            "|[   #808080,   DOFINE,   4]         |\n",
            "|[   #808080,   RUNE,   11]          |\n",
            "|[   #808080,   TEY HOW,   5]        |\n",
            "|[   #191970,   EMPEROR,   52]       |\n",
            "|[   #808080,   CAPTAIN PANAKA,   20]|\n",
            "|[   #808080,   SIO BIBBLE,   9]     |\n",
            "|[   #9a9a00,   JAR JAR,   42]       |\n",
            "|[   #808080,   TARPALS,   4]        |\n",
            "|[   #808080,   BOSS NASS,   5]      |\n",
            "|[   #DDA0DD,   PADME,   75]         |\n",
            "|[   #808080,   RIC OLIE,   12]      |\n",
            "+------------------------------------+\n",
            "only showing top 20 rows\n",
            "\n"
          ]
        }
      ]
    },
    {
      "cell_type": "code",
      "source": [
        "dfSWNodes5 = dfSWNodes4.withColumn('Name', f.split(col('Cleaned2').cast('string'), ',').getItem(1))\\\n",
        "                        .withColumn('colour', f.split(col('Cleaned2').cast('string'), ',').getItem(0))\\\n",
        "                        .withColumn('value', f.split(col('Cleaned2').cast('string'), ',').getItem(2))\\\n",
        "                        .drop('Cleaned2')\n",
        "dfSWNodes5.show(truncate=False)"
      ],
      "metadata": {
        "colab": {
          "base_uri": "https://localhost:8080/"
        },
        "id": "Rd8aT4raAagg",
        "outputId": "091daf3c-0bd8-40cf-9810-db228e5fc754"
      },
      "execution_count": 340,
      "outputs": [
        {
          "output_type": "stream",
          "name": "stdout",
          "text": [
            "+-----------------+-----------+-------+\n",
            "|Name             |colour     |value  |\n",
            "+-----------------+-----------+-------+\n",
            "|   DARTH VADER   |[   #000000|   190]|\n",
            "|   R2-D2         |[   #bde0f6|   171]|\n",
            "|   CHEWBACCA     |[   #A0522D|   145]|\n",
            "|   BB-8          |[   #eb5d00|   40] |\n",
            "|   QUI-GON       |[   #4f4fb1|   62] |\n",
            "|   NUTE GUNRAY   |[   #808080|   25] |\n",
            "|   PK-4          |[   #808080|   4]  |\n",
            "|   TC-14         |[   #808080|   5]  |\n",
            "|   OBI-WAN       |[   #48D1CC|   148]|\n",
            "|   DOFINE        |[   #808080|   4]  |\n",
            "|   RUNE          |[   #808080|   11] |\n",
            "|   TEY HOW       |[   #808080|   5]  |\n",
            "|   EMPEROR       |[   #191970|   52] |\n",
            "|   CAPTAIN PANAKA|[   #808080|   20] |\n",
            "|   SIO BIBBLE    |[   #808080|   9]  |\n",
            "|   JAR JAR       |[   #9a9a00|   42] |\n",
            "|   TARPALS       |[   #808080|   4]  |\n",
            "|   BOSS NASS     |[   #808080|   5]  |\n",
            "|   PADME         |[   #DDA0DD|   75] |\n",
            "|   RIC OLIE      |[   #808080|   12] |\n",
            "+-----------------+-----------+-------+\n",
            "only showing top 20 rows\n",
            "\n"
          ]
        }
      ]
    },
    {
      "cell_type": "code",
      "source": [
        "dfSWNodes6 = dfSWNodes5.withColumn(\"Colour\", f.regexp_replace(f.col(\"colour\"), \"[{}\\[\\]]\", \" \")).withColumn(\"Value\", f.regexp_replace(f.col(\"value\"), \"[{}\\[\\]]\", \" \"))\n",
        "dfSWNodes6.show(truncate=False)"
      ],
      "metadata": {
        "colab": {
          "base_uri": "https://localhost:8080/"
        },
        "id": "taaYf1-EwedK",
        "outputId": "29a8933b-14e4-414e-b741-e75d3b573344"
      },
      "execution_count": 341,
      "outputs": [
        {
          "output_type": "stream",
          "name": "stdout",
          "text": [
            "+-----------------+-----------+-------+\n",
            "|Name             |Colour     |Value  |\n",
            "+-----------------+-----------+-------+\n",
            "|   DARTH VADER   |    #000000|   190 |\n",
            "|   R2-D2         |    #bde0f6|   171 |\n",
            "|   CHEWBACCA     |    #A0522D|   145 |\n",
            "|   BB-8          |    #eb5d00|   40  |\n",
            "|   QUI-GON       |    #4f4fb1|   62  |\n",
            "|   NUTE GUNRAY   |    #808080|   25  |\n",
            "|   PK-4          |    #808080|   4   |\n",
            "|   TC-14         |    #808080|   5   |\n",
            "|   OBI-WAN       |    #48D1CC|   148 |\n",
            "|   DOFINE        |    #808080|   4   |\n",
            "|   RUNE          |    #808080|   11  |\n",
            "|   TEY HOW       |    #808080|   5   |\n",
            "|   EMPEROR       |    #191970|   52  |\n",
            "|   CAPTAIN PANAKA|    #808080|   20  |\n",
            "|   SIO BIBBLE    |    #808080|   9   |\n",
            "|   JAR JAR       |    #9a9a00|   42  |\n",
            "|   TARPALS       |    #808080|   4   |\n",
            "|   BOSS NASS     |    #808080|   5   |\n",
            "|   PADME         |    #DDA0DD|   75  |\n",
            "|   RIC OLIE      |    #808080|   12  |\n",
            "+-----------------+-----------+-------+\n",
            "only showing top 20 rows\n",
            "\n"
          ]
        }
      ]
    },
    {
      "cell_type": "code",
      "source": [
        "from pyspark.sql.functions import monotonically_increasing_id \n",
        "\n",
        "dfSWNodes6 = dfSWNodes6.select(\"*\").withColumn(\"id\", monotonically_increasing_id())\n",
        "dfSWNodes6 = dfSWNodes6.select(\"id\",\"Colour\",\"Name\",\"Value\")\n",
        "dfSWNodes6.show()"
      ],
      "metadata": {
        "colab": {
          "base_uri": "https://localhost:8080/"
        },
        "id": "9wWlLP-H9e9A",
        "outputId": "074323f9-a019-4e71-ebce-c0e5e92e0aca"
      },
      "execution_count": 342,
      "outputs": [
        {
          "output_type": "stream",
          "name": "stdout",
          "text": [
            "+---+-----------+-----------------+-------+\n",
            "| id|     Colour|             Name|  Value|\n",
            "+---+-----------+-----------------+-------+\n",
            "|  0|    #000000|      DARTH VADER|   190 |\n",
            "|  1|    #bde0f6|            R2-D2|   171 |\n",
            "|  2|    #A0522D|        CHEWBACCA|   145 |\n",
            "|  3|    #eb5d00|             BB-8|    40 |\n",
            "|  4|    #4f4fb1|          QUI-GON|    62 |\n",
            "|  5|    #808080|      NUTE GUNRAY|    25 |\n",
            "|  6|    #808080|             PK-4|     4 |\n",
            "|  7|    #808080|            TC-14|     5 |\n",
            "|  8|    #48D1CC|          OBI-WAN|   148 |\n",
            "|  9|    #808080|           DOFINE|     4 |\n",
            "| 10|    #808080|             RUNE|    11 |\n",
            "| 11|    #808080|          TEY HOW|     5 |\n",
            "| 12|    #191970|          EMPEROR|    52 |\n",
            "| 13|    #808080|   CAPTAIN PANAKA|    20 |\n",
            "| 14|    #808080|       SIO BIBBLE|     9 |\n",
            "| 15|    #9a9a00|          JAR JAR|    42 |\n",
            "| 16|    #808080|          TARPALS|     4 |\n",
            "| 17|    #808080|        BOSS NASS|     5 |\n",
            "| 18|    #DDA0DD|            PADME|    75 |\n",
            "| 19|    #808080|         RIC OLIE|    12 |\n",
            "+---+-----------+-----------------+-------+\n",
            "only showing top 20 rows\n",
            "\n"
          ]
        }
      ]
    },
    {
      "cell_type": "code",
      "source": [
        "dfSWNodes6.count()"
      ],
      "metadata": {
        "colab": {
          "base_uri": "https://localhost:8080/"
        },
        "id": "FmzperGUyljU",
        "outputId": "5a28a70f-923f-489a-877b-978a315d2912"
      },
      "execution_count": 343,
      "outputs": [
        {
          "output_type": "execute_result",
          "data": {
            "text/plain": [
              "111"
            ]
          },
          "metadata": {},
          "execution_count": 343
        }
      ]
    },
    {
      "cell_type": "code",
      "source": [
        "dfSWNodes6.select(countDistinct(\"id\"), countDistinct(\"Colour\"), countDistinct(\"Value\")).show()\n",
        "# name is indeed our id  "
      ],
      "metadata": {
        "colab": {
          "base_uri": "https://localhost:8080/"
        },
        "id": "QoC3UVejzRsU",
        "outputId": "88d85416-73f6-4adb-c18b-6013b3d31e80"
      },
      "execution_count": 344,
      "outputs": [
        {
          "output_type": "stream",
          "name": "stdout",
          "text": [
            "+------------------+----------------------+---------------------+\n",
            "|count(DISTINCT id)|count(DISTINCT Colour)|count(DISTINCT Value)|\n",
            "+------------------+----------------------+---------------------+\n",
            "|               111|                    18|                   37|\n",
            "+------------------+----------------------+---------------------+\n",
            "\n"
          ]
        }
      ]
    },
    {
      "cell_type": "code",
      "source": [
        "dfSWLinks2 = dfSWLinks.withColumn('Exploded',f.explode(f.split(col('Links').cast(\"string\"),'},'))).drop(\"Links\")\n",
        "dfSWLinks2.show(truncate=False)"
      ],
      "metadata": {
        "colab": {
          "base_uri": "https://localhost:8080/"
        },
        "id": "r43sctXL0-di",
        "outputId": "5e1e216e-a8f9-4969-eafa-49023f54c79d"
      },
      "execution_count": 345,
      "outputs": [
        {
          "output_type": "stream",
          "name": "stdout",
          "text": [
            "+--------------+\n",
            "|Exploded      |\n",
            "+--------------+\n",
            "|[[{0,  1,  32 |\n",
            "|  {2,  0,  2  |\n",
            "|  {0,  20,  5 |\n",
            "|  {0,  4,  22 |\n",
            "|  {0,  18,  41|\n",
            "|  {0,  21,  2 |\n",
            "|  {0,  15,  12|\n",
            "|  {0,  22,  2 |\n",
            "|  {0,  23,  8 |\n",
            "|  {24,  0,  11|\n",
            "|  {0,  26,  3 |\n",
            "|  {0,  27,  2 |\n",
            "|  {0,  8,  47 |\n",
            "|  {0,  29,  1 |\n",
            "|  {0,  30,  1 |\n",
            "|  {13,  0,  2 |\n",
            "|  {0,  19,  4 |\n",
            "|  {0,  32,  9 |\n",
            "|  {0,  33,  2 |\n",
            "|  {0,  34,  9 |\n",
            "+--------------+\n",
            "only showing top 20 rows\n",
            "\n"
          ]
        }
      ]
    },
    {
      "cell_type": "code",
      "source": [
        "dfSWLinks3 = dfSWLinks2.select(\"Exploded\", f.regexp_replace(f.col(\"Exploded\"), \"[{}\\[\\]]\", \" \").alias(\"Cleaned\")).drop(\"Exploded\")\n",
        "dfSWLinks3.show(truncate=False)"
      ],
      "metadata": {
        "colab": {
          "base_uri": "https://localhost:8080/"
        },
        "id": "zC-0hXSU0-dj",
        "outputId": "0363760a-7ee1-4116-b174-5e39b977ba39"
      },
      "execution_count": 346,
      "outputs": [
        {
          "output_type": "stream",
          "name": "stdout",
          "text": [
            "+--------------+\n",
            "|Cleaned       |\n",
            "+--------------+\n",
            "|   0,  1,  32 |\n",
            "|   2,  0,  2  |\n",
            "|   0,  20,  5 |\n",
            "|   0,  4,  22 |\n",
            "|   0,  18,  41|\n",
            "|   0,  21,  2 |\n",
            "|   0,  15,  12|\n",
            "|   0,  22,  2 |\n",
            "|   0,  23,  8 |\n",
            "|   24,  0,  11|\n",
            "|   0,  26,  3 |\n",
            "|   0,  27,  2 |\n",
            "|   0,  8,  47 |\n",
            "|   0,  29,  1 |\n",
            "|   0,  30,  1 |\n",
            "|   13,  0,  2 |\n",
            "|   0,  19,  4 |\n",
            "|   0,  32,  9 |\n",
            "|   0,  33,  2 |\n",
            "|   0,  34,  9 |\n",
            "+--------------+\n",
            "only showing top 20 rows\n",
            "\n"
          ]
        }
      ]
    },
    {
      "cell_type": "code",
      "source": [
        "dfSWLinks4 = dfSWLinks3.withColumn(\"Cleaned2\", f.split(col(\"Cleaned\"),',')).drop(\"Cleaned\")\n",
        "dfSWLinks4.show(truncate=False)"
      ],
      "metadata": {
        "colab": {
          "base_uri": "https://localhost:8080/"
        },
        "id": "H29lMI-w0-dk",
        "outputId": "6de138b9-0e15-4a6c-cb2e-077f073e0382"
      },
      "execution_count": 347,
      "outputs": [
        {
          "output_type": "stream",
          "name": "stdout",
          "text": [
            "+------------------+\n",
            "|Cleaned2          |\n",
            "+------------------+\n",
            "|[   0,   1,   32] |\n",
            "|[   2,   0,   2]  |\n",
            "|[   0,   20,   5] |\n",
            "|[   0,   4,   22] |\n",
            "|[   0,   18,   41]|\n",
            "|[   0,   21,   2] |\n",
            "|[   0,   15,   12]|\n",
            "|[   0,   22,   2] |\n",
            "|[   0,   23,   8] |\n",
            "|[   24,   0,   11]|\n",
            "|[   0,   26,   3] |\n",
            "|[   0,   27,   2] |\n",
            "|[   0,   8,   47] |\n",
            "|[   0,   29,   1] |\n",
            "|[   0,   30,   1] |\n",
            "|[   13,   0,   2] |\n",
            "|[   0,   19,   4] |\n",
            "|[   0,   32,   9] |\n",
            "|[   0,   33,   2] |\n",
            "|[   0,   34,   9] |\n",
            "+------------------+\n",
            "only showing top 20 rows\n",
            "\n"
          ]
        }
      ]
    },
    {
      "cell_type": "code",
      "source": [
        "dfSWLinks5 = dfSWLinks4.withColumn('src', f.split(col('Cleaned2').cast('string'), ',').getItem(0))\\\n",
        "                        .withColumn('dst', f.split(col('Cleaned2').cast('string'), ',').getItem(1))\\\n",
        "                        .withColumn('nature', f.split(col('Cleaned2').cast('string'), ',').getItem(2))\\\n",
        "                        .drop('Cleaned2')\n",
        "dfSWLinks5.show(truncate=False)"
      ],
      "metadata": {
        "colab": {
          "base_uri": "https://localhost:8080/"
        },
        "id": "trZ9uCAv0-dk",
        "outputId": "1f31d6d8-b833-4b13-e911-d80c9ec3b362"
      },
      "execution_count": 348,
      "outputs": [
        {
          "output_type": "stream",
          "name": "stdout",
          "text": [
            "+------+-----+------+\n",
            "|src   |dst  |nature|\n",
            "+------+-----+------+\n",
            "|[   0 |   1 |   32]|\n",
            "|[   2 |   0 |   2] |\n",
            "|[   0 |   20|   5] |\n",
            "|[   0 |   4 |   22]|\n",
            "|[   0 |   18|   41]|\n",
            "|[   0 |   21|   2] |\n",
            "|[   0 |   15|   12]|\n",
            "|[   0 |   22|   2] |\n",
            "|[   0 |   23|   8] |\n",
            "|[   24|   0 |   11]|\n",
            "|[   0 |   26|   3] |\n",
            "|[   0 |   27|   2] |\n",
            "|[   0 |   8 |   47]|\n",
            "|[   0 |   29|   1] |\n",
            "|[   0 |   30|   1] |\n",
            "|[   13|   0 |   2] |\n",
            "|[   0 |   19|   4] |\n",
            "|[   0 |   32|   9] |\n",
            "|[   0 |   33|   2] |\n",
            "|[   0 |   34|   9] |\n",
            "+------+-----+------+\n",
            "only showing top 20 rows\n",
            "\n"
          ]
        }
      ]
    },
    {
      "cell_type": "code",
      "source": [
        "dfSWLinks6 = dfSWLinks5.withColumn(\"src\", f.regexp_replace(f.col(\"src\"), \"[{}\\[\\]]\", \" \")).withColumn(\"Nature\", f.regexp_replace(f.col(\"nature\"), \"[{}\\[\\]]\", \" \"))\n",
        "dfSWLinks6.show(truncate=False)"
      ],
      "metadata": {
        "colab": {
          "base_uri": "https://localhost:8080/"
        },
        "outputId": "bf3cacd4-879a-42e4-c81a-401ab808521b",
        "id": "R2iKqNde0-dl"
      },
      "execution_count": 349,
      "outputs": [
        {
          "output_type": "stream",
          "name": "stdout",
          "text": [
            "+------+-----+------+\n",
            "|src   |dst  |Nature|\n",
            "+------+-----+------+\n",
            "|    0 |   1 |   32 |\n",
            "|    2 |   0 |   2  |\n",
            "|    0 |   20|   5  |\n",
            "|    0 |   4 |   22 |\n",
            "|    0 |   18|   41 |\n",
            "|    0 |   21|   2  |\n",
            "|    0 |   15|   12 |\n",
            "|    0 |   22|   2  |\n",
            "|    0 |   23|   8  |\n",
            "|    24|   0 |   11 |\n",
            "|    0 |   26|   3  |\n",
            "|    0 |   27|   2  |\n",
            "|    0 |   8 |   47 |\n",
            "|    0 |   29|   1  |\n",
            "|    0 |   30|   1  |\n",
            "|    13|   0 |   2  |\n",
            "|    0 |   19|   4  |\n",
            "|    0 |   32|   9  |\n",
            "|    0 |   33|   2  |\n",
            "|    0 |   34|   9  |\n",
            "+------+-----+------+\n",
            "only showing top 20 rows\n",
            "\n"
          ]
        }
      ]
    },
    {
      "cell_type": "code",
      "source": [
        "dfSWLinks6.distinct().count()"
      ],
      "metadata": {
        "colab": {
          "base_uri": "https://localhost:8080/"
        },
        "outputId": "811de9bb-c781-4a43-bf03-e31c5d61eb41",
        "id": "CchEu6_j1q_a"
      },
      "execution_count": 350,
      "outputs": [
        {
          "output_type": "execute_result",
          "data": {
            "text/plain": [
              "444"
            ]
          },
          "metadata": {},
          "execution_count": 350
        }
      ]
    },
    {
      "cell_type": "code",
      "source": [
        "dfSWLinks6.select(countDistinct(\"src\"), countDistinct(\"dst\"), countDistinct(\"Nature\")).show()"
      ],
      "metadata": {
        "colab": {
          "base_uri": "https://localhost:8080/"
        },
        "id": "5nQO32004yNn",
        "outputId": "a5e36c5c-36d8-4bd6-b5ca-889c9113ff9e"
      },
      "execution_count": 351,
      "outputs": [
        {
          "output_type": "stream",
          "name": "stdout",
          "text": [
            "+-------------------+-------------------+----------------------+\n",
            "|count(DISTINCT src)|count(DISTINCT dst)|count(DISTINCT Nature)|\n",
            "+-------------------+-------------------+----------------------+\n",
            "|                 82|                 87|                    38|\n",
            "+-------------------+-------------------+----------------------+\n",
            "\n"
          ]
        }
      ]
    },
    {
      "cell_type": "code",
      "source": [
        "g = GraphFrame(dfSWNodes6, dfSWLinks6)\n",
        "g.inDegrees.show()"
      ],
      "metadata": {
        "id": "b3KuRCc720lL",
        "colab": {
          "base_uri": "https://localhost:8080/"
        },
        "outputId": "536aad1c-42c7-4c5b-a61a-1897c7c44bb6"
      },
      "execution_count": 352,
      "outputs": [
        {
          "output_type": "stream",
          "name": "stdout",
          "text": [
            "+------+--------+\n",
            "|    id|inDegree|\n",
            "+------+--------+\n",
            "|    41|       6|\n",
            "|     7|       5|\n",
            "|    10|       3|\n",
            "|    92|       3|\n",
            "|    54|       6|\n",
            "|    66|      16|\n",
            "|    82|       4|\n",
            "|   110|       2|\n",
            "|     8|      21|\n",
            "|    32|       7|\n",
            "|    40|       1|\n",
            "|    37|       2|\n",
            "|    42|       2|\n",
            "|    21|       5|\n",
            "|    69|      14|\n",
            "|    18|      23|\n",
            "|     4|      16|\n",
            "|    64|       1|\n",
            "|    34|      17|\n",
            "|    22|       1|\n",
            "+------+--------+\n",
            "only showing top 20 rows\n",
            "\n"
          ]
        }
      ]
    },
    {
      "cell_type": "code",
      "source": [
        "# Question 3 \n",
        "\n",
        "# As stated previously : \n",
        "\n",
        "# Method 1 : \n",
        "\n",
        "dfSWNodes6.distinct().count()"
      ],
      "metadata": {
        "colab": {
          "base_uri": "https://localhost:8080/"
        },
        "outputId": "249555b3-6092-4860-d1c9-affa0e5327fa",
        "id": "unqGEUMT3Gb9"
      },
      "execution_count": 353,
      "outputs": [
        {
          "output_type": "execute_result",
          "data": {
            "text/plain": [
              "111"
            ]
          },
          "metadata": {},
          "execution_count": 353
        }
      ]
    },
    {
      "cell_type": "code",
      "source": [
        "# Method 2 : \n",
        "\n",
        "dfSWNodes6.select(countDistinct(\"id\")).show()\n",
        "\n",
        "# So we have indeed 111 different characters"
      ],
      "metadata": {
        "colab": {
          "base_uri": "https://localhost:8080/"
        },
        "outputId": "8c74d1dc-70f4-4d24-b343-3636a2c2cac2",
        "id": "aXAYa-Qi3Gb-"
      },
      "execution_count": 354,
      "outputs": [
        {
          "output_type": "stream",
          "name": "stdout",
          "text": [
            "+------------------+\n",
            "|count(DISTINCT id)|\n",
            "+------------------+\n",
            "|               111|\n",
            "+------------------+\n",
            "\n"
          ]
        }
      ]
    },
    {
      "cell_type": "code",
      "source": [
        "# Question 4 :\n",
        "\n",
        "# Again as stated previously (Didn't read this question before, complete coincidence (or not ?)):  \n",
        "\n",
        "dfSWLinks6.distinct().count()\n",
        "\n",
        "# So we have a total of 444 interactions"
      ],
      "metadata": {
        "id": "PL3L_dSa8ovE",
        "colab": {
          "base_uri": "https://localhost:8080/"
        },
        "outputId": "b42fab0f-9255-4398-f72e-28679e669baf"
      },
      "execution_count": 355,
      "outputs": [
        {
          "output_type": "execute_result",
          "data": {
            "text/plain": [
              "444"
            ]
          },
          "metadata": {},
          "execution_count": 355
        }
      ]
    },
    {
      "cell_type": "code",
      "source": [
        "# Question 5 :\n",
        "\n",
        "dfInDegrees = g.inDegrees.select(\"id\", \"inDegree\")\n",
        "dfInDegrees = dfInDegrees.orderBy(col(\"inDegree\").desc())\n",
        "dfInDegrees.show()"
      ],
      "metadata": {
        "colab": {
          "base_uri": "https://localhost:8080/"
        },
        "id": "JCOjVnfI35-A",
        "outputId": "9a7d7f24-cfba-4bdb-a6ce-9c654278ad45"
      },
      "execution_count": 356,
      "outputs": [
        {
          "output_type": "stream",
          "name": "stdout",
          "text": [
            "+------+--------+\n",
            "|    id|inDegree|\n",
            "+------+--------+\n",
            "|    18|      23|\n",
            "|     8|      21|\n",
            "|     1|      20|\n",
            "|    34|      17|\n",
            "|    66|      16|\n",
            "|     4|      16|\n",
            "|    69|      14|\n",
            "|    93|      14|\n",
            "|     0|      13|\n",
            "|    72|      12|\n",
            "|    15|       9|\n",
            "|    24|       9|\n",
            "|    98|       9|\n",
            "|    60|       9|\n",
            "|    23|       8|\n",
            "|   104|       8|\n",
            "|    14|       8|\n",
            "|    75|       8|\n",
            "|    32|       7|\n",
            "|    29|       7|\n",
            "+------+--------+\n",
            "only showing top 20 rows\n",
            "\n"
          ]
        }
      ]
    },
    {
      "cell_type": "code",
      "source": [
        "dfOutDegrees = g.outDegrees.select(\"id\", \"outDegree\")\n",
        "dfOutDegrees = dfOutDegrees.orderBy(col(\"outDegree\").desc())\n",
        "dfOutDegrees.show()"
      ],
      "metadata": {
        "colab": {
          "base_uri": "https://localhost:8080/"
        },
        "id": "-4z9lxQhGQUS",
        "outputId": "14af0ce0-2200-473f-b97f-9abb0fcd7b05"
      },
      "execution_count": 357,
      "outputs": [
        {
          "output_type": "stream",
          "name": "stdout",
          "text": [
            "+------+---------+\n",
            "|    id|outDegree|\n",
            "+------+---------+\n",
            "|     0|       39|\n",
            "|    24|       26|\n",
            "|    36|       17|\n",
            "|    12|       16|\n",
            "|     8|       15|\n",
            "|    15|       15|\n",
            "|     2|       14|\n",
            "|    72|       14|\n",
            "|     4|       11|\n",
            "|     3|       11|\n",
            "|    18|       11|\n",
            "|    69|       11|\n",
            "|    91|       11|\n",
            "|    48|       10|\n",
            "|    53|       10|\n",
            "|    66|       10|\n",
            "|     5|        9|\n",
            "|    68|        8|\n",
            "|    51|        8|\n",
            "|    13|        8|\n",
            "+------+---------+\n",
            "only showing top 20 rows\n",
            "\n"
          ]
        }
      ]
    },
    {
      "cell_type": "code",
      "source": [
        "dfInOutDegrees = dfOutDegrees.join(dfInDegrees, \"id\", \"full_outer\").fillna(0)\n",
        "dfInOutDegrees.show()"
      ],
      "metadata": {
        "colab": {
          "base_uri": "https://localhost:8080/"
        },
        "id": "jAFWVseeHFU0",
        "outputId": "c39075e3-91e1-4936-8c80-2303397f74cf"
      },
      "execution_count": 358,
      "outputs": [
        {
          "output_type": "stream",
          "name": "stdout",
          "text": [
            "+-------+---------+--------+\n",
            "|     id|outDegree|inDegree|\n",
            "+-------+---------+--------+\n",
            "|      0|       39|       0|\n",
            "|      1|        2|       0|\n",
            "|     10|        1|       0|\n",
            "|    101|        5|       0|\n",
            "|    103|        1|       0|\n",
            "|    105|        6|       0|\n",
            "|    107|        1|       0|\n",
            "|    108|        4|       0|\n",
            "|    109|        4|       0|\n",
            "|    110|        2|       0|\n",
            "|     12|       16|       0|\n",
            "|     13|        8|       0|\n",
            "|     15|       15|       0|\n",
            "|     17|        6|       0|\n",
            "|     18|       11|       0|\n",
            "|      2|       14|       0|\n",
            "|     21|        1|       0|\n",
            "|     22|        2|       0|\n",
            "|     24|       26|       0|\n",
            "|     25|        4|       0|\n",
            "+-------+---------+--------+\n",
            "only showing top 20 rows\n",
            "\n"
          ]
        }
      ]
    },
    {
      "cell_type": "code",
      "source": [
        "dfInOutDegrees = dfInOutDegrees.withColumn(\"sum\", col(\"outDegree\")+col(\"inDegree\"))\n",
        "dfInOutDegrees.orderBy(col(\"sum\").desc()).show()"
      ],
      "metadata": {
        "colab": {
          "base_uri": "https://localhost:8080/"
        },
        "id": "Oa1conlvIoLP",
        "outputId": "a696bd49-c98c-41e5-a771-312a8efbaabb"
      },
      "execution_count": 359,
      "outputs": [
        {
          "output_type": "stream",
          "name": "stdout",
          "text": [
            "+------+---------+--------+---+\n",
            "|    id|outDegree|inDegree|sum|\n",
            "+------+---------+--------+---+\n",
            "|     0|       39|       0| 39|\n",
            "|    24|       26|       0| 26|\n",
            "|    18|        0|      23| 23|\n",
            "|     8|        0|      21| 21|\n",
            "|     1|        0|      20| 20|\n",
            "|    34|        0|      17| 17|\n",
            "|    36|       17|       0| 17|\n",
            "|    12|       16|       0| 16|\n",
            "|    66|        0|      16| 16|\n",
            "|     4|        0|      16| 16|\n",
            "|     8|       15|       0| 15|\n",
            "|    15|       15|       0| 15|\n",
            "|    72|       14|       0| 14|\n",
            "|    69|        0|      14| 14|\n",
            "|     2|       14|       0| 14|\n",
            "|    93|        0|      14| 14|\n",
            "|     0|        0|      13| 13|\n",
            "|    72|        0|      12| 12|\n",
            "|    18|       11|       0| 11|\n",
            "|     3|       11|       0| 11|\n",
            "+------+---------+--------+---+\n",
            "only showing top 20 rows\n",
            "\n"
          ]
        }
      ]
    },
    {
      "cell_type": "code",
      "source": [
        "g.vertices.filter(g.vertices.id == 0).show()"
      ],
      "metadata": {
        "colab": {
          "base_uri": "https://localhost:8080/"
        },
        "id": "EbtUX8-AJDq-",
        "outputId": "277b80e0-c2df-4e3d-dcb7-56cc929e1a4a"
      },
      "execution_count": 360,
      "outputs": [
        {
          "output_type": "stream",
          "name": "stdout",
          "text": [
            "+---+-----------+--------------+-------+\n",
            "| id|     Colour|          Name|  Value|\n",
            "+---+-----------+--------------+-------+\n",
            "|  0|    #000000|   DARTH VADER|   190 |\n",
            "+---+-----------+--------------+-------+\n",
            "\n"
          ]
        }
      ]
    },
    {
      "cell_type": "code",
      "source": [
        "# The central character in Star Wars is DARTH VADER !"
      ],
      "metadata": {
        "id": "KjEwVYOuJPUM"
      },
      "execution_count": 361,
      "outputs": []
    },
    {
      "cell_type": "code",
      "source": [
        "# Question 6 : \n",
        "\n",
        "results = g.pageRank(resetProbability=0.01, maxIter=20)"
      ],
      "metadata": {
        "id": "TGo0KbGvAFdr"
      },
      "execution_count": 362,
      "outputs": []
    },
    {
      "cell_type": "code",
      "source": [
        "finalResults = results.vertices.select(\"id\", \"pagerank\").orderBy(col(\"pagerank\").desc())\n",
        "finalResults.show()"
      ],
      "metadata": {
        "colab": {
          "base_uri": "https://localhost:8080/"
        },
        "id": "X5BaH5bRAOxY",
        "outputId": "2dc9f808-c942-44a3-9fb9-1f6afc386fe5"
      },
      "execution_count": 363,
      "outputs": [
        {
          "output_type": "stream",
          "name": "stdout",
          "text": [
            "+---+------------------+\n",
            "| id|          pagerank|\n",
            "+---+------------------+\n",
            "| 34| 6.258352162445508|\n",
            "| 18| 4.616558025869075|\n",
            "|  1|3.3520826790323484|\n",
            "| 20| 2.841951660967404|\n",
            "| 23| 2.793902812408712|\n",
            "|  8|2.5335465071837477|\n",
            "| 66|2.4908753371741454|\n",
            "| 97|2.4419332689208266|\n",
            "| 93| 2.433591748506582|\n",
            "| 54| 2.375489047218674|\n",
            "|  4| 2.264611899541905|\n",
            "|104|2.2113721132250252|\n",
            "|106| 2.131225883856008|\n",
            "| 75| 2.110853873009813|\n",
            "| 98|2.0209398841635964|\n",
            "| 43|1.9811618078737137|\n",
            "| 69|1.6615929982533164|\n",
            "|  7|1.5959784082295094|\n",
            "| 14|1.5404773018496727|\n",
            "| 60|1.5243749973713168|\n",
            "+---+------------------+\n",
            "only showing top 20 rows\n",
            "\n"
          ]
        }
      ]
    },
    {
      "cell_type": "code",
      "source": [
        "g.vertices.filter(g.vertices.id == 34).show()"
      ],
      "metadata": {
        "colab": {
          "base_uri": "https://localhost:8080/"
        },
        "id": "1YWMCc7HAiKX",
        "outputId": "eb0882ab-4d23-4839-fb02-8ff3a529e2fb"
      },
      "execution_count": 364,
      "outputs": [
        {
          "output_type": "stream",
          "name": "stdout",
          "text": [
            "+---+-----------+-------+------+\n",
            "| id|     Colour|   Name| Value|\n",
            "+---+-----------+-------+------+\n",
            "| 34|    #9ACD32|   YODA|   46 |\n",
            "+---+-----------+-------+------+\n",
            "\n"
          ]
        }
      ]
    },
    {
      "cell_type": "code",
      "source": [
        "# AAAAAAAAAAAND THE CHARACTER WITH THE HIGHEST 'RANK' IN STAR WARS IS : YODA ! \n",
        "# (well, atleast based on my results ...)"
      ],
      "metadata": {
        "id": "Ikm_U1HACBBB"
      },
      "execution_count": 365,
      "outputs": []
    }
  ]
}