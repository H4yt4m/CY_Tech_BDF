{
  "nbformat": 4,
  "nbformat_minor": 0,
  "metadata": {
    "colab": {
      "provenance": [],
      "collapsed_sections": [
        "T3ULPx4Y1LiR",
        "7ppnan-_ELFI",
        "2vPYCnS8ERmg",
        "mJ708zvl627q",
        "jjtVkYOKxTo7",
        "usL5LynSI6rE"
      ]
    },
    "kernelspec": {
      "name": "python3",
      "display_name": "Python 3"
    },
    "language_info": {
      "name": "python"
    }
  },
  "cells": [
    {
      "cell_type": "markdown",
      "metadata": {
        "id": "Z-h_wDcNlH_K"
      },
      "source": [
        "#00 - Configuration of Apache Spark on Collaboratory\n"
      ]
    },
    {
      "cell_type": "markdown",
      "metadata": {
        "id": "kvD4HBMi0ohY"
      },
      "source": [
        "###Installing Java, Spark, and Findspark\n",
        "\n",
        "\n",
        "---\n",
        "\n",
        "\n",
        "This code installs Apache Spark 2.4.4, Java 8, and [Findspark](https://github.com/minrk/findspark), a library that makes it easy for Python to find Spark."
      ]
    },
    {
      "cell_type": "code",
      "metadata": {
        "id": "KsAfQ0CrgnWf",
        "colab": {
          "base_uri": "https://localhost:8080/"
        },
        "outputId": "61134222-d4ec-4028-c05a-5c356e1781de"
      },
      "source": [
        "!apt-get update\n",
        "!apt-get install openjdk-8-jdk-headless -qq > /dev/null\n",
        "!wget  http://apache.osuosl.org/spark/spark-3.3.1/spark-3.3.1-bin-hadoop3.tgz  \n",
        "!tar xf spark-3.3.1-bin-hadoop3.tgz  \n",
        "!rm spark-3.3.1-bin-hadoop3.tgz    \n",
        "!pip install -q findspark"
      ],
      "execution_count": 1,
      "outputs": [
        {
          "output_type": "stream",
          "name": "stdout",
          "text": [
            "\r0% [Working]\r            \rGet:1 http://security.ubuntu.com/ubuntu focal-security InRelease [114 kB]\n",
            "\r0% [Connecting to archive.ubuntu.com] [1 InRelease 14.2 kB/114 kB 12%] [Connect\r                                                                               \rGet:2 https://cloud.r-project.org/bin/linux/ubuntu focal-cran40/ InRelease [3,622 B]\n",
            "Hit:3 http://archive.ubuntu.com/ubuntu focal InRelease\n",
            "Get:4 http://archive.ubuntu.com/ubuntu focal-updates InRelease [114 kB]\n",
            "Ign:5 https://developer.download.nvidia.com/compute/machine-learning/repos/ubuntu2004/x86_64  InRelease\n",
            "Hit:6 https://developer.download.nvidia.com/compute/cuda/repos/ubuntu2004/x86_64  InRelease\n",
            "Hit:7 https://developer.download.nvidia.com/compute/machine-learning/repos/ubuntu2004/x86_64  Release\n",
            "Get:8 http://ppa.launchpad.net/c2d4u.team/c2d4u4.0+/ubuntu focal InRelease [18.1 kB]\n",
            "Get:9 http://archive.ubuntu.com/ubuntu focal-backports InRelease [108 kB]\n",
            "Hit:10 http://ppa.launchpad.net/cran/libgit2/ubuntu focal InRelease\n",
            "Hit:11 http://ppa.launchpad.net/deadsnakes/ppa/ubuntu focal InRelease\n",
            "Hit:12 http://ppa.launchpad.net/graphics-drivers/ppa/ubuntu focal InRelease\n",
            "Get:13 http://security.ubuntu.com/ubuntu focal-security/universe amd64 Packages [982 kB]\n",
            "Get:14 http://security.ubuntu.com/ubuntu focal-security/main amd64 Packages [2,436 kB]\n",
            "Get:16 http://archive.ubuntu.com/ubuntu focal-updates/restricted amd64 Packages [2,003 kB]\n",
            "Get:17 http://archive.ubuntu.com/ubuntu focal-updates/universe amd64 Packages [1,284 kB]\n",
            "Get:18 http://archive.ubuntu.com/ubuntu focal-updates/main amd64 Packages [2,909 kB]\n",
            "Get:19 http://ppa.launchpad.net/c2d4u.team/c2d4u4.0+/ubuntu focal/main Sources [2,376 kB]\n",
            "Get:20 http://ppa.launchpad.net/c2d4u.team/c2d4u4.0+/ubuntu focal/main amd64 Packages [1,125 kB]\n",
            "Fetched 13.5 MB in 17s (797 kB/s)\n",
            "Reading package lists... Done\n",
            "--2023-01-21 22:25:19--  http://apache.osuosl.org/spark/spark-3.3.1/spark-3.3.1-bin-hadoop3.tgz\n",
            "Resolving apache.osuosl.org (apache.osuosl.org)... 140.211.166.134, 64.50.236.52, 64.50.233.100, ...\n",
            "Connecting to apache.osuosl.org (apache.osuosl.org)|140.211.166.134|:80... connected.\n",
            "HTTP request sent, awaiting response... 200 OK\n",
            "Length: 299350810 (285M) [application/x-gzip]\n",
            "Saving to: ‘spark-3.3.1-bin-hadoop3.tgz’\n",
            "\n",
            "spark-3.3.1-bin-had 100%[===================>] 285.48M  36.2MB/s    in 30s     \n",
            "\n",
            "2023-01-21 22:25:49 (9.62 MB/s) - ‘spark-3.3.1-bin-hadoop3.tgz’ saved [299350810/299350810]\n",
            "\n"
          ]
        }
      ]
    },
    {
      "cell_type": "markdown",
      "metadata": {
        "id": "b4Kjvk_h1AHl"
      },
      "source": [
        "### Set Environment Variables\n",
        "Set the locations where Spark and Java are installed."
      ]
    },
    {
      "cell_type": "code",
      "metadata": {
        "id": "hiOoj3rUgnVx",
        "colab": {
          "base_uri": "https://localhost:8080/"
        },
        "outputId": "09034db8-427f-4d87-e9ad-97342f86be2c"
      },
      "source": [
        "import os\n",
        "os.environ[\"JAVA_HOME\"] = \"/usr/lib/jvm/java-8-openjdk-amd64\"\n",
        "os.environ[\"SPARK_HOME\"] = \"/content/spark/\"\n",
        "os.environ[\"DRIVE_DATA\"] = \"/content/gdrive/My Drive/Colab Notebooks/CY_Tech_BDF/data/\"\n",
        "\n",
        "!rm /content/spark\n",
        "!ln -s /content/spark-3.3.1-bin-hadoop3 /content/spark\n",
        "!export SPARK_HOME=/content/spark\n",
        "!export PATH=$PATH:$SPARK_HOME/bin:$SPARK_HOME/sbin\n",
        "!echo $SPARK_HOME\n",
        "!env |grep  \"DRIVE_DATA\""
      ],
      "execution_count": 2,
      "outputs": [
        {
          "output_type": "stream",
          "name": "stdout",
          "text": [
            "rm: cannot remove '/content/spark': No such file or directory\n",
            "/content/spark/\n",
            "DRIVE_DATA=/content/gdrive/My Drive/Colab Notebooks/CY_Tech_BDF/data/\n"
          ]
        }
      ]
    },
    {
      "cell_type": "markdown",
      "metadata": {
        "id": "NwU28K5f1H3P"
      },
      "source": [
        "### Start a SparkSession\n",
        "This will start a local Spark session."
      ]
    },
    {
      "cell_type": "code",
      "metadata": {
        "id": "n-4asPkCgnVB",
        "colab": {
          "base_uri": "https://localhost:8080/"
        },
        "outputId": "4904d3e3-42c8-411a-b36a-3f5579979554"
      },
      "source": [
        "!python -V\n",
        "\n",
        "import findspark\n",
        "findspark.init()\n",
        "\n",
        "from pyspark import SparkContext\n",
        "sc = SparkContext.getOrCreate()\n",
        "\n",
        "# Example: shows the PySpark version\n",
        "print(\"PySpark version {0}\".format(sc.version))\n",
        "\n",
        "# Example: parallelise an array and show the 2 first elements\n",
        "sc.parallelize([2, 3, 4, 5, 6]).cache().take(2)"
      ],
      "execution_count": 3,
      "outputs": [
        {
          "output_type": "stream",
          "name": "stdout",
          "text": [
            "Python 3.8.10\n",
            "PySpark version 3.3.1\n"
          ]
        },
        {
          "output_type": "execute_result",
          "data": {
            "text/plain": [
              "[2, 3]"
            ]
          },
          "metadata": {},
          "execution_count": 3
        }
      ]
    },
    {
      "cell_type": "code",
      "metadata": {
        "id": "pth1GUUrgnUW"
      },
      "source": [
        "from pyspark.sql import SparkSession\n",
        "# We create a SparkSession object (or we retrieve it if it is already created)\n",
        "spark = SparkSession \\\n",
        ".builder \\\n",
        ".appName(\"My application\") \\\n",
        ".config(\"spark.some.config.option\", \"some-value\") \\\n",
        ".master(\"local[4]\") \\\n",
        ".getOrCreate()\n",
        "# We get the SparkContext\n",
        "sc = spark.sparkContext"
      ],
      "execution_count": 4,
      "outputs": []
    },
    {
      "cell_type": "code",
      "metadata": {
        "id": "9tfoycrngnSJ",
        "colab": {
          "base_uri": "https://localhost:8080/"
        },
        "outputId": "a1788cfd-246b-45fc-8508-a45ad9ff7c6d"
      },
      "source": [
        "# Mount Google Drive\n",
        "from google.colab import drive\n",
        "drive.mount('/content/gdrive')"
      ],
      "execution_count": 5,
      "outputs": [
        {
          "output_type": "stream",
          "name": "stdout",
          "text": [
            "Mounted at /content/gdrive\n"
          ]
        }
      ]
    },
    {
      "cell_type": "markdown",
      "metadata": {
        "id": "hkJSOev3XOPn"
      },
      "source": [
        "\n",
        "\n",
        "---\n",
        "\n",
        "# Exercises\n"
      ]
    },
    {
      "cell_type": "code",
      "source": [
        "# General importations (unorganised and not all used... sorry)\n",
        "from operator import add\n",
        "from pyspark.sql import functions as f\n",
        "from pyspark.sql.types import StringType,BooleanType,DateType\n",
        "from pyspark.sql.functions import *\n",
        "import matplotlib.pyplot as plt\n",
        "import io\n",
        "import numpy as np\n",
        "from time import time\n",
        "from random import random\n",
        "import tarfile\n",
        "from io import BytesIO\n",
        "import bz2\n",
        "from pyspark.sql.window import Window\n",
        "import pyspark.sql.functions as f"
      ],
      "metadata": {
        "id": "I9COy6LXUJKA"
      },
      "execution_count": 6,
      "outputs": []
    },
    {
      "cell_type": "markdown",
      "metadata": {
        "id": "T3ULPx4Y1LiR"
      },
      "source": [
        "## Exercise 3.1: Word count\n",
        "\n",
        "Count the number of words *per line* in the $DRIVE_DATA/quijote.txt file. \n",
        "\n",
        "Repeat the exercise but this time counting the number of words *in the whole file*."
      ]
    },
    {
      "cell_type": "code",
      "source": [
        "dfQuijote = spark.read.text(os.environ[\"DRIVE_DATA\"] + \"/quijote.txt\")\n",
        "dfQuijote.show(truncate=False)"
      ],
      "metadata": {
        "id": "f5kVUY0Uy4c7",
        "colab": {
          "base_uri": "https://localhost:8080/"
        },
        "outputId": "3883697e-e3bd-4f60-927a-6524a20f4934"
      },
      "execution_count": 7,
      "outputs": [
        {
          "output_type": "stream",
          "name": "stdout",
          "text": [
            "+---------------------------------------------------------------------------+\n",
            "|value                                                                      |\n",
            "+---------------------------------------------------------------------------+\n",
            "|The Project Gutenberg EBook of Don Quijote, by Miguel de Cervantes Saavedra|\n",
            "|                                                                           |\n",
            "|This eBook is for the use of anyone anywhere at no cost and with           |\n",
            "|almost no restrictions whatsoever.  You may copy it, give it away or       |\n",
            "|re-use it under the terms of the Project Gutenberg License included        |\n",
            "|with this eBook or online at www.gutenberg.net                             |\n",
            "|                                                                           |\n",
            "|                                                                           |\n",
            "|Title: Don Quijote                                                         |\n",
            "|                                                                           |\n",
            "|Author: Miguel de Cervantes Saavedra                                       |\n",
            "|                                                                           |\n",
            "|Posting Date: April 27, 2010 [EBook #2000]                                 |\n",
            "|Release Date: December, 1999                                               |\n",
            "|                                                                           |\n",
            "|Language: Spanish                                                          |\n",
            "|                                                                           |\n",
            "|                                                                           |\n",
            "|*** START OF THIS PROJECT GUTENBERG EBOOK DON QUIJOTE ***                  |\n",
            "|                                                                           |\n",
            "+---------------------------------------------------------------------------+\n",
            "only showing top 20 rows\n",
            "\n"
          ]
        }
      ]
    },
    {
      "cell_type": "code",
      "source": [
        "# Method 1 : Number of words per line\n",
        "def count_words_per_row(col_name):\n",
        "  return f.size(f.split(f.col(col_name), ' '))"
      ],
      "metadata": {
        "id": "mB4P9nLay7aD"
      },
      "execution_count": 8,
      "outputs": []
    },
    {
      "cell_type": "code",
      "source": [
        "# Adding a new column containing the count of words\n",
        "dfQuijote=dfQuijote.withColumn('words_count_per_row',count_words_per_row('value'))"
      ],
      "metadata": {
        "id": "EPqQxyPdAwoC"
      },
      "execution_count": 9,
      "outputs": []
    },
    {
      "cell_type": "code",
      "source": [
        "# Removing empty rows\n",
        "dfQuijote=dfQuijote.filter(dfQuijote.words_count_per_row!=1) "
      ],
      "metadata": {
        "id": "IyHz2F-uQavU"
      },
      "execution_count": 10,
      "outputs": []
    },
    {
      "cell_type": "code",
      "source": [
        "dfQuijote.show(truncate=False)"
      ],
      "metadata": {
        "id": "0o44xRo0O4Av",
        "colab": {
          "base_uri": "https://localhost:8080/"
        },
        "outputId": "2befb484-3fce-43fc-b9a1-c561f27c4a6d"
      },
      "execution_count": 11,
      "outputs": [
        {
          "output_type": "stream",
          "name": "stdout",
          "text": [
            "+---------------------------------------------------------------------------+-------------------+\n",
            "|value                                                                      |words_count_per_row|\n",
            "+---------------------------------------------------------------------------+-------------------+\n",
            "|The Project Gutenberg EBook of Don Quijote, by Miguel de Cervantes Saavedra|12                 |\n",
            "|This eBook is for the use of anyone anywhere at no cost and with           |14                 |\n",
            "|almost no restrictions whatsoever.  You may copy it, give it away or       |13                 |\n",
            "|re-use it under the terms of the Project Gutenberg License included        |11                 |\n",
            "|with this eBook or online at www.gutenberg.net                             |7                  |\n",
            "|Title: Don Quijote                                                         |3                  |\n",
            "|Author: Miguel de Cervantes Saavedra                                       |5                  |\n",
            "|Posting Date: April 27, 2010 [EBook #2000]                                 |7                  |\n",
            "|Release Date: December, 1999                                               |4                  |\n",
            "|Language: Spanish                                                          |2                  |\n",
            "|*** START OF THIS PROJECT GUTENBERG EBOOK DON QUIJOTE ***                  |10                 |\n",
            "|Produced by an anonymous Project Gutenberg volunteer. Text                 |8                  |\n",
            "|file corrections and new HTML file by Joaquin Cuenca Abela.                |10                 |\n",
            "|El ingenioso hidalgo don Quijote de la Mancha                              |8                  |\n",
            "|Yo, Juan Gallo de Andrada, escribano de Cámara del Rey nuestro señor, de   |13                 |\n",
            "|los que residen en su Consejo, certifico y doy fe que, habiendo visto por  |14                 |\n",
            "|los señores dél un libro intitulado El ingenioso hidalgo de la Mancha,     |12                 |\n",
            "|compuesto por Miguel de Cervantes Saavedra, tasaron cada pliego del dicho  |11                 |\n",
            "|libro a tres maravedís y medio; el cual tiene ochenta y tres pliegos, que  |14                 |\n",
            "|al dicho precio monta el dicho libro docientos y noventa maravedís y medio,|13                 |\n",
            "+---------------------------------------------------------------------------+-------------------+\n",
            "only showing top 20 rows\n",
            "\n"
          ]
        }
      ]
    },
    {
      "cell_type": "code",
      "source": [
        "# Method 2 : Total number of words\n",
        "dfQuijote.groupby().sum('words_count_per_row').collect()"
      ],
      "metadata": {
        "id": "v-cMH0EzGjYP",
        "colab": {
          "base_uri": "https://localhost:8080/"
        },
        "outputId": "edfab954-5561-42ed-dc94-d25a856ebe29"
      },
      "execution_count": 12,
      "outputs": [
        {
          "output_type": "execute_result",
          "data": {
            "text/plain": [
              "[Row(sum(words_count_per_row)=387237)]"
            ]
          },
          "metadata": {},
          "execution_count": 12
        }
      ]
    },
    {
      "cell_type": "markdown",
      "metadata": {
        "id": "7ppnan-_ELFI"
      },
      "source": [
        "## Exercise 4.1: Pi Estimation\n",
        "\n",
        "Using the Monte Carlo method, estimate the value of Pi. Use the random() method from the random class."
      ]
    },
    {
      "cell_type": "code",
      "source": [
        "def is_in_circle(i) :\n",
        "  x,y = random(), random()\n",
        "  return 1 if (x**2 + y**2 <= 1) else 0"
      ],
      "metadata": {
        "id": "hQZ2tkLFI6mZ"
      },
      "execution_count": 13,
      "outputs": []
    },
    {
      "cell_type": "code",
      "source": [
        "inside = 0\n",
        "n = 10000000\n",
        "\n",
        "count = sc.parallelize(range(0, n)).map(is_in_circle).sum()\n",
        "\n",
        "print(\"The approached value of pi is : \", count/n*4)"
      ],
      "metadata": {
        "id": "ntpzNornN93y",
        "colab": {
          "base_uri": "https://localhost:8080/"
        },
        "outputId": "733a9b4a-1271-4244-8096-bcb681ed10a6"
      },
      "execution_count": 14,
      "outputs": [
        {
          "output_type": "stream",
          "name": "stdout",
          "text": [
            "The approached value of pi is :  3.1428104\n"
          ]
        }
      ]
    },
    {
      "cell_type": "markdown",
      "metadata": {
        "id": "2vPYCnS8ERmg"
      },
      "source": [
        "## Exercise 4.2: Inspect a log file\n",
        "\n",
        "Upload the file /var/log/syslog from your computer to this notebook. Then, select only the \"bad lines\": WARNING and ERROR messages."
      ]
    },
    {
      "cell_type": "code",
      "source": [
        "syslog = spark.read.text(os.environ[\"DRIVE_DATA\"] + \"/syslog\")\n",
        "syslog = syslog.filter(col(\"value\").like('%ERROR%') | col(\"value\").like('%WARNING%'))\n",
        "syslog.show(truncate=False)"
      ],
      "metadata": {
        "colab": {
          "base_uri": "https://localhost:8080/"
        },
        "id": "LpfvXfJVQl2T",
        "outputId": "29962831-615a-46b0-a823-c0e416a3db1f"
      },
      "execution_count": 15,
      "outputs": [
        {
          "output_type": "stream",
          "name": "stdout",
          "text": [
            "+---------------------------------------------------------------------------------------------------------------------------------------------------------------------------------------------------------------------------------------------------------------------------------------------------------------------------------------------------------------------------------------------------------------------------------------------------------------------------------------------------------------------------------------------------------------------------------------------------------------------------------------------------------------------------------------------------------------------------------------------------------------------------------------------------------------------------------------------------------------------------------------------------------------------------------------------------------------------------------------------------------------------------------------------------------------------------------------------------------------------------------------------------------------------------------------------------------------------------------------------------------------------------------------------------------------------------------------------------------------------------------------------------------------------------------------------------------------------------------------------------------------------------------------------------------------------------------------------------------------------------------------------+\n",
            "|value                                                                                                                                                                                                                                                                                                                                                                                                                                                                                                                                                                                                                                                                                                                                                                                                                                                                                                                                                                                                                                                                                                                                                                                                                                                                                                                                                                                                                                                                                                                                                                                                                                        |\n",
            "+---------------------------------------------------------------------------------------------------------------------------------------------------------------------------------------------------------------------------------------------------------------------------------------------------------------------------------------------------------------------------------------------------------------------------------------------------------------------------------------------------------------------------------------------------------------------------------------------------------------------------------------------------------------------------------------------------------------------------------------------------------------------------------------------------------------------------------------------------------------------------------------------------------------------------------------------------------------------------------------------------------------------------------------------------------------------------------------------------------------------------------------------------------------------------------------------------------------------------------------------------------------------------------------------------------------------------------------------------------------------------------------------------------------------------------------------------------------------------------------------------------------------------------------------------------------------------------------------------------------------------------------------+\n",
            "|Jan 20 00:00:28 Haytam-laptop chrome-aghbiahbpaijignceidepookljebhfak-Default.desktop[5723]: [5766:5766:0120/000028.442236:ERROR:gl_surface_presentation_helper.cc(260)] GetVSyncParametersIfAvailable() failed for 1 times!                                                                                                                                                                                                                                                                                                                                                                                                                                                                                                                                                                                                                                                                                                                                                                                                                                                                                                                                                                                                                                                                                                                                                                                                                                                                                                                                                                                                                 |\n",
            "|Jan 20 00:00:29 Haytam-laptop chrome-aghbiahbpaijignceidepookljebhfak-Default.desktop[5723]: [5718:5745:0120/000029.813749:ERROR:connection_factory_impl.cc(427)] Failed to connect to MCS endpoint with error -105                                                                                                                                                                                                                                                                                                                                                                                                                                                                                                                                                                                                                                                                                                                                                                                                                                                                                                                                                                                                                                                                                                                                                                                                                                                                                                                                                                                                                          |\n",
            "|Jan 20 06:54:40 Haytam-laptop ovpn-cytech.students[1698]: ERROR: Linux route delete command failed: external program exited with error status: 2                                                                                                                                                                                                                                                                                                                                                                                                                                                                                                                                                                                                                                                                                                                                                                                                                                                                                                                                                                                                                                                                                                                                                                                                                                                                                                                                                                                                                                                                                             |\n",
            "|Jan 20 06:54:40 Haytam-laptop ovpn-cytech.students[1698]: ERROR: Linux route delete command failed: external program exited with error status: 2                                                                                                                                                                                                                                                                                                                                                                                                                                                                                                                                                                                                                                                                                                                                                                                                                                                                                                                                                                                                                                                                                                                                                                                                                                                                                                                                                                                                                                                                                             |\n",
            "|Jan 20 06:54:40 Haytam-laptop ovpn-cytech.students[1698]: ERROR: Linux route delete command failed: external program exited with error status: 2                                                                                                                                                                                                                                                                                                                                                                                                                                                                                                                                                                                                                                                                                                                                                                                                                                                                                                                                                                                                                                                                                                                                                                                                                                                                                                                                                                                                                                                                                             |\n",
            "|Jan 20 06:54:40 Haytam-laptop ovpn-cytech.students[1698]: ERROR: Linux route delete command failed: external program exited with error status: 2                                                                                                                                                                                                                                                                                                                                                                                                                                                                                                                                                                                                                                                                                                                                                                                                                                                                                                                                                                                                                                                                                                                                                                                                                                                                                                                                                                                                                                                                                             |\n",
            "|Jan 20 06:54:40 Haytam-laptop gnome-shell[3057]: JS ERROR: TypeError: this.actor is null#012vfunc_set_actor/this._monitorsChangedId<@resource:///org/gnome/shell/ui/layout.js:103:25#012_monitorsChanged@resource:///org/gnome/shell/ui/layout.js:559:14                                                                                                                                                                                                                                                                                                                                                                                                                                                                                                                                                                                                                                                                                                                                                                                                                                                                                                                                                                                                                                                                                                                                                                                                                                                                                                                                                                                     |\n",
            "|Jan 20 06:54:40 Haytam-laptop ovpn-cytech.students[1698]: ERROR: Linux route delete command failed: external program exited with error status: 2                                                                                                                                                                                                                                                                                                                                                                                                                                                                                                                                                                                                                                                                                                                                                                                                                                                                                                                                                                                                                                                                                                                                                                                                                                                                                                                                                                                                                                                                                             |\n",
            "|Jan 20 06:54:41 Haytam-laptop chrome-aghbiahbpaijignceidepookljebhfak-Default.desktop[5723]: [5718:5745:0120/065441.668701:ERROR:connection_factory_impl.cc(427)] Failed to connect to MCS endpoint with error -106                                                                                                                                                                                                                                                                                                                                                                                                                                                                                                                                                                                                                                                                                                                                                                                                                                                                                                                                                                                                                                                                                                                                                                                                                                                                                                                                                                                                                          |\n",
            "|Jan 20 06:54:46 Haytam-laptop gnome-shell[3057]: JS ERROR: Exception in callback for signal: updated: Error: Tried to construct an object without a GType; are you using GObject.registerClass() when inheriting from a GObject type?#012BlurredLightbox@/usr/share/gnome-shell/extensions/pomodoro@arun.codito.in/dialogs.js:166:9#012ModalDialog@/usr/share/gnome-shell/extensions/pomodoro@arun.codito.in/dialogs.js:302:26#012PomodoroEndDialog@/usr/share/gnome-shell/extensions/pomodoro@arun.codito.in/dialogs.js:583:9#012_enableScreenNotification@/usr/share/gnome-shell/extensions/pomodoro@arun.codito.in/extension.js:439:27#012setMode@/usr/share/gnome-shell/extensions/pomodoro@arun.codito.in/extension.js:127:26#012enable/sessionModeUpdatedId<@/usr/share/gnome-shell/extensions/pomodoro@arun.codito.in/extension.js:582:27#012_emit@resource:///org/gnome/gjs/modules/core/_signals.js:133:47#012_sync@resource:///org/gnome/shell/ui/sessionMode.js:198:14#012popMode@resource:///org/gnome/shell/ui/sessionMode.js:166:14#012_continueDeactivate@resource:///org/gnome/shell/ui/screenShield.js:535:30#012deactivate/<@resource:///org/gnome/shell/ui/screenShield.js:526:44#012finish@resource:///org/gnome/shell/gdm/authPrompt.js:554:13#012finish@resource:///org/gnome/shell/ui/unlockDialog.js:871:26#012deactivate@resource:///org/gnome/shell/ui/screenShield.js:526:26#012ScreenShield/</<@resource:///org/gnome/shell/ui/screenShield.js:116:57#012_emit@resource:///org/gnome/gjs/modules/core/_signals.js:133:47#012_convertToNativeSignal@resource:///org/gnome/gjs/modules/core/overrides/Gio.js:169:19|\n",
            "|Jan 20 06:55:16 Haytam-laptop ovpn-cytech.students[1698]: WARNING: 'cipher' is present in local config but missing in remote config, local='cipher BF-CBC'                                                                                                                                                                                                                                                                                                                                                                                                                                                                                                                                                                                                                                                                                                                                                                                                                                                                                                                                                                                                                                                                                                                                                                                                                                                                                                                                                                                                                                                                                   |\n",
            "|Jan 20 07:51:13 Haytam-laptop ovpn-cytech.students[1698]: WARNING: 'cipher' is present in local config but missing in remote config, local='cipher BF-CBC'                                                                                                                                                                                                                                                                                                                                                                                                                                                                                                                                                                                                                                                                                                                                                                                                                                                                                                                                                                                                                                                                                                                                                                                                                                                                                                                                                                                                                                                                                   |\n",
            "|Jan 20 07:56:28 Haytam-laptop chrome-aghbiahbpaijignceidepookljebhfak-Default.desktop[5723]: [5766:5766:0120/075628.426103:ERROR:shared_image_manager.cc(202)] SharedImageManager::ProduceSkia: Trying to Produce a Skia representation from a non-existent mailbox.                                                                                                                                                                                                                                                                                                                                                                                                                                                                                                                                                                                                                                                                                                                                                                                                                                                                                                                                                                                                                                                                                                                                                                                                                                                                                                                                                                         |\n",
            "|Jan 20 07:56:28 Haytam-laptop chrome-aghbiahbpaijignceidepookljebhfak-Default.desktop[5723]: [5766:5766:0120/075628.427878:ERROR:shared_image_manager.cc(202)] SharedImageManager::ProduceSkia: Trying to Produce a Skia representation from a non-existent mailbox.                                                                                                                                                                                                                                                                                                                                                                                                                                                                                                                                                                                                                                                                                                                                                                                                                                                                                                                                                                                                                                                                                                                                                                                                                                                                                                                                                                         |\n",
            "|Jan 20 07:56:28 Haytam-laptop chrome-aghbiahbpaijignceidepookljebhfak-Default.desktop[5723]: [5766:5766:0120/075628.428549:ERROR:shared_image_manager.cc(202)] SharedImageManager::ProduceSkia: Trying to Produce a Skia representation from a non-existent mailbox.                                                                                                                                                                                                                                                                                                                                                                                                                                                                                                                                                                                                                                                                                                                                                                                                                                                                                                                                                                                                                                                                                                                                                                                                                                                                                                                                                                         |\n",
            "|Jan 20 07:56:28 Haytam-laptop chrome-aghbiahbpaijignceidepookljebhfak-Default.desktop[5723]: [5766:5766:0120/075628.429346:ERROR:shared_image_manager.cc(202)] SharedImageManager::ProduceSkia: Trying to Produce a Skia representation from a non-existent mailbox.                                                                                                                                                                                                                                                                                                                                                                                                                                                                                                                                                                                                                                                                                                                                                                                                                                                                                                                                                                                                                                                                                                                                                                                                                                                                                                                                                                         |\n",
            "|Jan 20 07:59:06 Haytam-laptop /usr/lib/gdm3/gdm-x-session[2913]: (EE) event10 - DELL09A1:00 0488:121F Touchpad: WARNING: log rate limit exceeded (5 msgs per 7200000ms). Discarding future messages.                                                                                                                                                                                                                                                                                                                                                                                                                                                                                                                                                                                                                                                                                                                                                                                                                                                                                                                                                                                                                                                                                                                                                                                                                                                                                                                                                                                                                                         |\n",
            "|Jan 20 07:59:06 Haytam-laptop libinput-gestures.desktop[3793]: libinput error: event10 - DELL09A1:00 0488:121F Touchpad: WARNING: log rate limit exceeded (5 msgs per 7200000ms). Discarding future messages.                                                                                                                                                                                                                                                                                                                                                                                                                                                                                                                                                                                                                                                                                                                                                                                                                                                                                                                                                                                                                                                                                                                                                                                                                                                                                                                                                                                                                                |\n",
            "|Jan 20 08:08:45 Haytam-laptop chrome-aghbiahbpaijignceidepookljebhfak-Default.desktop[5723]: [5766:5766:0120/080845.554291:ERROR:shared_image_manager.cc(202)] SharedImageManager::ProduceSkia: Trying to Produce a Skia representation from a non-existent mailbox.                                                                                                                                                                                                                                                                                                                                                                                                                                                                                                                                                                                                                                                                                                                                                                                                                                                                                                                                                                                                                                                                                                                                                                                                                                                                                                                                                                         |\n",
            "|Jan 20 08:08:45 Haytam-laptop chrome-aghbiahbpaijignceidepookljebhfak-Default.desktop[5723]: [5766:5766:0120/080845.554542:ERROR:shared_image_manager.cc(202)] SharedImageManager::ProduceSkia: Trying to Produce a Skia representation from a non-existent mailbox.                                                                                                                                                                                                                                                                                                                                                                                                                                                                                                                                                                                                                                                                                                                                                                                                                                                                                                                                                                                                                                                                                                                                                                                                                                                                                                                                                                         |\n",
            "+---------------------------------------------------------------------------------------------------------------------------------------------------------------------------------------------------------------------------------------------------------------------------------------------------------------------------------------------------------------------------------------------------------------------------------------------------------------------------------------------------------------------------------------------------------------------------------------------------------------------------------------------------------------------------------------------------------------------------------------------------------------------------------------------------------------------------------------------------------------------------------------------------------------------------------------------------------------------------------------------------------------------------------------------------------------------------------------------------------------------------------------------------------------------------------------------------------------------------------------------------------------------------------------------------------------------------------------------------------------------------------------------------------------------------------------------------------------------------------------------------------------------------------------------------------------------------------------------------------------------------------------------+\n",
            "only showing top 20 rows\n",
            "\n"
          ]
        }
      ]
    },
    {
      "cell_type": "markdown",
      "metadata": {
        "id": "6O3IAwByxTpJ"
      },
      "source": [
        "\n",
        "\n",
        "---\n",
        "\n",
        "## Exercises 5"
      ]
    },
    {
      "cell_type": "markdown",
      "metadata": {
        "id": "mJ708zvl627q"
      },
      "source": [
        "### Exercise 5.1: Word count\n",
        "\n",
        "**Using RDDs**, count the number of lines in the `$DRIVE_DATA/quijote.txt` file. Then, count the number of words in the file. Finally, count the number of *different* words in the file.\n"
      ]
    },
    {
      "cell_type": "code",
      "metadata": {
        "id": "Slr4nXhp_knl",
        "colab": {
          "base_uri": "https://localhost:8080/"
        },
        "outputId": "e6385769-6520-449c-98bb-35acc0f13951"
      },
      "source": [
        "rddQuijote = sc.textFile(os.environ[\"DRIVE_DATA\"] + \"/quijote.txt\")\n",
        "rddQuijote.take(5)"
      ],
      "execution_count": 16,
      "outputs": [
        {
          "output_type": "execute_result",
          "data": {
            "text/plain": [
              "['The Project Gutenberg EBook of Don Quijote, by Miguel de Cervantes Saavedra',\n",
              " '',\n",
              " 'This eBook is for the use of anyone anywhere at no cost and with',\n",
              " 'almost no restrictions whatsoever.  You may copy it, give it away or',\n",
              " 're-use it under the terms of the Project Gutenberg License included']"
            ]
          },
          "metadata": {},
          "execution_count": 16
        }
      ]
    },
    {
      "cell_type": "code",
      "source": [
        "# Method 1 : Number of words per line\n",
        "def count_words_per_row(row):\n",
        "  return len(row.split(' '))"
      ],
      "metadata": {
        "id": "Y30YIFSI3Pwm"
      },
      "execution_count": 17,
      "outputs": []
    },
    {
      "cell_type": "code",
      "source": [
        "words_count_per_row=rddQuijote.map(count_words_per_row)"
      ],
      "metadata": {
        "id": "6afgsXAIAz3N"
      },
      "execution_count": 18,
      "outputs": []
    },
    {
      "cell_type": "code",
      "source": [
        "words_count_per_row.take(5)\n"
      ],
      "metadata": {
        "colab": {
          "base_uri": "https://localhost:8080/"
        },
        "id": "mwHwzB258fwI",
        "outputId": "37ad4f73-ce50-484a-924e-44e783181b9d"
      },
      "execution_count": 19,
      "outputs": [
        {
          "output_type": "execute_result",
          "data": {
            "text/plain": [
              "[12, 1, 14, 13, 11]"
            ]
          },
          "metadata": {},
          "execution_count": 19
        }
      ]
    },
    {
      "cell_type": "code",
      "source": [
        "# Method 2 : Total number of words\n",
        "filtered_words_count_per_row=words_count_per_row.filter(lambda x: x!=1) # delete the ones of the empty lines"
      ],
      "metadata": {
        "id": "S9m2fA7-N-MV"
      },
      "execution_count": 20,
      "outputs": []
    },
    {
      "cell_type": "code",
      "source": [
        "filtered_words_count_per_row.take(5)"
      ],
      "metadata": {
        "colab": {
          "base_uri": "https://localhost:8080/"
        },
        "id": "1NJO3mPGO6Gv",
        "outputId": "36bcc06c-736f-43bc-e5f6-d4d930fb0e32"
      },
      "execution_count": 21,
      "outputs": [
        {
          "output_type": "execute_result",
          "data": {
            "text/plain": [
              "[12, 14, 13, 11, 7]"
            ]
          },
          "metadata": {},
          "execution_count": 21
        }
      ]
    },
    {
      "cell_type": "code",
      "source": [
        "words_total_count = filtered_words_count_per_row.sum()"
      ],
      "metadata": {
        "id": "eXE7dmK9H2sn"
      },
      "execution_count": 22,
      "outputs": []
    },
    {
      "cell_type": "code",
      "source": [
        "print(words_total_count)"
      ],
      "metadata": {
        "colab": {
          "base_uri": "https://localhost:8080/"
        },
        "id": "GYhqeYjX-EOH",
        "outputId": "7f977e02-ea0c-4722-bb93-463c3bb3badb"
      },
      "execution_count": 23,
      "outputs": [
        {
          "output_type": "stream",
          "name": "stdout",
          "text": [
            "387237\n"
          ]
        }
      ]
    },
    {
      "cell_type": "markdown",
      "metadata": {
        "id": "jjtVkYOKxTo7"
      },
      "source": [
        "### Exercise 5.2: Count people by age\n",
        "\n",
        "Using RDDs, create a barplot showing of number of people (y-axis) per age (x-axis) using the information in the $DRIVE_DATA/people.txt file\n",
        "\n"
      ]
    },
    {
      "cell_type": "code",
      "metadata": {
        "id": "-JgE0XavBBLB",
        "colab": {
          "base_uri": "https://localhost:8080/"
        },
        "outputId": "1c5efc44-775c-47b1-88c5-817cd5dac1a1"
      },
      "source": [
        "rdd_people = sc.textFile(os.environ[\"DRIVE_DATA\"] + \"people.txt\")\n",
        "rdd_people.take(5)"
      ],
      "execution_count": 24,
      "outputs": [
        {
          "output_type": "execute_result",
          "data": {
            "text/plain": [
              "['Celia\\t17', 'Juan\\t53', 'Manuela\\t39', 'Ana\\t17', 'Paco\\t53']"
            ]
          },
          "metadata": {},
          "execution_count": 24
        }
      ]
    },
    {
      "cell_type": "code",
      "source": [
        "rddPeopleSplitted=rdd_people.map(lambda row: row.split('\\t'))"
      ],
      "metadata": {
        "id": "hfYJeeFkRdss"
      },
      "execution_count": 25,
      "outputs": []
    },
    {
      "cell_type": "code",
      "source": [
        "rddPeopleSplitted.take(5)"
      ],
      "metadata": {
        "colab": {
          "base_uri": "https://localhost:8080/"
        },
        "id": "-IlS8gQ0RdvF",
        "outputId": "36c35763-90e0-47e0-850f-b66d8a84fb38"
      },
      "execution_count": 26,
      "outputs": [
        {
          "output_type": "execute_result",
          "data": {
            "text/plain": [
              "[['Celia', '17'],\n",
              " ['Juan', '53'],\n",
              " ['Manuela', '39'],\n",
              " ['Ana', '17'],\n",
              " ['Paco', '53']]"
            ]
          },
          "metadata": {},
          "execution_count": 26
        }
      ]
    },
    {
      "cell_type": "code",
      "source": [
        "# group rdd elements by value, and sum the number of keys for each value\n",
        "rddPeopleSplittedReversed=rddPeopleSplitted.map(lambda x: (x[1], 1))\n",
        "rddPeopleSplittedReversed.take(5)"
      ],
      "metadata": {
        "colab": {
          "base_uri": "https://localhost:8080/"
        },
        "id": "ay4CylB3Rxxj",
        "outputId": "2a29c884-23d3-4038-f8b2-919ee5ccf65f"
      },
      "execution_count": 27,
      "outputs": [
        {
          "output_type": "execute_result",
          "data": {
            "text/plain": [
              "[('17', 1), ('53', 1), ('39', 1), ('17', 1), ('53', 1)]"
            ]
          },
          "metadata": {},
          "execution_count": 27
        }
      ]
    },
    {
      "cell_type": "code",
      "source": [
        "rddPeopleSplittedReversedReduced = rddPeopleSplittedReversed.reduceByKey(lambda a,b: a+b)"
      ],
      "metadata": {
        "id": "tj_xmoJoSjAu"
      },
      "execution_count": 28,
      "outputs": []
    },
    {
      "cell_type": "code",
      "source": [
        "rddPeopleSplittedReversedReduced.take(5)"
      ],
      "metadata": {
        "colab": {
          "base_uri": "https://localhost:8080/"
        },
        "id": "dXbdxVsgS33m",
        "outputId": "4544a410-9ad3-48d6-d576-e07c513d6bf2"
      },
      "execution_count": 29,
      "outputs": [
        {
          "output_type": "execute_result",
          "data": {
            "text/plain": [
              "[('17', 2), ('53', 2), ('40', 2), ('50', 1), ('39', 2)]"
            ]
          },
          "metadata": {},
          "execution_count": 29
        }
      ]
    },
    {
      "cell_type": "code",
      "source": [
        "dfPeople = rddPeopleSplittedReversedReduced.toDF().toPandas().rename(columns= {'_1': 'Age', '_2': 'Number of people'})"
      ],
      "metadata": {
        "id": "awfVMRftV4AV"
      },
      "execution_count": 30,
      "outputs": []
    },
    {
      "cell_type": "code",
      "source": [
        "dfPeople"
      ],
      "metadata": {
        "colab": {
          "base_uri": "https://localhost:8080/",
          "height": 206
        },
        "id": "ZSjMzQltX38J",
        "outputId": "cf18c13a-f231-4b64-e347-2b902e34bb82"
      },
      "execution_count": 31,
      "outputs": [
        {
          "output_type": "execute_result",
          "data": {
            "text/plain": [
              "  Age  Number of people\n",
              "0  17                 2\n",
              "1  53                 2\n",
              "2  40                 2\n",
              "3  50                 1\n",
              "4  39                 2"
            ],
            "text/html": [
              "\n",
              "  <div id=\"df-8662394f-6bc6-402a-bf9f-ffbac13ed365\">\n",
              "    <div class=\"colab-df-container\">\n",
              "      <div>\n",
              "<style scoped>\n",
              "    .dataframe tbody tr th:only-of-type {\n",
              "        vertical-align: middle;\n",
              "    }\n",
              "\n",
              "    .dataframe tbody tr th {\n",
              "        vertical-align: top;\n",
              "    }\n",
              "\n",
              "    .dataframe thead th {\n",
              "        text-align: right;\n",
              "    }\n",
              "</style>\n",
              "<table border=\"1\" class=\"dataframe\">\n",
              "  <thead>\n",
              "    <tr style=\"text-align: right;\">\n",
              "      <th></th>\n",
              "      <th>Age</th>\n",
              "      <th>Number of people</th>\n",
              "    </tr>\n",
              "  </thead>\n",
              "  <tbody>\n",
              "    <tr>\n",
              "      <th>0</th>\n",
              "      <td>17</td>\n",
              "      <td>2</td>\n",
              "    </tr>\n",
              "    <tr>\n",
              "      <th>1</th>\n",
              "      <td>53</td>\n",
              "      <td>2</td>\n",
              "    </tr>\n",
              "    <tr>\n",
              "      <th>2</th>\n",
              "      <td>40</td>\n",
              "      <td>2</td>\n",
              "    </tr>\n",
              "    <tr>\n",
              "      <th>3</th>\n",
              "      <td>50</td>\n",
              "      <td>1</td>\n",
              "    </tr>\n",
              "    <tr>\n",
              "      <th>4</th>\n",
              "      <td>39</td>\n",
              "      <td>2</td>\n",
              "    </tr>\n",
              "  </tbody>\n",
              "</table>\n",
              "</div>\n",
              "      <button class=\"colab-df-convert\" onclick=\"convertToInteractive('df-8662394f-6bc6-402a-bf9f-ffbac13ed365')\"\n",
              "              title=\"Convert this dataframe to an interactive table.\"\n",
              "              style=\"display:none;\">\n",
              "        \n",
              "  <svg xmlns=\"http://www.w3.org/2000/svg\" height=\"24px\"viewBox=\"0 0 24 24\"\n",
              "       width=\"24px\">\n",
              "    <path d=\"M0 0h24v24H0V0z\" fill=\"none\"/>\n",
              "    <path d=\"M18.56 5.44l.94 2.06.94-2.06 2.06-.94-2.06-.94-.94-2.06-.94 2.06-2.06.94zm-11 1L8.5 8.5l.94-2.06 2.06-.94-2.06-.94L8.5 2.5l-.94 2.06-2.06.94zm10 10l.94 2.06.94-2.06 2.06-.94-2.06-.94-.94-2.06-.94 2.06-2.06.94z\"/><path d=\"M17.41 7.96l-1.37-1.37c-.4-.4-.92-.59-1.43-.59-.52 0-1.04.2-1.43.59L10.3 9.45l-7.72 7.72c-.78.78-.78 2.05 0 2.83L4 21.41c.39.39.9.59 1.41.59.51 0 1.02-.2 1.41-.59l7.78-7.78 2.81-2.81c.8-.78.8-2.07 0-2.86zM5.41 20L4 18.59l7.72-7.72 1.47 1.35L5.41 20z\"/>\n",
              "  </svg>\n",
              "      </button>\n",
              "      \n",
              "  <style>\n",
              "    .colab-df-container {\n",
              "      display:flex;\n",
              "      flex-wrap:wrap;\n",
              "      gap: 12px;\n",
              "    }\n",
              "\n",
              "    .colab-df-convert {\n",
              "      background-color: #E8F0FE;\n",
              "      border: none;\n",
              "      border-radius: 50%;\n",
              "      cursor: pointer;\n",
              "      display: none;\n",
              "      fill: #1967D2;\n",
              "      height: 32px;\n",
              "      padding: 0 0 0 0;\n",
              "      width: 32px;\n",
              "    }\n",
              "\n",
              "    .colab-df-convert:hover {\n",
              "      background-color: #E2EBFA;\n",
              "      box-shadow: 0px 1px 2px rgba(60, 64, 67, 0.3), 0px 1px 3px 1px rgba(60, 64, 67, 0.15);\n",
              "      fill: #174EA6;\n",
              "    }\n",
              "\n",
              "    [theme=dark] .colab-df-convert {\n",
              "      background-color: #3B4455;\n",
              "      fill: #D2E3FC;\n",
              "    }\n",
              "\n",
              "    [theme=dark] .colab-df-convert:hover {\n",
              "      background-color: #434B5C;\n",
              "      box-shadow: 0px 1px 3px 1px rgba(0, 0, 0, 0.15);\n",
              "      filter: drop-shadow(0px 1px 2px rgba(0, 0, 0, 0.3));\n",
              "      fill: #FFFFFF;\n",
              "    }\n",
              "  </style>\n",
              "\n",
              "      <script>\n",
              "        const buttonEl =\n",
              "          document.querySelector('#df-8662394f-6bc6-402a-bf9f-ffbac13ed365 button.colab-df-convert');\n",
              "        buttonEl.style.display =\n",
              "          google.colab.kernel.accessAllowed ? 'block' : 'none';\n",
              "\n",
              "        async function convertToInteractive(key) {\n",
              "          const element = document.querySelector('#df-8662394f-6bc6-402a-bf9f-ffbac13ed365');\n",
              "          const dataTable =\n",
              "            await google.colab.kernel.invokeFunction('convertToInteractive',\n",
              "                                                     [key], {});\n",
              "          if (!dataTable) return;\n",
              "\n",
              "          const docLinkHtml = 'Like what you see? Visit the ' +\n",
              "            '<a target=\"_blank\" href=https://colab.research.google.com/notebooks/data_table.ipynb>data table notebook</a>'\n",
              "            + ' to learn more about interactive tables.';\n",
              "          element.innerHTML = '';\n",
              "          dataTable['output_type'] = 'display_data';\n",
              "          await google.colab.output.renderOutput(dataTable, element);\n",
              "          const docLink = document.createElement('div');\n",
              "          docLink.innerHTML = docLinkHtml;\n",
              "          element.appendChild(docLink);\n",
              "        }\n",
              "      </script>\n",
              "    </div>\n",
              "  </div>\n",
              "  "
            ]
          },
          "metadata": {},
          "execution_count": 31
        }
      ]
    },
    {
      "cell_type": "code",
      "source": [
        "dfPeople.plot.bar(x='Age', y='Number of people') "
      ],
      "metadata": {
        "colab": {
          "base_uri": "https://localhost:8080/",
          "height": 299
        },
        "id": "z0IKIefOX7nP",
        "outputId": "bb01ea4b-2e49-424e-8609-7c61675790bf"
      },
      "execution_count": 32,
      "outputs": [
        {
          "output_type": "execute_result",
          "data": {
            "text/plain": [
              "<matplotlib.axes._subplots.AxesSubplot at 0x7f2d751b0070>"
            ]
          },
          "metadata": {},
          "execution_count": 32
        },
        {
          "output_type": "display_data",
          "data": {
            "text/plain": [
              "<Figure size 432x288 with 1 Axes>"
            ],
            "image/png": "[encoded data removed]"
          },
          "metadata": {
            "needs_background": "light"
          }
        }
      ]
    },
    {
      "cell_type": "markdown",
      "metadata": {
        "id": "xddDZ2zCxTor"
      },
      "source": [
        "### Exercise 5.3: Obtain the number of received citations \n",
        "\n",
        "Using RDDs, write a PySpark program that obtains, from the cite75_99.txt file, the number of citations received by each patent. \n"
      ]
    },
    {
      "cell_type": "code",
      "metadata": {
        "id": "PmYIlZ0dCQ6x",
        "colab": {
          "base_uri": "https://localhost:8080/"
        },
        "outputId": "ff2a8e07-577d-4880-f0f9-ef70ef9c856a"
      },
      "source": [
        "rddCitations = sc.textFile(os.environ[\"DRIVE_DATA\"] + \"/cite75_99.txt.tar.bz2\", use_unicode=True)\n",
        "rddCitations.take(10)"
      ],
      "execution_count": 33,
      "outputs": [
        {
          "output_type": "execute_result",
          "data": {
            "text/plain": [
              "['cite75_99.txt\\x00\\x00\\x00\\x00\\x00\\x00\\x00\\x00\\x00\\x00\\x00\\x00\\x00\\x00\\x00\\x00\\x00\\x00\\x00\\x00\\x00\\x00\\x00\\x00\\x00\\x00\\x00\\x00\\x00\\x00\\x00\\x00\\x00\\x00\\x00\\x00\\x00\\x00\\x00\\x00\\x00\\x00\\x00\\x00\\x00\\x00\\x00\\x00\\x00\\x00\\x00\\x00\\x00\\x00\\x00\\x00\\x00\\x00\\x00\\x00\\x00\\x00\\x00\\x00\\x00\\x00\\x00\\x00\\x00\\x00\\x00\\x00\\x00\\x00\\x00\\x00\\x00\\x00\\x00\\x00\\x00\\x00\\x00\\x00\\x00\\x00\\x00000660 \\x00001750 \\x00001750 \\x0001757274247 13130724724 012717\\x00 0\\x00\\x00\\x00\\x00\\x00\\x00\\x00\\x00\\x00\\x00\\x00\\x00\\x00\\x00\\x00\\x00\\x00\\x00\\x00\\x00\\x00\\x00\\x00\\x00\\x00\\x00\\x00\\x00\\x00\\x00\\x00\\x00\\x00\\x00\\x00\\x00\\x00\\x00\\x00\\x00\\x00\\x00\\x00\\x00\\x00\\x00\\x00\\x00\\x00\\x00\\x00\\x00\\x00\\x00\\x00\\x00\\x00\\x00\\x00\\x00\\x00\\x00\\x00\\x00\\x00\\x00\\x00\\x00\\x00\\x00\\x00\\x00\\x00\\x00\\x00\\x00\\x00\\x00\\x00\\x00\\x00\\x00\\x00\\x00\\x00\\x00\\x00\\x00\\x00\\x00\\x00\\x00\\x00\\x00\\x00\\x00\\x00\\x00\\x00\\x00ustar\\x0000jlo\\x00\\x00\\x00\\x00\\x00\\x00\\x00\\x00\\x00\\x00\\x00\\x00\\x00\\x00\\x00\\x00\\x00\\x00\\x00\\x00\\x00\\x00\\x00\\x00\\x00\\x00\\x00\\x00\\x00jlo\\x00\\x00\\x00\\x00\\x00\\x00\\x00\\x00\\x00\\x00\\x00\\x00\\x00\\x00\\x00\\x00\\x00\\x00\\x00\\x00\\x00\\x00\\x00\\x00\\x00\\x00\\x00\\x00\\x00000000 \\x00000000 \\x00\\x00\\x00\\x00\\x00\\x00\\x00\\x00\\x00\\x00\\x00\\x00\\x00\\x00\\x00\\x00\\x00\\x00\\x00\\x00\\x00\\x00\\x00\\x00\\x00\\x00\\x00\\x00\\x00\\x00\\x00\\x00\\x00\\x00\\x00\\x00\\x00\\x00\\x00\\x00\\x00\\x00\\x00\\x00\\x00\\x00\\x00\\x00\\x00\\x00\\x00\\x00\\x00\\x00\\x00\\x00\\x00\\x00\\x00\\x00\\x00\\x00\\x00\\x00\\x00\\x00\\x00\\x00\\x00\\x00\\x00\\x00\\x00\\x00\\x00\\x00\\x00\\x00\\x00\\x00\\x00\\x00\\x00\\x00\\x00\\x00\\x00\\x00\\x00\\x00\\x00\\x00\\x00\\x00\\x00\\x00\\x00\\x00\\x00\\x00\\x00\\x00\\x00\\x00\\x00\\x00\\x00\\x00\\x00\\x00\\x00\\x00\\x00\\x00\\x00\\x00\\x00\\x00\\x00\\x00\\x00\\x00\\x00\\x00\\x00\\x00\\x00\\x00\\x00\\x00\\x00\\x00\\x00\\x00\\x00\\x00\\x00\\x00\\x00\\x00\\x00\\x00\\x00\\x00\\x00\\x00\\x00\\x00\\x00\\x00\\x00\\x00\\x00\\x00\\x00\\x00\\x00\\x00\\x00\\x00\\x00\\x00\\x00\\x00\\x00\\x00\\x00\\x00\"CITING\",\"CITED\"',\n",
              " '3858241,956203',\n",
              " '3858241,1324234',\n",
              " '3858241,3398406',\n",
              " '3858241,3557384',\n",
              " '3858241,3634889',\n",
              " '3858242,1515701',\n",
              " '3858242,3319261',\n",
              " '3858242,3668705',\n",
              " '3858242,3707004']"
            ]
          },
          "metadata": {},
          "execution_count": 33
        }
      ]
    },
    {
      "cell_type": "code",
      "source": [
        "rddCitations_modified=rddCitations.filter(lambda row: '\\x00' not in row)"
      ],
      "metadata": {
        "id": "Pzi9dWVqv41d"
      },
      "execution_count": 34,
      "outputs": []
    },
    {
      "cell_type": "code",
      "source": [
        "rddCitations_modified.take(20)\n",
        "rddCitations_modified.count()"
      ],
      "metadata": {
        "colab": {
          "base_uri": "https://localhost:8080/"
        },
        "id": "R-G1ItMRwCya",
        "outputId": "86bb2dcc-ef83-48b9-c611-202eda2f8d18"
      },
      "execution_count": 35,
      "outputs": [
        {
          "output_type": "execute_result",
          "data": {
            "text/plain": [
              "16522438"
            ]
          },
          "metadata": {},
          "execution_count": 35
        }
      ]
    },
    {
      "cell_type": "code",
      "source": [
        "rddCitations_modified_Reversed = rddCitations_modified.map(lambda x: x.split(',')).map(lambda x: (x[1], 1))\n",
        "rddCitations_modified_Reversed.take(5)"
      ],
      "metadata": {
        "colab": {
          "base_uri": "https://localhost:8080/"
        },
        "id": "DdLcVrsi_cZI",
        "outputId": "903417ce-9cd4-4713-e5e6-01930fee0b4b"
      },
      "execution_count": 36,
      "outputs": [
        {
          "output_type": "execute_result",
          "data": {
            "text/plain": [
              "[('956203', 1), ('1324234', 1), ('3398406', 1), ('3557384', 1), ('3634889', 1)]"
            ]
          },
          "metadata": {},
          "execution_count": 36
        }
      ]
    },
    {
      "cell_type": "code",
      "source": [
        "rddCitations_modified_Reversed_reduced = rddCitations_modified_Reversed.reduceByKey(lambda a,b: a+b)"
      ],
      "metadata": {
        "id": "ajxJbKTu_g-D"
      },
      "execution_count": 37,
      "outputs": []
    },
    {
      "cell_type": "code",
      "source": [
        "rddCitations_modified_Reversed_reduced.take(10)"
      ],
      "metadata": {
        "colab": {
          "base_uri": "https://localhost:8080/"
        },
        "id": "puzccKJ2_qNv",
        "outputId": "81affc6d-50d6-460d-d6cb-1eb4199641b3"
      },
      "execution_count": 38,
      "outputs": [
        {
          "output_type": "execute_result",
          "data": {
            "text/plain": [
              "[('3557384', 13),\n",
              " ('2949611', 4),\n",
              " ('3146465', 14),\n",
              " ('3684611', 6),\n",
              " ('2211676', 1),\n",
              " ('3176316', 29),\n",
              " ('3699969', 34),\n",
              " ('2875449', 2),\n",
              " ('3706104', 5),\n",
              " ('3289214', 5)]"
            ]
          },
          "metadata": {},
          "execution_count": 38
        }
      ]
    },
    {
      "cell_type": "markdown",
      "metadata": {
        "id": "za4qzjHXyxcn"
      },
      "source": [
        "## Exercise 12.1\n",
        "\n",
        "Let us extract information from the cite75_99.txt and apat63_99.txt files. Write a script that performs the following operations:\n",
        "\n",
        "1. From the cite75_99.txt file, obtain the number of citations received by each patent. You must produce a DataFrame with the following format:\n",
        "\n",
        "| PatentNum | ncitations |\n",
        "|-----------|------------|\n",
        "| 3060453   |    3       |\n",
        "| 3390168   |    6       |\n",
        "| 3626542   |   18       | \n",
        "| 3611507   |    5       |\n",
        "| 3000113   |    4       |\n",
        "\n",
        "\n",
        "2. From the apat63_99.txt file, create a DataFrame to show the patent number, its country and the patent year, discarding the rest of fields in the file. The DataFrame produced must have the following format:\n",
        "\n",
        "|PatentNum |country|Year |\n",
        "|----------|-------|-----|\n",
        "| 3070801  | BE    | 1963| \n",
        "| 3070802  | US    | 1963| \n",
        "| 3070803  | US    | 1963| \n",
        "| 3070804  | US    | 1963| \n",
        "| 3070805  | US    | 1963|\n",
        "\n",
        " \n",
        "**Requirements**\n",
        "\n",
        " - Both DataFrames must be stored in Parquet format with gzip compression. Check the number of partitions of each DataFrame and the number of files gererated.\n",
        "\n",
        " - It is **strongly advised** to copy the files from your Drive to a temporal directory in the notebook virtual machine and unzip them there. This will reduce the execution times. See the cell below:\n",
        "        "
      ]
    },
    {
      "cell_type": "code",
      "metadata": {
        "id": "aV_M6xMlB9hP",
        "colab": {
          "base_uri": "https://localhost:8080/"
        },
        "outputId": "06c5aa51-3831-4589-a6bb-d6223ff4929e"
      },
      "source": [
        "!mkdir /tmp/data/\n",
        "!cp \"$DRIVE_DATA\"apat63_99.txt.tar.bz2 \"$DRIVE_DATA\"cite75_99.txt.tar.bz2 /tmp/data\n",
        "%cd /tmp/data\n",
        "!ls\n",
        "!tar -jxf apat63_99.txt.tar.bz2\n",
        "!tar -jxf cite75_99.txt.tar.bz2of_citations_receiv\n",
        "!rm /tmp/data/*.tar.bz2\n",
        "!ls"
      ],
      "execution_count": 39,
      "outputs": [
        {
          "output_type": "stream",
          "name": "stdout",
          "text": [
            "/tmp/data\n",
            "apat63_99.txt.tar.bz2  cite75_99.txt.tar.bz2\n",
            "tar (child): cite75_99.txt.tar.bz2of_citations_receiv: Cannot open: No such file or directory\n",
            "tar (child): Error is not recoverable: exiting now\n",
            "tar: Child returned status 2\n",
            "tar: Error is not recoverable: exiting now\n",
            "apat63_99.txt\n"
          ]
        }
      ]
    },
    {
      "cell_type": "code",
      "source": [
        "# Question 1 \n",
        "# Run exercice 5.3 first\n",
        "columns = [\"PatentNum\", \"ncitations\"]\n",
        "dfCitations_modified_Reversed_reduced = rddCitations_modified_Reversed_reduced.toDF(schema=columns)\n",
        "dfCitations_modified_Reversed_reduced.show()"
      ],
      "metadata": {
        "colab": {
          "base_uri": "https://localhost:8080/"
        },
        "id": "rKuSm6z6AYUe",
        "outputId": "24604989-ec2c-408d-f48e-1f7a80e033c2"
      },
      "execution_count": 40,
      "outputs": [
        {
          "output_type": "stream",
          "name": "stdout",
          "text": [
            "+---------+----------+\n",
            "|PatentNum|ncitations|\n",
            "+---------+----------+\n",
            "|  3557384|        13|\n",
            "|  2949611|         4|\n",
            "|  3146465|        14|\n",
            "|  3684611|         6|\n",
            "|  2211676|         1|\n",
            "|  3176316|        29|\n",
            "|  3699969|        34|\n",
            "|  2875449|         2|\n",
            "|  3706104|         5|\n",
            "|  3289214|         5|\n",
            "|  3611446|         2|\n",
            "|  3748663|         3|\n",
            "|  2869141|         5|\n",
            "|  1106732|         1|\n",
            "|  3092049|         2|\n",
            "|  3319588|         6|\n",
            "|  2518060|         2|\n",
            "|  2331472|         2|\n",
            "|  2665963|         6|\n",
            "|  2702225|         2|\n",
            "+---------+----------+\n",
            "only showing top 20 rows\n",
            "\n"
          ]
        }
      ]
    },
    {
      "cell_type": "code",
      "source": [
        "# saving the df in parquet format inside the folder Data \n",
        "dfCitations_modified_Reversed_reduced.write.mode(\"overwrite\").parquet(os.environ[\"DRIVE_DATA\"] + \"dfCitations_modified_Reversed_reduced.parquet\")"
      ],
      "metadata": {
        "id": "XEeGjBsfEUZj"
      },
      "execution_count": 41,
      "outputs": []
    },
    {
      "cell_type": "code",
      "source": [
        "# checking if correctly saved\n",
        "temp = spark.read\\\n",
        "            .format(\"parquet\")\\\n",
        "            .option(\"mode\", \"FAILFAST\")\\\n",
        "            .load(os.environ[\"DRIVE_DATA\"] + \"dfCitations_modified_Reversed_reduced.parquet\")\n",
        "temp.show()"
      ],
      "metadata": {
        "colab": {
          "base_uri": "https://localhost:8080/"
        },
        "id": "Ij4w72CgEoiG",
        "outputId": "715ea7d6-5776-4b69-8775-a6aff0643a3a"
      },
      "execution_count": 42,
      "outputs": [
        {
          "output_type": "stream",
          "name": "stdout",
          "text": [
            "+---------+----------+\n",
            "|PatentNum|ncitations|\n",
            "+---------+----------+\n",
            "|  3557384|        13|\n",
            "|  2949611|         4|\n",
            "|  3146465|        14|\n",
            "|  3684611|         6|\n",
            "|  2211676|         1|\n",
            "|  3176316|        29|\n",
            "|  3699969|        34|\n",
            "|  2875449|         2|\n",
            "|  3706104|         5|\n",
            "|  3289214|         5|\n",
            "|  3611446|         2|\n",
            "|  3748663|         3|\n",
            "|  2869141|         5|\n",
            "|  1106732|         1|\n",
            "|  3092049|         2|\n",
            "|  3319588|         6|\n",
            "|  2518060|         2|\n",
            "|  2331472|         2|\n",
            "|  2665963|         6|\n",
            "|  2702225|         2|\n",
            "+---------+----------+\n",
            "only showing top 20 rows\n",
            "\n"
          ]
        }
      ]
    },
    {
      "cell_type": "code",
      "source": [
        "# Question 2\n",
        "\n",
        "rddApat = sc.textFile(os.environ[\"DRIVE_DATA\"] + \"/apat63_99.txt.tar.bz2\", use_unicode=True)\n",
        "rddApat.take(10)"
      ],
      "metadata": {
        "id": "zi5zs9lDFPwX",
        "colab": {
          "base_uri": "https://localhost:8080/"
        },
        "outputId": "5bdbd902-521f-459c-a14b-b5c3404f9614"
      },
      "execution_count": 43,
      "outputs": [
        {
          "output_type": "execute_result",
          "data": {
            "text/plain": [
              "['apat63_99.txt\\x00\\x00\\x00\\x00\\x00\\x00\\x00\\x00\\x00\\x00\\x00\\x00\\x00\\x00\\x00\\x00\\x00\\x00\\x00\\x00\\x00\\x00\\x00\\x00\\x00\\x00\\x00\\x00\\x00\\x00\\x00\\x00\\x00\\x00\\x00\\x00\\x00\\x00\\x00\\x00\\x00\\x00\\x00\\x00\\x00\\x00\\x00\\x00\\x00\\x00\\x00\\x00\\x00\\x00\\x00\\x00\\x00\\x00\\x00\\x00\\x00\\x00\\x00\\x00\\x00\\x00\\x00\\x00\\x00\\x00\\x00\\x00\\x00\\x00\\x00\\x00\\x00\\x00\\x00\\x00\\x00\\x00\\x00\\x00\\x00\\x00\\x00000660 \\x00001750 \\x00001750 \\x0001607555413 13130732465 012705\\x00 0\\x00\\x00\\x00\\x00\\x00\\x00\\x00\\x00\\x00\\x00\\x00\\x00\\x00\\x00\\x00\\x00\\x00\\x00\\x00\\x00\\x00\\x00\\x00\\x00\\x00\\x00\\x00\\x00\\x00\\x00\\x00\\x00\\x00\\x00\\x00\\x00\\x00\\x00\\x00\\x00\\x00\\x00\\x00\\x00\\x00\\x00\\x00\\x00\\x00\\x00\\x00\\x00\\x00\\x00\\x00\\x00\\x00\\x00\\x00\\x00\\x00\\x00\\x00\\x00\\x00\\x00\\x00\\x00\\x00\\x00\\x00\\x00\\x00\\x00\\x00\\x00\\x00\\x00\\x00\\x00\\x00\\x00\\x00\\x00\\x00\\x00\\x00\\x00\\x00\\x00\\x00\\x00\\x00\\x00\\x00\\x00\\x00\\x00\\x00\\x00ustar\\x0000jlo\\x00\\x00\\x00\\x00\\x00\\x00\\x00\\x00\\x00\\x00\\x00\\x00\\x00\\x00\\x00\\x00\\x00\\x00\\x00\\x00\\x00\\x00\\x00\\x00\\x00\\x00\\x00\\x00\\x00jlo\\x00\\x00\\x00\\x00\\x00\\x00\\x00\\x00\\x00\\x00\\x00\\x00\\x00\\x00\\x00\\x00\\x00\\x00\\x00\\x00\\x00\\x00\\x00\\x00\\x00\\x00\\x00\\x00\\x00000000 \\x00000000 \\x00\\x00\\x00\\x00\\x00\\x00\\x00\\x00\\x00\\x00\\x00\\x00\\x00\\x00\\x00\\x00\\x00\\x00\\x00\\x00\\x00\\x00\\x00\\x00\\x00\\x00\\x00\\x00\\x00\\x00\\x00\\x00\\x00\\x00\\x00\\x00\\x00\\x00\\x00\\x00\\x00\\x00\\x00\\x00\\x00\\x00\\x00\\x00\\x00\\x00\\x00\\x00\\x00\\x00\\x00\\x00\\x00\\x00\\x00\\x00\\x00\\x00\\x00\\x00\\x00\\x00\\x00\\x00\\x00\\x00\\x00\\x00\\x00\\x00\\x00\\x00\\x00\\x00\\x00\\x00\\x00\\x00\\x00\\x00\\x00\\x00\\x00\\x00\\x00\\x00\\x00\\x00\\x00\\x00\\x00\\x00\\x00\\x00\\x00\\x00\\x00\\x00\\x00\\x00\\x00\\x00\\x00\\x00\\x00\\x00\\x00\\x00\\x00\\x00\\x00\\x00\\x00\\x00\\x00\\x00\\x00\\x00\\x00\\x00\\x00\\x00\\x00\\x00\\x00\\x00\\x00\\x00\\x00\\x00\\x00\\x00\\x00\\x00\\x00\\x00\\x00\\x00\\x00\\x00\\x00\\x00\\x00\\x00\\x00\\x00\\x00\\x00\\x00\\x00\\x00\\x00\\x00\\x00\\x00\\x00\\x00\\x00\\x00\\x00\\x00\\x00\\x00\\x00\"PATENT\",\"GYEAR\",\"GDATE\",\"APPYEAR\",\"COUNTRY\",\"POSTATE\",\"ASSIGNEE\",\"ASSCODE\",\"CLAIMS\",\"NCLASS\",\"CAT\",\"SUBCAT\",\"CMADE\",\"CRECEIVE\",\"RATIOCIT\",\"GENERAL\",\"ORIGINAL\",\"FWDAPLAG\",\"BCKGTLAG\",\"SELFCTUB\",\"SELFCTLB\",\"SECDUPBD\",\"SECDLWBD\"',\n",
              " '3070801,1963,1096,,\"BE\",\"\",,1,,269,6,69,,1,,0,,,,,,,',\n",
              " '3070802,1963,1096,,\"US\",\"TX\",,1,,2,6,63,,0,,,,,,,,,',\n",
              " '3070803,1963,1096,,\"US\",\"IL\",,1,,2,6,63,,9,,0.3704,,,,,,,',\n",
              " '3070804,1963,1096,,\"US\",\"OH\",,1,,2,6,63,,3,,0.6667,,,,,,,',\n",
              " '3070805,1963,1096,,\"US\",\"CA\",,1,,2,6,63,,1,,0,,,,,,,',\n",
              " '3070806,1963,1096,,\"US\",\"PA\",,1,,2,6,63,,0,,,,,,,,,',\n",
              " '3070807,1963,1096,,\"US\",\"OH\",,1,,623,3,39,,3,,0.4444,,,,,,,',\n",
              " '3070808,1963,1096,,\"US\",\"IA\",,1,,623,3,39,,4,,0.375,,,,,,,',\n",
              " '3070809,1963,1096,,\"US\",\"AZ\",,1,,4,6,65,,0,,,,,,,,,']"
            ]
          },
          "metadata": {},
          "execution_count": 43
        }
      ]
    },
    {
      "cell_type": "code",
      "source": [
        "rddApat_modified=rddApat.filter(lambda row: '\\x00' not in row)"
      ],
      "metadata": {
        "id": "3ge-NQA3F34P"
      },
      "execution_count": 44,
      "outputs": []
    },
    {
      "cell_type": "code",
      "source": [
        "rddApat_modified.take(20)"
      ],
      "metadata": {
        "colab": {
          "base_uri": "https://localhost:8080/"
        },
        "id": "ZaYDAi1uGCg3",
        "outputId": "c423edb1-afe8-4b41-81fa-5d6eb215b1f4"
      },
      "execution_count": 45,
      "outputs": [
        {
          "output_type": "execute_result",
          "data": {
            "text/plain": [
              "['3070801,1963,1096,,\"BE\",\"\",,1,,269,6,69,,1,,0,,,,,,,',\n",
              " '3070802,1963,1096,,\"US\",\"TX\",,1,,2,6,63,,0,,,,,,,,,',\n",
              " '3070803,1963,1096,,\"US\",\"IL\",,1,,2,6,63,,9,,0.3704,,,,,,,',\n",
              " '3070804,1963,1096,,\"US\",\"OH\",,1,,2,6,63,,3,,0.6667,,,,,,,',\n",
              " '3070805,1963,1096,,\"US\",\"CA\",,1,,2,6,63,,1,,0,,,,,,,',\n",
              " '3070806,1963,1096,,\"US\",\"PA\",,1,,2,6,63,,0,,,,,,,,,',\n",
              " '3070807,1963,1096,,\"US\",\"OH\",,1,,623,3,39,,3,,0.4444,,,,,,,',\n",
              " '3070808,1963,1096,,\"US\",\"IA\",,1,,623,3,39,,4,,0.375,,,,,,,',\n",
              " '3070809,1963,1096,,\"US\",\"AZ\",,1,,4,6,65,,0,,,,,,,,,',\n",
              " '3070810,1963,1096,,\"US\",\"IL\",,1,,4,6,65,,3,,0.4444,,,,,,,',\n",
              " '3070811,1963,1096,,\"US\",\"CA\",,1,,4,6,65,,8,,0,,,,,,,',\n",
              " '3070812,1963,1096,,\"US\",\"LA\",,1,,4,6,65,,3,,0.4444,,,,,,,',\n",
              " '3070813,1963,1096,,\"US\",\"NY\",,1,,5,6,65,,2,,0,,,,,,,',\n",
              " '3070814,1963,1096,,\"US\",\"MN\",,2,,267,5,59,,2,,0.5,,,,,,,',\n",
              " '3070815,1963,1096,,\"US\",\"CO\",,1,,7,5,59,,1,,0,,,,,,,',\n",
              " '3070816,1963,1096,,\"US\",\"OK\",,1,,114,5,55,,4,,0,,,,,,,',\n",
              " '3070817,1963,1096,,\"US\",\"RI\",,2,,114,5,55,,5,,0.64,,,,,,,',\n",
              " '3070818,1963,1096,,\"US\",\"IN\",,1,,441,6,69,,4,,0.625,,,,,,,',\n",
              " '3070819,1963,1096,,\"US\",\"TN\",,4,,12,6,63,,0,,,,,,,,,',\n",
              " '3070820,1963,1096,,\"GB\",\"\",,2,,12,6,63,,0,,,,,,,,,']"
            ]
          },
          "metadata": {},
          "execution_count": 45
        }
      ]
    },
    {
      "cell_type": "code",
      "source": [
        "rddApat_modified_Splitted = rddApat_modified.map(lambda x: x.split(','))\n",
        "rddApat_modified_Splitted.take(2)"
      ],
      "metadata": {
        "colab": {
          "base_uri": "https://localhost:8080/"
        },
        "id": "0CRWO_g5GQjE",
        "outputId": "43893e7f-3570-4337-e06c-9437f80045be"
      },
      "execution_count": 46,
      "outputs": [
        {
          "output_type": "execute_result",
          "data": {
            "text/plain": [
              "[['3070801',\n",
              "  '1963',\n",
              "  '1096',\n",
              "  '',\n",
              "  '\"BE\"',\n",
              "  '\"\"',\n",
              "  '',\n",
              "  '1',\n",
              "  '',\n",
              "  '269',\n",
              "  '6',\n",
              "  '69',\n",
              "  '',\n",
              "  '1',\n",
              "  '',\n",
              "  '0',\n",
              "  '',\n",
              "  '',\n",
              "  '',\n",
              "  '',\n",
              "  '',\n",
              "  '',\n",
              "  ''],\n",
              " ['3070802',\n",
              "  '1963',\n",
              "  '1096',\n",
              "  '',\n",
              "  '\"US\"',\n",
              "  '\"TX\"',\n",
              "  '',\n",
              "  '1',\n",
              "  '',\n",
              "  '2',\n",
              "  '6',\n",
              "  '63',\n",
              "  '',\n",
              "  '0',\n",
              "  '',\n",
              "  '',\n",
              "  '',\n",
              "  '',\n",
              "  '',\n",
              "  '',\n",
              "  '',\n",
              "  '',\n",
              "  '']]"
            ]
          },
          "metadata": {},
          "execution_count": 46
        }
      ]
    },
    {
      "cell_type": "code",
      "source": [
        "columns = [\"PatentNum\", \"ncitations\"]\n",
        "dfApat=rddApat_modified_Splitted.toDF()\n",
        "dfApat.show()"
      ],
      "metadata": {
        "colab": {
          "base_uri": "https://localhost:8080/"
        },
        "id": "UrNAPAaQHnHh",
        "outputId": "8ff872f7-e108-41bd-fa75-0b3aeebc1a29"
      },
      "execution_count": 47,
      "outputs": [
        {
          "output_type": "stream",
          "name": "stdout",
          "text": [
            "+-------+----+----+---+----+----+---+---+---+---+---+---+---+---+---+------+---+---+---+---+---+---+---+\n",
            "|     _1|  _2|  _3| _4|  _5|  _6| _7| _8| _9|_10|_11|_12|_13|_14|_15|   _16|_17|_18|_19|_20|_21|_22|_23|\n",
            "+-------+----+----+---+----+----+---+---+---+---+---+---+---+---+---+------+---+---+---+---+---+---+---+\n",
            "|3070801|1963|1096|   |\"BE\"|  \"\"|   |  1|   |269|  6| 69|   |  1|   |     0|   |   |   |   |   |   |   |\n",
            "|3070802|1963|1096|   |\"US\"|\"TX\"|   |  1|   |  2|  6| 63|   |  0|   |      |   |   |   |   |   |   |   |\n",
            "|3070803|1963|1096|   |\"US\"|\"IL\"|   |  1|   |  2|  6| 63|   |  9|   |0.3704|   |   |   |   |   |   |   |\n",
            "|3070804|1963|1096|   |\"US\"|\"OH\"|   |  1|   |  2|  6| 63|   |  3|   |0.6667|   |   |   |   |   |   |   |\n",
            "|3070805|1963|1096|   |\"US\"|\"CA\"|   |  1|   |  2|  6| 63|   |  1|   |     0|   |   |   |   |   |   |   |\n",
            "|3070806|1963|1096|   |\"US\"|\"PA\"|   |  1|   |  2|  6| 63|   |  0|   |      |   |   |   |   |   |   |   |\n",
            "|3070807|1963|1096|   |\"US\"|\"OH\"|   |  1|   |623|  3| 39|   |  3|   |0.4444|   |   |   |   |   |   |   |\n",
            "|3070808|1963|1096|   |\"US\"|\"IA\"|   |  1|   |623|  3| 39|   |  4|   | 0.375|   |   |   |   |   |   |   |\n",
            "|3070809|1963|1096|   |\"US\"|\"AZ\"|   |  1|   |  4|  6| 65|   |  0|   |      |   |   |   |   |   |   |   |\n",
            "|3070810|1963|1096|   |\"US\"|\"IL\"|   |  1|   |  4|  6| 65|   |  3|   |0.4444|   |   |   |   |   |   |   |\n",
            "|3070811|1963|1096|   |\"US\"|\"CA\"|   |  1|   |  4|  6| 65|   |  8|   |     0|   |   |   |   |   |   |   |\n",
            "|3070812|1963|1096|   |\"US\"|\"LA\"|   |  1|   |  4|  6| 65|   |  3|   |0.4444|   |   |   |   |   |   |   |\n",
            "|3070813|1963|1096|   |\"US\"|\"NY\"|   |  1|   |  5|  6| 65|   |  2|   |     0|   |   |   |   |   |   |   |\n",
            "|3070814|1963|1096|   |\"US\"|\"MN\"|   |  2|   |267|  5| 59|   |  2|   |   0.5|   |   |   |   |   |   |   |\n",
            "|3070815|1963|1096|   |\"US\"|\"CO\"|   |  1|   |  7|  5| 59|   |  1|   |     0|   |   |   |   |   |   |   |\n",
            "|3070816|1963|1096|   |\"US\"|\"OK\"|   |  1|   |114|  5| 55|   |  4|   |     0|   |   |   |   |   |   |   |\n",
            "|3070817|1963|1096|   |\"US\"|\"RI\"|   |  2|   |114|  5| 55|   |  5|   |  0.64|   |   |   |   |   |   |   |\n",
            "|3070818|1963|1096|   |\"US\"|\"IN\"|   |  1|   |441|  6| 69|   |  4|   | 0.625|   |   |   |   |   |   |   |\n",
            "|3070819|1963|1096|   |\"US\"|\"TN\"|   |  4|   | 12|  6| 63|   |  0|   |      |   |   |   |   |   |   |   |\n",
            "|3070820|1963|1096|   |\"GB\"|  \"\"|   |  2|   | 12|  6| 63|   |  0|   |      |   |   |   |   |   |   |   |\n",
            "+-------+----+----+---+----+----+---+---+---+---+---+---+---+---+---+------+---+---+---+---+---+---+---+\n",
            "only showing top 20 rows\n",
            "\n"
          ]
        }
      ]
    },
    {
      "cell_type": "code",
      "source": [
        "columns = [\"PatentNum\", \"country\", \"Year\"]\n",
        "dfApat_small = dfApat.select(\"_1\", \"_5\", \"_2\").toDF(*columns)\n",
        "dfApat_small.show()"
      ],
      "metadata": {
        "colab": {
          "base_uri": "https://localhost:8080/"
        },
        "id": "mQKBYenNIZde",
        "outputId": "01a2504e-85ef-4562-81b2-c23654aee6d9"
      },
      "execution_count": 48,
      "outputs": [
        {
          "output_type": "stream",
          "name": "stdout",
          "text": [
            "+---------+-------+----+\n",
            "|PatentNum|country|Year|\n",
            "+---------+-------+----+\n",
            "|  3070801|   \"BE\"|1963|\n",
            "|  3070802|   \"US\"|1963|\n",
            "|  3070803|   \"US\"|1963|\n",
            "|  3070804|   \"US\"|1963|\n",
            "|  3070805|   \"US\"|1963|\n",
            "|  3070806|   \"US\"|1963|\n",
            "|  3070807|   \"US\"|1963|\n",
            "|  3070808|   \"US\"|1963|\n",
            "|  3070809|   \"US\"|1963|\n",
            "|  3070810|   \"US\"|1963|\n",
            "|  3070811|   \"US\"|1963|\n",
            "|  3070812|   \"US\"|1963|\n",
            "|  3070813|   \"US\"|1963|\n",
            "|  3070814|   \"US\"|1963|\n",
            "|  3070815|   \"US\"|1963|\n",
            "|  3070816|   \"US\"|1963|\n",
            "|  3070817|   \"US\"|1963|\n",
            "|  3070818|   \"US\"|1963|\n",
            "|  3070819|   \"US\"|1963|\n",
            "|  3070820|   \"GB\"|1963|\n",
            "+---------+-------+----+\n",
            "only showing top 20 rows\n",
            "\n"
          ]
        }
      ]
    },
    {
      "cell_type": "code",
      "source": [
        "# saving the df in parquet format inside the folder Data \n",
        "dfApat_small.write.mode(\"overwrite\").parquet(os.environ[\"DRIVE_DATA\"] + \"dfApat_small.parquet\")"
      ],
      "metadata": {
        "id": "o90aj03DKXxq"
      },
      "execution_count": 49,
      "outputs": []
    },
    {
      "cell_type": "code",
      "source": [
        "# checking if correctly saved\n",
        "temp = spark.read\\\n",
        "            .format(\"parquet\")\\\n",
        "            .option(\"mode\", \"FAILFAST\")\\\n",
        "            .load(os.environ[\"DRIVE_DATA\"] + \"dfApat_small.parquet\")\n",
        "temp.show()"
      ],
      "metadata": {
        "id": "JJoN0DO5KfZD",
        "colab": {
          "base_uri": "https://localhost:8080/"
        },
        "outputId": "47c54253-9efd-447b-c353-0d90c0a782c5"
      },
      "execution_count": 50,
      "outputs": [
        {
          "output_type": "stream",
          "name": "stdout",
          "text": [
            "+---------+-------+----+\n",
            "|PatentNum|country|Year|\n",
            "+---------+-------+----+\n",
            "|  3070801|   \"BE\"|1963|\n",
            "|  3070802|   \"US\"|1963|\n",
            "|  3070803|   \"US\"|1963|\n",
            "|  3070804|   \"US\"|1963|\n",
            "|  3070805|   \"US\"|1963|\n",
            "|  3070806|   \"US\"|1963|\n",
            "|  3070807|   \"US\"|1963|\n",
            "|  3070808|   \"US\"|1963|\n",
            "|  3070809|   \"US\"|1963|\n",
            "|  3070810|   \"US\"|1963|\n",
            "|  3070811|   \"US\"|1963|\n",
            "|  3070812|   \"US\"|1963|\n",
            "|  3070813|   \"US\"|1963|\n",
            "|  3070814|   \"US\"|1963|\n",
            "|  3070815|   \"US\"|1963|\n",
            "|  3070816|   \"US\"|1963|\n",
            "|  3070817|   \"US\"|1963|\n",
            "|  3070818|   \"US\"|1963|\n",
            "|  3070819|   \"US\"|1963|\n",
            "|  3070820|   \"GB\"|1963|\n",
            "+---------+-------+----+\n",
            "only showing top 20 rows\n",
            "\n"
          ]
        }
      ]
    },
    {
      "cell_type": "markdown",
      "metadata": {
        "id": "HF1_LXZEnzMn"
      },
      "source": [
        "## Exercise 12.2\n",
        "\n",
        "Write a code that, from the Parquet files created in the previous exercise, obtains for each country and for each year: the total number of patents, the total number of citations from those patents, the average number of citations and the maximum number of citations. Compute only those values in which there are any values in both files (*inner join*). In addition, each country must show its whole name, obtained from the *country_codes.txt* file. The final DataFrame must look like this one:\n",
        "\n",
        "\n",
        "|Country            |Year|PatentsNum |TotalCitations|AvgCitations      |MaxCitations|\n",
        "|-------------------|----|-----------|--------------|------------------|------------|\n",
        "|Algeria            |1963|2          |7             |3.5               |4           |\n",
        "|Algeria            |1968|1          |2             |2.0               |2           |\n",
        "|Algeria            |1970|1          |2             |2.0               |2           |\n",
        "|Algeria            |1972|1          |1             |1.0               |1           |\n",
        "|Algeria            |1977|1          |2             |2.0               |2           |\n",
        "|Andorra            |1987|1          |3             |3.0               |3           |\n",
        "|Andorra            |1993|1          |1             |1.0               |1           |\n",
        "|Andorra            |1998|1          |1             |1.0               |1           |\n",
        "|Antigua and Barbuda|1978|1          |6             |6.0               |6           |\n",
        "|Antigua and Barbuda|1979|1          |14            |14.0              |14          |\n",
        "|Antigua and Barbuda|1991|1          |8             |8.0               |8           |\n",
        "|Antigua and Barbuda|1994|1          |19            |19.0              |19          |\n",
        "|Antigua and Barbuda|1995|2          |12            |6.0               |11          |\n",
        "|Antigua and Barbuda|1996|2          |3             |1.5               |2           |\n",
        "|Argentina          |1963|14         |35            |2.5               |7           |\n",
        "|Argentina          |1964|20         |60            |3.0               |8           |\n",
        "|Argentina          |1965|10         |35            |3.5               |10          |\n",
        "|Argentina          |1966|16         |44            |2.75              |9           |\n",
        "|Argentina          |1967|13         |60            |4.615384615384615 |14          |\n",
        "\n",
        "**Requirements**\n",
        "\n",
        "- The output DataFrame must be saved in a single CSV file, with a header and without any compression.\n"
      ]
    },
    {
      "cell_type": "code",
      "source": [
        "# Loading parquet files\n",
        "\n",
        "dfApat = spark.read\\\n",
        "            .format(\"parquet\")\\\n",
        "            .option(\"mode\", \"FAILFAST\")\\\n",
        "            .load(os.environ[\"DRIVE_DATA\"] + \"dfApat_small.parquet\")\n",
        "dfApat.show(truncate=False)\n",
        "\n",
        "dfCitations = spark.read\\\n",
        "            .format(\"parquet\")\\\n",
        "            .option(\"mode\", \"FAILFAST\")\\\n",
        "            .load(os.environ[\"DRIVE_DATA\"] + \"dfCitations_modified_Reversed_reduced.parquet\")\n",
        "dfCitations.show(truncate=False)"
      ],
      "metadata": {
        "colab": {
          "base_uri": "https://localhost:8080/"
        },
        "id": "YULcADBemrtv",
        "outputId": "7826e0e4-84a1-4129-f57a-07b2f3a7ebb9"
      },
      "execution_count": 51,
      "outputs": [
        {
          "output_type": "stream",
          "name": "stdout",
          "text": [
            "+---------+-------+----+\n",
            "|PatentNum|country|Year|\n",
            "+---------+-------+----+\n",
            "|3070801  |\"BE\"   |1963|\n",
            "|3070802  |\"US\"   |1963|\n",
            "|3070803  |\"US\"   |1963|\n",
            "|3070804  |\"US\"   |1963|\n",
            "|3070805  |\"US\"   |1963|\n",
            "|3070806  |\"US\"   |1963|\n",
            "|3070807  |\"US\"   |1963|\n",
            "|3070808  |\"US\"   |1963|\n",
            "|3070809  |\"US\"   |1963|\n",
            "|3070810  |\"US\"   |1963|\n",
            "|3070811  |\"US\"   |1963|\n",
            "|3070812  |\"US\"   |1963|\n",
            "|3070813  |\"US\"   |1963|\n",
            "|3070814  |\"US\"   |1963|\n",
            "|3070815  |\"US\"   |1963|\n",
            "|3070816  |\"US\"   |1963|\n",
            "|3070817  |\"US\"   |1963|\n",
            "|3070818  |\"US\"   |1963|\n",
            "|3070819  |\"US\"   |1963|\n",
            "|3070820  |\"GB\"   |1963|\n",
            "+---------+-------+----+\n",
            "only showing top 20 rows\n",
            "\n",
            "+---------+----------+\n",
            "|PatentNum|ncitations|\n",
            "+---------+----------+\n",
            "|3557384  |13        |\n",
            "|2949611  |4         |\n",
            "|3146465  |14        |\n",
            "|3684611  |6         |\n",
            "|2211676  |1         |\n",
            "|3176316  |29        |\n",
            "|3699969  |34        |\n",
            "|2875449  |2         |\n",
            "|3706104  |5         |\n",
            "|3289214  |5         |\n",
            "|3611446  |2         |\n",
            "|3748663  |3         |\n",
            "|2869141  |5         |\n",
            "|1106732  |1         |\n",
            "|3092049  |2         |\n",
            "|3319588  |6         |\n",
            "|2518060  |2         |\n",
            "|2331472  |2         |\n",
            "|2665963  |6         |\n",
            "|2702225  |2         |\n",
            "+---------+----------+\n",
            "only showing top 20 rows\n",
            "\n"
          ]
        }
      ]
    },
    {
      "cell_type": "code",
      "source": [
        "# Fixing Country Codes file\n",
        "\n",
        "tempCountryCodes = spark.read\\\n",
        "            .text(os.environ[\"DRIVE_DATA\"] + \"/country_codes.txt\")\n",
        "\n",
        "dfCountryCodes = tempCountryCodes.withColumn('lists', f.split(tempCountryCodes['value'], '\\t')).select('lists')\n",
        "\n",
        "dfCountryCodes = dfCountryCodes.withColumn('code', dfCountryCodes['lists'][0])\\\n",
        "                  .withColumn('country', dfCountryCodes['lists'][1])\\\n",
        "                  .select('code', 'country')\\\n",
        "                  .withColumn(\"temp\", lit(\"\\\"\"))\n",
        "                  \n",
        "dfCountryCodes = dfCountryCodes\\\n",
        "                  .select(concat(dfCountryCodes.temp, dfCountryCodes.code, dfCountryCodes.temp).alias('code'), 'country')\n",
        "\n",
        "dfCountryCodes.show()"
      ],
      "metadata": {
        "colab": {
          "base_uri": "https://localhost:8080/"
        },
        "id": "tQFkMvin1Io4",
        "outputId": "121937ac-3104-4443-ed1a-acc5e6184d76"
      },
      "execution_count": 52,
      "outputs": [
        {
          "output_type": "stream",
          "name": "stdout",
          "text": [
            "+----+-------------------+\n",
            "|code|            country|\n",
            "+----+-------------------+\n",
            "|\"AF\"|        Afghanistan|\n",
            "|\"AX\"|      Aland Islands|\n",
            "|\"AL\"|            Albania|\n",
            "|\"DZ\"|            Algeria|\n",
            "|\"AS\"|     American Samoa|\n",
            "|\"AD\"|            Andorra|\n",
            "|\"AO\"|             Angola|\n",
            "|\"AI\"|           Anguilla|\n",
            "|\"AQ\"|         Antarctica|\n",
            "|\"AG\"|Antigua and Barbuda|\n",
            "|\"AR\"|          Argentina|\n",
            "|\"AM\"|            Armenia|\n",
            "|\"AW\"|              Aruba|\n",
            "|\"AC\"|   Ascension Island|\n",
            "|\"AU\"|          Australia|\n",
            "|\"AT\"|            Austria|\n",
            "|\"AZ\"|         Azerbaijan|\n",
            "|\"BS\"|            Bahamas|\n",
            "|\"BH\"|            Bahrain|\n",
            "|\"BD\"|         Bangladesh|\n",
            "+----+-------------------+\n",
            "only showing top 20 rows\n",
            "\n"
          ]
        }
      ]
    },
    {
      "cell_type": "code",
      "source": [
        "initialJointDF = dfApat.join(dfCitations, dfApat.PatentNum == dfCitations.PatentNum, \"inner\").drop(dfCitations.PatentNum)\n",
        "initialJointDF.show()"
      ],
      "metadata": {
        "colab": {
          "base_uri": "https://localhost:8080/"
        },
        "id": "jp5RFJST2HHu",
        "outputId": "131875e6-4451-40c4-8083-8790fdbacaef"
      },
      "execution_count": 53,
      "outputs": [
        {
          "output_type": "stream",
          "name": "stdout",
          "text": [
            "+---------+-------+----+----------+\n",
            "|PatentNum|country|Year|ncitations|\n",
            "+---------+-------+----+----------+\n",
            "|  3070803|   \"US\"|1963|         9|\n",
            "|  3070804|   \"US\"|1963|         3|\n",
            "|  3070807|   \"US\"|1963|         3|\n",
            "|  3070810|   \"US\"|1963|         3|\n",
            "|  3070812|   \"US\"|1963|         3|\n",
            "|  3070816|   \"US\"|1963|         4|\n",
            "|  3070823|   \"US\"|1963|         8|\n",
            "|  3070824|   \"US\"|1963|         5|\n",
            "|  3070828|   \"US\"|1963|         4|\n",
            "|  3070829|   \"FR\"|1963|         5|\n",
            "|  3070832|   \"US\"|1963|         1|\n",
            "|  3070833|   \"US\"|1963|         5|\n",
            "|  3070836|   \"US\"|1963|        24|\n",
            "|  3070839|   \"US\"|1963|         8|\n",
            "|  3070840|   \"GB\"|1963|         6|\n",
            "|  3070845|   \"US\"|1963|         3|\n",
            "|  3070846|   \"US\"|1963|         9|\n",
            "|  3070848|   \"DE\"|1963|         1|\n",
            "|  3070850|   \"US\"|1963|        10|\n",
            "|  3070852|   \"US\"|1963|         7|\n",
            "+---------+-------+----+----------+\n",
            "only showing top 20 rows\n",
            "\n"
          ]
        }
      ]
    },
    {
      "cell_type": "code",
      "source": [
        "jointDF = initialJointDF.join(dfCountryCodes, initialJointDF.country == dfCountryCodes.code, \"inner\")\\\n",
        "                        .drop(initialJointDF.country)\\\n",
        "                        .select('country', 'Year','PatentNum', 'ncitations')\\\n",
        "                        .withColumnRenamed(\"country\", \"Country\")\\\n",
        "                        .withColumnRenamed(\"PatentNum\", \"PatentsNum\")\\\n",
        "                        .withColumnRenamed(\"ncitations\", \"TotalCitations\")\n",
        "jointDF.show()"
      ],
      "metadata": {
        "colab": {
          "base_uri": "https://localhost:8080/"
        },
        "id": "jsxSr7Ct5kYb",
        "outputId": "2f6e350b-41be-44ec-e9fb-124541249a8c"
      },
      "execution_count": 54,
      "outputs": [
        {
          "output_type": "stream",
          "name": "stdout",
          "text": [
            "+------------------+----+----------+--------------+\n",
            "|           Country|Year|PatentsNum|TotalCitations|\n",
            "+------------------+----+----------+--------------+\n",
            "|     United States|1963|   3070803|             9|\n",
            "|     United States|1963|   3070804|             3|\n",
            "|     United States|1963|   3070807|             3|\n",
            "|     United States|1963|   3070810|             3|\n",
            "|     United States|1963|   3070812|             3|\n",
            "|     United States|1963|   3070816|             4|\n",
            "|     United States|1963|   3070823|             8|\n",
            "|     United States|1963|   3070824|             5|\n",
            "|     United States|1963|   3070828|             4|\n",
            "|            France|1963|   3070829|             5|\n",
            "|     United States|1963|   3070832|             1|\n",
            "|     United States|1963|   3070833|             5|\n",
            "|     United States|1963|   3070836|            24|\n",
            "|     United States|1963|   3070839|             8|\n",
            "|Great Britain (UK)|1963|   3070840|             6|\n",
            "|     United States|1963|   3070845|             3|\n",
            "|     United States|1963|   3070846|             9|\n",
            "|           Germany|1963|   3070848|             1|\n",
            "|     United States|1963|   3070850|            10|\n",
            "|     United States|1963|   3070852|             7|\n",
            "+------------------+----+----------+--------------+\n",
            "only showing top 20 rows\n",
            "\n"
          ]
        }
      ]
    },
    {
      "cell_type": "code",
      "source": [
        "# Column containing average number of citations per year per country\n",
        "group_cols = [\"Country\", \"Year\"]\n",
        "groupedJointDF = jointDF.groupBy(group_cols).agg(avg(\"TotalCitations\").alias(\"AvgCitations\"), max(\"TotalCitations\").alias(\"MaxCitations\")).sort(col(\"Country\"),col(\"Year\"))\n",
        "groupedJointDF.show()"
      ],
      "metadata": {
        "colab": {
          "base_uri": "https://localhost:8080/"
        },
        "id": "pBY_ZejuYdq9",
        "outputId": "f200595c-d909-4526-8c32-4025ad114ee5"
      },
      "execution_count": 55,
      "outputs": [
        {
          "output_type": "stream",
          "name": "stdout",
          "text": [
            "+-------------------+----+-----------------+------------+\n",
            "|            Country|Year|     AvgCitations|MaxCitations|\n",
            "+-------------------+----+-----------------+------------+\n",
            "|            Algeria|1963|              3.5|           4|\n",
            "|            Algeria|1968|              2.0|           2|\n",
            "|            Algeria|1970|              2.0|           2|\n",
            "|            Algeria|1972|              1.0|           1|\n",
            "|            Algeria|1977|              2.0|           2|\n",
            "|            Andorra|1987|              3.0|           3|\n",
            "|            Andorra|1993|              1.0|           1|\n",
            "|            Andorra|1998|              1.0|           1|\n",
            "|Antigua and Barbuda|1978|              6.0|           6|\n",
            "|Antigua and Barbuda|1979|             14.0|          14|\n",
            "|Antigua and Barbuda|1991|              8.0|           8|\n",
            "|Antigua and Barbuda|1994|             19.0|          19|\n",
            "|Antigua and Barbuda|1995|              6.0|          11|\n",
            "|Antigua and Barbuda|1996|              1.5|           2|\n",
            "|          Argentina|1963|              2.5|           7|\n",
            "|          Argentina|1964|              3.0|           8|\n",
            "|          Argentina|1965|              3.5|          10|\n",
            "|          Argentina|1966|             2.75|           9|\n",
            "|          Argentina|1967|4.615384615384615|          14|\n",
            "|          Argentina|1968|5.714285714285714|          21|\n",
            "+-------------------+----+-----------------+------------+\n",
            "only showing top 20 rows\n",
            "\n"
          ]
        }
      ]
    },
    {
      "cell_type": "code",
      "source": [
        "responseDF = jointDF.join(groupedJointDF, group_cols)\n",
        "responseDF.show()"
      ],
      "metadata": {
        "colab": {
          "base_uri": "https://localhost:8080/"
        },
        "id": "01oGde4raAxh",
        "outputId": "8f009070-d05c-4105-9bcf-39f2f5cbca11"
      },
      "execution_count": 56,
      "outputs": [
        {
          "output_type": "stream",
          "name": "stdout",
          "text": [
            "+-------+----+----------+--------------+-----------------+------------+\n",
            "|Country|Year|PatentsNum|TotalCitations|     AvgCitations|MaxCitations|\n",
            "+-------+----+----------+--------------+-----------------+------------+\n",
            "|  Italy|1963|   3071049|             2|3.304932735426009|          21|\n",
            "|  Italy|1963|   3071820|             1|3.304932735426009|          21|\n",
            "|  Italy|1963|   3072084|             2|3.304932735426009|          21|\n",
            "|  Italy|1963|   3072862|             1|3.304932735426009|          21|\n",
            "|  Italy|1963|   3073194|             1|3.304932735426009|          21|\n",
            "|  Italy|1963|   3073441|             4|3.304932735426009|          21|\n",
            "|  Italy|1963|   3073667|             2|3.304932735426009|          21|\n",
            "|  Italy|1963|   3073741|             1|3.304932735426009|          21|\n",
            "|  Italy|1963|   3073997|            10|3.304932735426009|          21|\n",
            "|  Italy|1963|   3074339|             4|3.304932735426009|          21|\n",
            "|  Italy|1963|   3074382|             2|3.304932735426009|          21|\n",
            "|  Italy|1963|   3074582|             2|3.304932735426009|          21|\n",
            "|  Italy|1963|   3074739|             1|3.304932735426009|          21|\n",
            "|  Italy|1963|   3075857|             7|3.304932735426009|          21|\n",
            "|  Italy|1963|   3076215|             1|3.304932735426009|          21|\n",
            "|  Italy|1963|   3076326|             1|3.304932735426009|          21|\n",
            "|  Italy|1963|   3076404|             4|3.304932735426009|          21|\n",
            "|  Italy|1963|   3077156|             7|3.304932735426009|          21|\n",
            "|  Italy|1963|   3077165|             3|3.304932735426009|          21|\n",
            "|  Italy|1963|   3077302|             1|3.304932735426009|          21|\n",
            "+-------+----+----------+--------------+-----------------+------------+\n",
            "only showing top 20 rows\n",
            "\n"
          ]
        }
      ]
    },
    {
      "cell_type": "code",
      "source": [
        "# The output file should be a csv\n",
        "responseDF.write.mode('overwrite').csv(os.environ[\"DRIVE_DATA\"] + \"responseCSV.csv\",header = 'true')"
      ],
      "metadata": {
        "id": "roZM5JvUPmLQ"
      },
      "execution_count": 57,
      "outputs": []
    },
    {
      "cell_type": "markdown",
      "metadata": {
        "id": "wT3WU-1IwOPD"
      },
      "source": [
        "## Exercise 12.3\n",
        "\n",
        "From the apat63_99.txt file, obtain the number of patents per country and year **using RDDs** (do not use DataFrames). The resulting RDD must be a key/value RDD in which the key is a country and the value a list of tuples. Each tuple will be composed of a year and the number of patents of the country during that year. In addition, the resulting RDD must be sorted by  the country code and, for each country, values must be sorted by year.\n",
        "\n",
        "Example of output key/value entry:\n",
        "\n",
        "    (u'PA', [(u'1963', 2), (u'1964', 2), (u'1965', 1), (u'1966', 1), (u'1970', 1), (u'1971', 1), (u'1972', 6), (u'1974', 3), (u'1975', 5), (u'1976', 3), (u'1977', 2), (u'1978', 2), (u'1980', 2), (u'1982', 1), (u'1983', 1), (u'1985', 2), (u'1986', 1), (u'1987', 2), (u'1988', 1), (u'1990', 1), (u'1991', 2), (u'1993', 1), (u'1995', 1), (u'1996', 1), (u'1999', 1)])\n",
        "\n",
        "**Requirements:**\n",
        "\n",
        "- You must remove the double quotation marks from the country code.\n",
        "- Use 8 partitions to read the apat63_99.txt.bz2 file.\n"
      ]
    },
    {
      "cell_type": "code",
      "source": [
        "rddApat = sc.textFile(os.environ[\"DRIVE_DATA\"] + \"/apat63_99.txt.tar.bz2\", use_unicode=True)\n",
        "rddApat.take(10)"
      ],
      "metadata": {
        "id": "dpmtkvq_NFXY"
      },
      "execution_count": null,
      "outputs": []
    },
    {
      "cell_type": "code",
      "source": [
        "rddApat_modified=rddApat.filter(lambda row: '\\x00' not in row)"
      ],
      "metadata": {
        "id": "KPdLrUX9NFXZ"
      },
      "execution_count": null,
      "outputs": []
    },
    {
      "cell_type": "code",
      "source": [
        "rddApat_modified.take(20)"
      ],
      "metadata": {
        "id": "IR6iVLVONFXZ"
      },
      "execution_count": null,
      "outputs": []
    },
    {
      "cell_type": "code",
      "source": [
        "rddApat_modified_Splitted = rddApat_modified.map(lambda x: x.split(\",\"))\n",
        "rddApat_modified_Splitted.take(2)"
      ],
      "metadata": {
        "id": "84suDxBmNFXa"
      },
      "execution_count": null,
      "outputs": []
    },
    {
      "cell_type": "code",
      "source": [
        "rddApat_modified_Splitted2 = rddApat_modified_Splitted.map(lambda x: ((x[4]), (x[0], x[1])))\n",
        "rddApat_modified_Splitted2.take(10)"
      ],
      "metadata": {
        "id": "dEwNy0yUM6fU"
      },
      "execution_count": null,
      "outputs": []
    },
    {
      "cell_type": "code",
      "source": [
        "rddApat_modified_Splitted2.reduceByKey(lambda a,b : a+b).take(10)"
      ],
      "metadata": {
        "id": "pS61_N9CVdPu"
      },
      "execution_count": null,
      "outputs": []
    },
    {
      "cell_type": "code",
      "source": [
        "rddApat_modified_Splitted4 = rddApat_modified_Splitted3.map(lambda x: (x[0].split(\"\\\"\")))"
      ],
      "metadata": {
        "id": "K6A7esImWwhx"
      },
      "execution_count": null,
      "outputs": []
    },
    {
      "cell_type": "markdown",
      "metadata": {
        "id": "g0LiWoc4VQdh"
      },
      "source": [
        "## Exercise 12.4\n",
        "\n",
        "From the Parquet files created in Exercise 12.1, create a DataFrame that gives the patent or patents with the higher number of citations per country and year, as well as the average of the number of citations per country and year, and the difference between the maximum and the average values. The resulting DataFrame should look like this:\n",
        "\n",
        "\n",
        "|Country|Year|PatentNum|max  |average       |diff              |\n",
        "|-------|----|---------|-----|--------------|------------------|\n",
        "|AD     |1987|4688621  |3    |3.0           |0.0               |\n",
        "|AD     |1993|5193231  |1    |1.0           |0.0               |\n",
        "|AD     |1998|5765303  |1    |1.0           |0.0               |\n",
        "|AE     |1984|4482959  |5    |5.0           |0.0               |\n",
        "|AE     |1985|4554981  |14   |14.0          |0.0               |\n",
        "|AE     |1987|4663181  |3    |3.0           |0.0               |\n",
        "|AE     |1989|4805221  |7    |5.0           |2.0               |\n",
        "|AE     |1990|4909321  |2    |2.0           |0.0               |\n",
        "|AE     |1991|5004552  |3    |2.0           |1.0               |\n",
        "|AE     |1992|5104556  |4    |4.0           |0.0               |\n",
        "|AE     |1993|5181569  |8    |8.0           |0.0               |\n",
        "|AE     |1996|5580125  |1    |1.0           |0.0               |\n",
        "|AG     |1978|4126850  |6    |6.0           |0.0               |\n",
        "|AG     |1979|4172981  |14   |14.0          |0.0               |\n",
        "|AG     |1991|5013035  |8    |8.0           |0.0               |\n",
        "|AG     |1994|5345071  |19   |19.0          |0.0               |\n",
        "|AG     |1995|5457307  |11   |6.0           |5.0               |\n",
        "|AG     |1996|5525786  |2    |1.5           |0.5               |\n",
        "\n",
        "**Requirements:**\n",
        "\n",
        "- The DataFrame must be sorted by country code and year.\n",
        "- Do **NOT** replace the country code by its whole name.\n",
        "- The output must be saved as a single CSV file, with a header and without any compression.\n"
      ]
    },
    {
      "cell_type": "code",
      "source": [
        "dfApatFromParquet = spark.read\\\n",
        "            .format(\"parquet\")\\\n",
        "            .option(\"mode\", \"FAILFAST\")\\\n",
        "            .load(os.environ[\"DRIVE_DATA\"] + \"dfApat_small.parquet\")\n",
        "dfApatFromParquet.show()"
      ],
      "metadata": {
        "colab": {
          "base_uri": "https://localhost:8080/"
        },
        "id": "elq4lwWQdN2G",
        "outputId": "7e524461-ddce-4e65-bdb6-e34af11e3842"
      },
      "execution_count": 58,
      "outputs": [
        {
          "output_type": "stream",
          "name": "stdout",
          "text": [
            "+---------+-------+----+\n",
            "|PatentNum|country|Year|\n",
            "+---------+-------+----+\n",
            "|  3070801|   \"BE\"|1963|\n",
            "|  3070802|   \"US\"|1963|\n",
            "|  3070803|   \"US\"|1963|\n",
            "|  3070804|   \"US\"|1963|\n",
            "|  3070805|   \"US\"|1963|\n",
            "|  3070806|   \"US\"|1963|\n",
            "|  3070807|   \"US\"|1963|\n",
            "|  3070808|   \"US\"|1963|\n",
            "|  3070809|   \"US\"|1963|\n",
            "|  3070810|   \"US\"|1963|\n",
            "|  3070811|   \"US\"|1963|\n",
            "|  3070812|   \"US\"|1963|\n",
            "|  3070813|   \"US\"|1963|\n",
            "|  3070814|   \"US\"|1963|\n",
            "|  3070815|   \"US\"|1963|\n",
            "|  3070816|   \"US\"|1963|\n",
            "|  3070817|   \"US\"|1963|\n",
            "|  3070818|   \"US\"|1963|\n",
            "|  3070819|   \"US\"|1963|\n",
            "|  3070820|   \"GB\"|1963|\n",
            "+---------+-------+----+\n",
            "only showing top 20 rows\n",
            "\n"
          ]
        }
      ]
    },
    {
      "cell_type": "code",
      "source": [
        "dfCitationsFromParquet = spark.read\\\n",
        "            .format(\"parquet\")\\\n",
        "            .option(\"mode\", \"FAILFAST\")\\\n",
        "            .load(os.environ[\"DRIVE_DATA\"] + \"dfCitations_modified_Reversed_reduced.parquet\")\n",
        "dfCitationsFromParquet.show()"
      ],
      "metadata": {
        "colab": {
          "base_uri": "https://localhost:8080/"
        },
        "id": "pK4Ts5oBd9o0",
        "outputId": "8c8e44f6-ef25-4e45-89d9-dd74c0b5dc8e"
      },
      "execution_count": 59,
      "outputs": [
        {
          "output_type": "stream",
          "name": "stdout",
          "text": [
            "+---------+----------+\n",
            "|PatentNum|ncitations|\n",
            "+---------+----------+\n",
            "|  3557384|        13|\n",
            "|  2949611|         4|\n",
            "|  3146465|        14|\n",
            "|  3684611|         6|\n",
            "|  2211676|         1|\n",
            "|  3176316|        29|\n",
            "|  3699969|        34|\n",
            "|  2875449|         2|\n",
            "|  3706104|         5|\n",
            "|  3289214|         5|\n",
            "|  3611446|         2|\n",
            "|  3748663|         3|\n",
            "|  2869141|         5|\n",
            "|  1106732|         1|\n",
            "|  3092049|         2|\n",
            "|  3319588|         6|\n",
            "|  2518060|         2|\n",
            "|  2331472|         2|\n",
            "|  2665963|         6|\n",
            "|  2702225|         2|\n",
            "+---------+----------+\n",
            "only showing top 20 rows\n",
            "\n"
          ]
        }
      ]
    },
    {
      "cell_type": "code",
      "source": [
        "initialJointDF = dfApat.join(dfCitations, dfApat.PatentNum == dfCitations.PatentNum, \"inner\")\\\n",
        "                        .drop(dfCitations.PatentNum)\\\n",
        "                        .select(\"country\", \"Year\", \"PatentNum\", \"ncitations\")\n",
        "initialJointDF.show()"
      ],
      "metadata": {
        "colab": {
          "base_uri": "https://localhost:8080/"
        },
        "id": "mKIsdhxEfALp",
        "outputId": "3cb44009-bf1d-44d6-d964-372b9fb94658"
      },
      "execution_count": 60,
      "outputs": [
        {
          "output_type": "stream",
          "name": "stdout",
          "text": [
            "+-------+----+---------+----------+\n",
            "|country|Year|PatentNum|ncitations|\n",
            "+-------+----+---------+----------+\n",
            "|   \"US\"|1963|  3070803|         9|\n",
            "|   \"US\"|1963|  3070804|         3|\n",
            "|   \"US\"|1963|  3070807|         3|\n",
            "|   \"US\"|1963|  3070810|         3|\n",
            "|   \"US\"|1963|  3070812|         3|\n",
            "|   \"US\"|1963|  3070816|         4|\n",
            "|   \"US\"|1963|  3070823|         8|\n",
            "|   \"US\"|1963|  3070824|         5|\n",
            "|   \"US\"|1963|  3070828|         4|\n",
            "|   \"FR\"|1963|  3070829|         5|\n",
            "|   \"US\"|1963|  3070832|         1|\n",
            "|   \"US\"|1963|  3070833|         5|\n",
            "|   \"US\"|1963|  3070836|        24|\n",
            "|   \"US\"|1963|  3070839|         8|\n",
            "|   \"GB\"|1963|  3070840|         6|\n",
            "|   \"US\"|1963|  3070845|         3|\n",
            "|   \"US\"|1963|  3070846|         9|\n",
            "|   \"DE\"|1963|  3070848|         1|\n",
            "|   \"US\"|1963|  3070850|        10|\n",
            "|   \"US\"|1963|  3070852|         7|\n",
            "+-------+----+---------+----------+\n",
            "only showing top 20 rows\n",
            "\n"
          ]
        }
      ]
    },
    {
      "cell_type": "code",
      "source": [
        "group_cols = [\"country\", \"Year\"]\n",
        "groupedJointDF = initialJointDF.groupBy(group_cols).agg(max(\"ncitations\").alias(\"max\"), avg(\"ncitations\").alias(\"average\")).sort(col(\"country\"),col(\"Year\"))\n",
        "groupedJointDF.show()"
      ],
      "metadata": {
        "colab": {
          "base_uri": "https://localhost:8080/"
        },
        "id": "8IrZG2ajea-o",
        "outputId": "f0b64872-fc74-4f9c-cde9-90dfcae615cc"
      },
      "execution_count": 61,
      "outputs": [
        {
          "output_type": "stream",
          "name": "stdout",
          "text": [
            "+-------+----+---+-------+\n",
            "|country|Year|max|average|\n",
            "+-------+----+---+-------+\n",
            "|   \"AD\"|1987|  3|    3.0|\n",
            "|   \"AD\"|1993|  1|    1.0|\n",
            "|   \"AD\"|1998|  1|    1.0|\n",
            "|   \"AE\"|1984|  5|    5.0|\n",
            "|   \"AE\"|1985| 14|   14.0|\n",
            "|   \"AE\"|1987|  3|    3.0|\n",
            "|   \"AE\"|1989|  7|    5.0|\n",
            "|   \"AE\"|1990|  2|    2.0|\n",
            "|   \"AE\"|1991|  3|    2.0|\n",
            "|   \"AE\"|1992|  4|    4.0|\n",
            "|   \"AE\"|1993|  8|    8.0|\n",
            "|   \"AE\"|1996|  1|    1.0|\n",
            "|   \"AG\"|1978|  6|    6.0|\n",
            "|   \"AG\"|1979| 14|   14.0|\n",
            "|   \"AG\"|1991|  8|    8.0|\n",
            "|   \"AG\"|1994| 19|   19.0|\n",
            "|   \"AG\"|1995| 11|    6.0|\n",
            "|   \"AG\"|1996|  2|    1.5|\n",
            "|   \"AM\"|1995|  2|    2.0|\n",
            "|   \"AN\"|1979|  1|    1.0|\n",
            "+-------+----+---+-------+\n",
            "only showing top 20 rows\n",
            "\n"
          ]
        }
      ]
    },
    {
      "cell_type": "code",
      "source": [
        "groupedJointDF = groupedJointDF.withColumn(\"diff\", col('max')-col('average'))\n",
        "groupedJointDF.show()"
      ],
      "metadata": {
        "colab": {
          "base_uri": "https://localhost:8080/"
        },
        "id": "qfDY5r9tlRKu",
        "outputId": "52b271b6-fada-44e0-823b-6722b72fa51c"
      },
      "execution_count": 62,
      "outputs": [
        {
          "output_type": "stream",
          "name": "stdout",
          "text": [
            "+-------+----+---+-------+----+\n",
            "|country|Year|max|average|diff|\n",
            "+-------+----+---+-------+----+\n",
            "|   \"AD\"|1987|  3|    3.0| 0.0|\n",
            "|   \"AD\"|1993|  1|    1.0| 0.0|\n",
            "|   \"AD\"|1998|  1|    1.0| 0.0|\n",
            "|   \"AE\"|1984|  5|    5.0| 0.0|\n",
            "|   \"AE\"|1985| 14|   14.0| 0.0|\n",
            "|   \"AE\"|1987|  3|    3.0| 0.0|\n",
            "|   \"AE\"|1989|  7|    5.0| 2.0|\n",
            "|   \"AE\"|1990|  2|    2.0| 0.0|\n",
            "|   \"AE\"|1991|  3|    2.0| 1.0|\n",
            "|   \"AE\"|1992|  4|    4.0| 0.0|\n",
            "|   \"AE\"|1993|  8|    8.0| 0.0|\n",
            "|   \"AE\"|1996|  1|    1.0| 0.0|\n",
            "|   \"AG\"|1978|  6|    6.0| 0.0|\n",
            "|   \"AG\"|1979| 14|   14.0| 0.0|\n",
            "|   \"AG\"|1991|  8|    8.0| 0.0|\n",
            "|   \"AG\"|1994| 19|   19.0| 0.0|\n",
            "|   \"AG\"|1995| 11|    6.0| 5.0|\n",
            "|   \"AG\"|1996|  2|    1.5| 0.5|\n",
            "|   \"AM\"|1995|  2|    2.0| 0.0|\n",
            "|   \"AN\"|1979|  1|    1.0| 0.0|\n",
            "+-------+----+---+-------+----+\n",
            "only showing top 20 rows\n",
            "\n"
          ]
        }
      ]
    },
    {
      "cell_type": "code",
      "source": [
        "newerJointDF = initialJointDF.join(groupedJointDF, group_cols).sort(col(\"country\"),col(\"Year\"))\n",
        "newerJointDF.show()"
      ],
      "metadata": {
        "colab": {
          "base_uri": "https://localhost:8080/"
        },
        "id": "LPEoDFCIgY3Q",
        "outputId": "0a0b84dd-4afa-4453-b18c-0611fb2f3f15"
      },
      "execution_count": 63,
      "outputs": [
        {
          "output_type": "stream",
          "name": "stdout",
          "text": [
            "+-------+----+---------+----------+---+-------+----+\n",
            "|country|Year|PatentNum|ncitations|max|average|diff|\n",
            "+-------+----+---------+----------+---+-------+----+\n",
            "|   \"AD\"|1987|  4688621|         3|  3|    3.0| 0.0|\n",
            "|   \"AD\"|1993|  5193231|         1|  1|    1.0| 0.0|\n",
            "|   \"AD\"|1998|  5765303|         1|  1|    1.0| 0.0|\n",
            "|   \"AE\"|1984|  4482959|         5|  5|    5.0| 0.0|\n",
            "|   \"AE\"|1985|  4554981|        14| 14|   14.0| 0.0|\n",
            "|   \"AE\"|1987|  4663181|         3|  3|    3.0| 0.0|\n",
            "|   \"AE\"|1989|  4805221|         7|  7|    5.0| 2.0|\n",
            "|   \"AE\"|1989|  4813707|         3|  7|    5.0| 2.0|\n",
            "|   \"AE\"|1990|  4909321|         2|  2|    2.0| 0.0|\n",
            "|   \"AE\"|1991|  5004552|         3|  3|    2.0| 1.0|\n",
            "|   \"AE\"|1991|  4997041|         1|  3|    2.0| 1.0|\n",
            "|   \"AE\"|1992|  5104556|         4|  4|    4.0| 0.0|\n",
            "|   \"AE\"|1993|  5181569|         8|  8|    8.0| 0.0|\n",
            "|   \"AE\"|1996|  5580125|         1|  1|    1.0| 0.0|\n",
            "|   \"AG\"|1978|  4126850|         6|  6|    6.0| 0.0|\n",
            "|   \"AG\"|1979|  4172981|        14| 14|   14.0| 0.0|\n",
            "|   \"AG\"|1991|  5013035|         8|  8|    8.0| 0.0|\n",
            "|   \"AG\"|1994|  5345071|        19| 19|   19.0| 0.0|\n",
            "|   \"AG\"|1995|  5472566|         1| 11|    6.0| 5.0|\n",
            "|   \"AG\"|1995|  5457307|        11| 11|    6.0| 5.0|\n",
            "+-------+----+---------+----------+---+-------+----+\n",
            "only showing top 20 rows\n",
            "\n"
          ]
        }
      ]
    },
    {
      "cell_type": "code",
      "source": [
        "newerJointDF = newerJointDF.where(newerJointDF.ncitations == newerJointDF.max).select(\"country\", \"Year\", \"PatentNum\",\"max\", \"average\", \"diff\")\n",
        "newerJointDF.show()"
      ],
      "metadata": {
        "colab": {
          "base_uri": "https://localhost:8080/"
        },
        "id": "zLWbpyDLoz2c",
        "outputId": "91071abc-2baf-416d-bbb7-5907e3421839"
      },
      "execution_count": 64,
      "outputs": [
        {
          "output_type": "stream",
          "name": "stdout",
          "text": [
            "+-------+----+---------+---+-------+----+\n",
            "|country|Year|PatentNum|max|average|diff|\n",
            "+-------+----+---------+---+-------+----+\n",
            "|   \"AD\"|1987|  4688621|  3|    3.0| 0.0|\n",
            "|   \"AD\"|1993|  5193231|  1|    1.0| 0.0|\n",
            "|   \"AD\"|1998|  5765303|  1|    1.0| 0.0|\n",
            "|   \"AE\"|1984|  4482959|  5|    5.0| 0.0|\n",
            "|   \"AE\"|1985|  4554981| 14|   14.0| 0.0|\n",
            "|   \"AE\"|1987|  4663181|  3|    3.0| 0.0|\n",
            "|   \"AE\"|1989|  4805221|  7|    5.0| 2.0|\n",
            "|   \"AE\"|1990|  4909321|  2|    2.0| 0.0|\n",
            "|   \"AE\"|1991|  5004552|  3|    2.0| 1.0|\n",
            "|   \"AE\"|1992|  5104556|  4|    4.0| 0.0|\n",
            "|   \"AE\"|1993|  5181569|  8|    8.0| 0.0|\n",
            "|   \"AE\"|1996|  5580125|  1|    1.0| 0.0|\n",
            "|   \"AG\"|1978|  4126850|  6|    6.0| 0.0|\n",
            "|   \"AG\"|1979|  4172981| 14|   14.0| 0.0|\n",
            "|   \"AG\"|1991|  5013035|  8|    8.0| 0.0|\n",
            "|   \"AG\"|1994|  5345071| 19|   19.0| 0.0|\n",
            "|   \"AG\"|1995|  5457307| 11|    6.0| 5.0|\n",
            "|   \"AG\"|1996|  5525786|  2|    1.5| 0.5|\n",
            "|   \"AM\"|1995|  5382341|  2|    2.0| 0.0|\n",
            "|   \"AN\"|1979|  4165701|  1|    1.0| 0.0|\n",
            "+-------+----+---------+---+-------+----+\n",
            "only showing top 20 rows\n",
            "\n"
          ]
        }
      ]
    },
    {
      "cell_type": "code",
      "source": [
        "# The output file should be a csv\n",
        "newerJointDF.write.mode('overwrite').csv(os.environ[\"DRIVE_DATA\"] + \"newerJointDF.csv\",header = 'true')"
      ],
      "metadata": {
        "id": "I043MvRTpmih"
      },
      "execution_count": 65,
      "outputs": []
    },
    {
      "cell_type": "markdown",
      "metadata": {
        "id": "ektPyLWzaImT"
      },
      "source": [
        "## Exercise 12.5\n",
        "\n",
        "From the Parquet file with the (PatentNum,Country,Year) information from Exercise 12.1, create a DataFrame that shows the number of patents associated to each country per decade (understanding as a *decade* the years from 0 to 9; e.g. from 1970 to 1979). In addition, the DataFrame must show the increase or decrease of the number of patents per country and decade with respect to the previous decade. The resulting DataFrame must look like this:\n",
        "\n",
        "|Country|Decade|PatentsNum|Diff|\n",
        "|-------|------|----------|----|\n",
        "|AD     |1980  |1         |0   |\n",
        "|AD     |1990  |5         |4   |\n",
        "|AE     |1980  |7         |0   |\n",
        "|AE     |1990  |11        |4   |\n",
        "|AG     |1970  |2         |0   |\n",
        "|AG     |1990  |7         |5   |\n",
        "|AI     |1990  |1         |0   |\n",
        "|AL     |1990  |1         |0   |\n",
        "|AM     |1990  |2         |0   |\n",
        "|AN     |1970  |1         |0   |\n",
        "|AN     |1980  |2         |1   |\n",
        "|AN     |1990  |5         |3   |\n",
        "|AR     |1960  |135       |0   |\n",
        "|AR     |1970  |239       |104 |\n",
        "|AR     |1980  |184       |-55 |\n",
        "|AR     |1990  |292       |108 |\n",
        "\n",
        "**Requirements**\n",
        "\n",
        "- The DataFrame must be sorted by country code and year.\n",
        "- Do **NOT** replace the country code by its whole name.\n",
        "- The output must be saved as a single CSV file, with a header and without any compression."
      ]
    },
    {
      "cell_type": "code",
      "source": [
        "dfApatFromParquet = spark.read\\\n",
        "            .format(\"parquet\")\\\n",
        "            .option(\"mode\", \"FAILFAST\")\\\n",
        "            .load(os.environ[\"DRIVE_DATA\"] + \"dfApat_small.parquet\")\n",
        "dfApatFromParquet.show()"
      ],
      "metadata": {
        "colab": {
          "base_uri": "https://localhost:8080/"
        },
        "id": "y0EWmoR4sYUW",
        "outputId": "ed653ee8-6262-4b6f-ee87-e6446c2a4d7d"
      },
      "execution_count": 66,
      "outputs": [
        {
          "output_type": "stream",
          "name": "stdout",
          "text": [
            "+---------+-------+----+\n",
            "|PatentNum|country|Year|\n",
            "+---------+-------+----+\n",
            "|  3070801|   \"BE\"|1963|\n",
            "|  3070802|   \"US\"|1963|\n",
            "|  3070803|   \"US\"|1963|\n",
            "|  3070804|   \"US\"|1963|\n",
            "|  3070805|   \"US\"|1963|\n",
            "|  3070806|   \"US\"|1963|\n",
            "|  3070807|   \"US\"|1963|\n",
            "|  3070808|   \"US\"|1963|\n",
            "|  3070809|   \"US\"|1963|\n",
            "|  3070810|   \"US\"|1963|\n",
            "|  3070811|   \"US\"|1963|\n",
            "|  3070812|   \"US\"|1963|\n",
            "|  3070813|   \"US\"|1963|\n",
            "|  3070814|   \"US\"|1963|\n",
            "|  3070815|   \"US\"|1963|\n",
            "|  3070816|   \"US\"|1963|\n",
            "|  3070817|   \"US\"|1963|\n",
            "|  3070818|   \"US\"|1963|\n",
            "|  3070819|   \"US\"|1963|\n",
            "|  3070820|   \"GB\"|1963|\n",
            "+---------+-------+----+\n",
            "only showing top 20 rows\n",
            "\n"
          ]
        }
      ]
    },
    {
      "cell_type": "code",
      "source": [
        "dfApatFromParquet = dfApatFromParquet.withColumn(\"Decade\", (f.floor(dfApatFromParquet[\"Year\"]/10)*10)\\\n",
        "                                                .cast(\"int\"))\\\n",
        "                                                .drop(\"Year\")\\\n",
        "                                                .select(\"Country\", \"Decade\", \"PatentNum\")\n",
        "dfApatFromParquet.show()"
      ],
      "metadata": {
        "colab": {
          "base_uri": "https://localhost:8080/"
        },
        "id": "Owsie0BQsY_B",
        "outputId": "77b3b7d2-aa9b-49f6-e04b-6be7fab01627"
      },
      "execution_count": 67,
      "outputs": [
        {
          "output_type": "stream",
          "name": "stdout",
          "text": [
            "+-------+------+---------+\n",
            "|Country|Decade|PatentNum|\n",
            "+-------+------+---------+\n",
            "|   \"BE\"|  1960|  3070801|\n",
            "|   \"US\"|  1960|  3070802|\n",
            "|   \"US\"|  1960|  3070803|\n",
            "|   \"US\"|  1960|  3070804|\n",
            "|   \"US\"|  1960|  3070805|\n",
            "|   \"US\"|  1960|  3070806|\n",
            "|   \"US\"|  1960|  3070807|\n",
            "|   \"US\"|  1960|  3070808|\n",
            "|   \"US\"|  1960|  3070809|\n",
            "|   \"US\"|  1960|  3070810|\n",
            "|   \"US\"|  1960|  3070811|\n",
            "|   \"US\"|  1960|  3070812|\n",
            "|   \"US\"|  1960|  3070813|\n",
            "|   \"US\"|  1960|  3070814|\n",
            "|   \"US\"|  1960|  3070815|\n",
            "|   \"US\"|  1960|  3070816|\n",
            "|   \"US\"|  1960|  3070817|\n",
            "|   \"US\"|  1960|  3070818|\n",
            "|   \"US\"|  1960|  3070819|\n",
            "|   \"GB\"|  1960|  3070820|\n",
            "+-------+------+---------+\n",
            "only showing top 20 rows\n",
            "\n"
          ]
        }
      ]
    },
    {
      "cell_type": "code",
      "source": [
        "rddApatFromParquet1 = dfApatFromParquet.sort(col(\"country\"))\\\n",
        "                                      .rdd\\\n",
        "                                      .map(lambda x: ((x[0],x[1]),1))\\\n",
        "                                      .reduceByKey(lambda a,b: a+b)\n",
        "rddApatFromParquet1.take(10)"
      ],
      "metadata": {
        "colab": {
          "base_uri": "https://localhost:8080/"
        },
        "id": "r_0b1SjPtNAt",
        "outputId": "45195388-5a8b-4475-bd18-6d6aee80eaaa"
      },
      "execution_count": 68,
      "outputs": [
        {
          "output_type": "execute_result",
          "data": {
            "text/plain": [
              "[(('\"AD\"', 1980), 1),\n",
              " (('\"AD\"', 1990), 5),\n",
              " (('\"AE\"', 1980), 7),\n",
              " (('\"AE\"', 1990), 11),\n",
              " (('\"AG\"', 1970), 2),\n",
              " (('\"AG\"', 1990), 7),\n",
              " (('\"AI\"', 1990), 1),\n",
              " (('\"AN\"', 1970), 1),\n",
              " (('\"AN\"', 1980), 2),\n",
              " (('\"AN\"', 1990), 5)]"
            ]
          },
          "metadata": {},
          "execution_count": 68
        }
      ]
    },
    {
      "cell_type": "code",
      "source": [
        "rddApatFromParquet2 = rddApatFromParquet1.map(lambda x: (x[0][0], x[0][1], x[1]))\n",
        "rddApatFromParquet2.take(10)"
      ],
      "metadata": {
        "colab": {
          "base_uri": "https://localhost:8080/"
        },
        "id": "_zBOUHOjuzuu",
        "outputId": "90bbff91-d9b0-4997-bc3b-46887a44aed2"
      },
      "execution_count": 69,
      "outputs": [
        {
          "output_type": "execute_result",
          "data": {
            "text/plain": [
              "[('\"AD\"', 1980, 1),\n",
              " ('\"AD\"', 1990, 5),\n",
              " ('\"AE\"', 1980, 7),\n",
              " ('\"AE\"', 1990, 11),\n",
              " ('\"AG\"', 1970, 2),\n",
              " ('\"AG\"', 1990, 7),\n",
              " ('\"AI\"', 1990, 1),\n",
              " ('\"AN\"', 1970, 1),\n",
              " ('\"AN\"', 1980, 2),\n",
              " ('\"AN\"', 1990, 5)]"
            ]
          },
          "metadata": {},
          "execution_count": 69
        }
      ]
    },
    {
      "cell_type": "code",
      "source": [
        "dfApatFromParquet3=rddApatFromParquet2.toDF()\\\n",
        "                                        .withColumnRenamed(\"_1\", \"Country\")\\\n",
        "                                        .withColumnRenamed(\"_2\", \"Decade\")\\\n",
        "                                        .withColumnRenamed(\"_3\",\"PatentsNum\")\n",
        "dfApatFromParquet3.show()"
      ],
      "metadata": {
        "colab": {
          "base_uri": "https://localhost:8080/"
        },
        "id": "kx6sFy4C0qfq",
        "outputId": "aff4b36a-5a81-448b-82b9-07ba65a1e841"
      },
      "execution_count": 70,
      "outputs": [
        {
          "output_type": "stream",
          "name": "stdout",
          "text": [
            "+-------+------+----------+\n",
            "|Country|Decade|PatentsNum|\n",
            "+-------+------+----------+\n",
            "|   \"AD\"|  1980|         1|\n",
            "|   \"AD\"|  1990|         5|\n",
            "|   \"AE\"|  1980|         7|\n",
            "|   \"AE\"|  1990|        11|\n",
            "|   \"AG\"|  1970|         2|\n",
            "|   \"AG\"|  1990|         7|\n",
            "|   \"AI\"|  1990|         1|\n",
            "|   \"AN\"|  1970|         1|\n",
            "|   \"AN\"|  1980|         2|\n",
            "|   \"AN\"|  1990|         5|\n",
            "|   \"AR\"|  1960|       135|\n",
            "|   \"AR\"|  1970|       239|\n",
            "|   \"AR\"|  1980|       184|\n",
            "|   \"AR\"|  1990|       292|\n",
            "|   \"AT\"|  1960|       950|\n",
            "|   \"AT\"|  1970|      2588|\n",
            "|   \"AT\"|  1980|      3057|\n",
            "|   \"AT\"|  1990|      3665|\n",
            "|   \"AU\"|  1960|       796|\n",
            "|   \"AU\"|  1970|      2208|\n",
            "+-------+------+----------+\n",
            "only showing top 20 rows\n",
            "\n"
          ]
        }
      ]
    },
    {
      "cell_type": "code",
      "source": [
        "window = Window.partitionBy(\"Country\").orderBy(\"Decade\")\n",
        "\n",
        "dfApatFromParquet4 = dfApatFromParquet3.withColumn(\"Diff\", f.col(\"PatentsNum\") - f.lag(f.col(\"PatentsNum\"), 1, 0)\\\n",
        "                                                   .over(window))\n",
        "dfApatFromParquet4.show()"
      ],
      "metadata": {
        "colab": {
          "base_uri": "https://localhost:8080/"
        },
        "id": "s7W9eg0NzxKk",
        "outputId": "f5da4858-867f-41a3-c8e7-96f2051b40ab"
      },
      "execution_count": 71,
      "outputs": [
        {
          "output_type": "stream",
          "name": "stdout",
          "text": [
            "+-------+------+----------+----+\n",
            "|Country|Decade|PatentsNum|Diff|\n",
            "+-------+------+----------+----+\n",
            "|   \"AD\"|  1980|         1|   1|\n",
            "|   \"AD\"|  1990|         5|   4|\n",
            "|   \"AE\"|  1980|         7|   7|\n",
            "|   \"AE\"|  1990|        11|   4|\n",
            "|   \"AG\"|  1970|         2|   2|\n",
            "|   \"AG\"|  1990|         7|   5|\n",
            "|   \"AI\"|  1990|         1|   1|\n",
            "|   \"AL\"|  1990|         1|   1|\n",
            "|   \"AM\"|  1990|         2|   2|\n",
            "|   \"AN\"|  1970|         1|   1|\n",
            "|   \"AN\"|  1980|         2|   1|\n",
            "|   \"AN\"|  1990|         5|   3|\n",
            "|   \"AR\"|  1960|       135| 135|\n",
            "|   \"AR\"|  1970|       239| 104|\n",
            "|   \"AR\"|  1980|       184| -55|\n",
            "|   \"AR\"|  1990|       292| 108|\n",
            "|   \"AT\"|  1960|       950| 950|\n",
            "|   \"AT\"|  1970|      2588|1638|\n",
            "|   \"AT\"|  1980|      3057| 469|\n",
            "|   \"AT\"|  1990|      3665| 608|\n",
            "+-------+------+----------+----+\n",
            "only showing top 20 rows\n",
            "\n"
          ]
        }
      ]
    },
    {
      "cell_type": "code",
      "source": [
        "# Now I need to find a way to get the intial occurrence to have a 0 in Diff\n",
        "\n",
        "# Proof for the following implication : (PatentsNum == Diff) => (PatentsNum is the initial occurrence for this country) \n",
        "\n",
        "# Let's consider its negation, ie : (PatentsNum is not the initial occurrence for this country) => (PatentsNum != Diff)\n",
        "\n",
        "# Given this dataframe: \n",
        "# +-------+------+----------+----+\n",
        "# |Country|Decade|PatentsNum|Diff|\n",
        "# +-------+------+----------+----+\n",
        "# |   \"AD\"|  1980|         a|   b|\n",
        "# |   \"AD\"|  1990|         c|   d|\n",
        "\n",
        "# For the second occurrence, if c == d , then c == c-a (because d == c-a)\n",
        "# Therefore a == 0 Absurd because a is the number of patents in that year, \n",
        "# and we only have years where these countries had patents, so a is strictly positive.\n",
        "\n",
        "# Conclusion : (PatentsNum == Diff) => (PatentsNum is the initial occurrence for this country)\n",
        "\n",
        "dfApatFromParquet4 = dfApatFromParquet4.rdd.map(lambda x: (x[0], x[1], x[2], 0) if x[2] == x[3] else (x[0], x[1], x[2], x[3]) )\n",
        "\n",
        "\n",
        "dfApatFromParquet5 = dfApatFromParquet4.toDF().withColumnRenamed(\"_1\", \"Country\").withColumnRenamed(\"_2\", \"Decade\").withColumnRenamed(\"_3\",\"PatentsNum\").withColumnRenamed(\"_4\",\"Diff\")\n",
        "dfApatFromParquet5.show()"
      ],
      "metadata": {
        "colab": {
          "base_uri": "https://localhost:8080/"
        },
        "id": "-du6UnF8BJ2m",
        "outputId": "75cc0ec7-70c3-4a13-fe33-8996bc47f7c6"
      },
      "execution_count": 72,
      "outputs": [
        {
          "output_type": "stream",
          "name": "stdout",
          "text": [
            "+-------+------+----------+----+\n",
            "|Country|Decade|PatentsNum|Diff|\n",
            "+-------+------+----------+----+\n",
            "|   \"AD\"|  1980|         1|   0|\n",
            "|   \"AD\"|  1990|         5|   4|\n",
            "|   \"AE\"|  1980|         7|   0|\n",
            "|   \"AE\"|  1990|        11|   4|\n",
            "|   \"AG\"|  1970|         2|   0|\n",
            "|   \"AG\"|  1990|         7|   5|\n",
            "|   \"AI\"|  1990|         1|   0|\n",
            "|   \"AL\"|  1990|         1|   0|\n",
            "|   \"AM\"|  1990|         2|   0|\n",
            "|   \"AN\"|  1970|         1|   0|\n",
            "|   \"AN\"|  1980|         2|   1|\n",
            "|   \"AN\"|  1990|         5|   3|\n",
            "|   \"AR\"|  1960|       135|   0|\n",
            "|   \"AR\"|  1970|       239| 104|\n",
            "|   \"AR\"|  1980|       184| -55|\n",
            "|   \"AR\"|  1990|       292| 108|\n",
            "|   \"AT\"|  1960|       950|   0|\n",
            "|   \"AT\"|  1970|      2588|1638|\n",
            "|   \"AT\"|  1980|      3057| 469|\n",
            "|   \"AT\"|  1990|      3665| 608|\n",
            "+-------+------+----------+----+\n",
            "only showing top 20 rows\n",
            "\n"
          ]
        }
      ]
    },
    {
      "cell_type": "code",
      "source": [
        "# The output file should be a csv\n",
        "dfApatFromParquet5.write.mode('overwrite').csv(os.environ[\"DRIVE_DATA\"] + \"dfApatFromParquet5.csv\",header = 'true')"
      ],
      "metadata": {
        "id": "Tz9NHLNyDZCS"
      },
      "execution_count": 73,
      "outputs": []
    },
    {
      "cell_type": "markdown",
      "metadata": {
        "id": "usL5LynSI6rE"
      },
      "source": [
        "## Exercise 11.1:\n",
        "\n",
        "A long time ago in a galaxy far, far away, the characters of the Star Wars franchise interacted with each other in an endless series of films. An ancient Jedi order, called the *Data Guardians of the Galaxy* (not affiliated to Marvel's homonym :) registered all those interactions and saved them on a digital file so that they could be studied by the forthcoming generations. This file was originally called (guess it) `sw.txt`, and you will find it in the `/data` directory. \n",
        "\n",
        "Using pySpark, perform the following operations and answer the following questions:\n",
        "\n",
        "1. Load the `$DRIVE_DATA/sw.txt` file. Take into account that it is a JSON file.\n",
        "2. Using this information, create a graph of interactions between the Star Wars characters.\n",
        "3. How many different characters are there?\n",
        "4. How many interactions are there?\n",
        "5. Who is the central character in Star Wars (the one who interacts in most scenes)? \n",
        "6. Who is the character with the highest 'rank' in Star Wars (use the PageRank algorithm)?"
      ]
    },
    {
      "cell_type": "code",
      "source": [
        "# Question 1 \n",
        "dfSW = (spark\n",
        "    .read\n",
        "    .format(\"json\")\n",
        "    .option(\"inferSchema\", \"true\")\n",
        "    .option(\"header\", \"false\")\n",
        "    .option(\"multiline\",\"true\")\n",
        "    .load(os.environ[\"DRIVE_DATA\"] + \"/sw.txt\"))"
      ],
      "metadata": {
        "id": "iFUYdUzN7DLF"
      },
      "execution_count": null,
      "outputs": []
    },
    {
      "cell_type": "code",
      "source": [
        "dfSW.show(dfSW.rdd.count(),False, vertical=True)"
      ],
      "metadata": {
        "id": "i7x0ju17x51k"
      },
      "execution_count": null,
      "outputs": []
    },
    {
      "cell_type": "code",
      "source": [
        "# Question 2 \n"
      ],
      "metadata": {
        "id": "b3KuRCc720lL"
      },
      "execution_count": null,
      "outputs": []
    }
  ]
}